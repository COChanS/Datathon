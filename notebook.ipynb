{
 "cells": [
  {
   "cell_type": "markdown",
   "id": "17880437",
   "metadata": {
    "papermill": {
     "duration": 0.021864,
     "end_time": "2024-04-22T15:53:04.288047",
     "exception": false,
     "start_time": "2024-04-22T15:53:04.266183",
     "status": "completed"
    },
    "tags": []
   },
   "source": [
    "***"
   ]
  },
  {
   "cell_type": "markdown",
   "id": "280d7e55",
   "metadata": {
    "papermill": {
     "duration": 0.020975,
     "end_time": "2024-04-22T15:53:04.331237",
     "exception": false,
     "start_time": "2024-04-22T15:53:04.310262",
     "status": "completed"
    },
    "tags": []
   },
   "source": [
    "1. Preprocessing\n",
    "2. Feature Engineering\n",
    "3. Model Fitting\n",
    "4. Ensemble\n",
    "5. Evaluation"
   ]
  },
  {
   "cell_type": "markdown",
   "id": "993f53f6",
   "metadata": {
    "papermill": {
     "duration": 0.021175,
     "end_time": "2024-04-22T15:53:04.373665",
     "exception": false,
     "start_time": "2024-04-22T15:53:04.352490",
     "status": "completed"
    },
    "tags": []
   },
   "source": [
    "***"
   ]
  },
  {
   "cell_type": "code",
   "execution_count": 1,
   "id": "55607304",
   "metadata": {
    "_cell_guid": "b1076dfc-b9ad-4769-8c92-a6c4dae69d19",
    "_uuid": "8f2839f25d086af736a60e9eeb907d3b93b6e0e5",
    "execution": {
     "iopub.execute_input": "2024-04-22T15:53:04.418511Z",
     "iopub.status.busy": "2024-04-22T15:53:04.418062Z",
     "iopub.status.idle": "2024-04-22T15:53:06.790581Z",
     "shell.execute_reply": "2024-04-22T15:53:06.789417Z"
    },
    "papermill": {
     "duration": 2.399002,
     "end_time": "2024-04-22T15:53:06.794189",
     "exception": false,
     "start_time": "2024-04-22T15:53:04.395187",
     "status": "completed"
    },
    "tags": []
   },
   "outputs": [
    {
     "name": "stdout",
     "output_type": "stream",
     "text": [
      "/kaggle/input/catboost/submission.csv\n",
      "/kaggle/input/catboost/catboost_info/test_error.tsv\n",
      "/kaggle/input/catboost/catboost_info/learn_error.tsv\n",
      "/kaggle/input/catboost/catboost_info/catboost_training.json\n",
      "/kaggle/input/catboost/catboost_info/time_left.tsv\n",
      "/kaggle/input/catboost/catboost_info/learn/events.out.tfevents\n",
      "/kaggle/input/catboost/catboost_info/test/events.out.tfevents\n",
      "/kaggle/input/catboost2/submission.csv\n",
      "/kaggle/input/catboost2/catboost_info/test_error.tsv\n",
      "/kaggle/input/catboost2/catboost_info/learn_error.tsv\n",
      "/kaggle/input/catboost2/catboost_info/catboost_training.json\n",
      "/kaggle/input/catboost2/catboost_info/time_left.tsv\n",
      "/kaggle/input/catboost2/catboost_info/learn/events.out.tfevents\n",
      "/kaggle/input/catboost2/catboost_info/test/events.out.tfevents\n",
      "/kaggle/input/widsdatathon2024-challenge1/sample_submission.csv\n",
      "/kaggle/input/widsdatathon2024-challenge1/training.csv\n",
      "/kaggle/input/widsdatathon2024-challenge1/test.csv\n"
     ]
    }
   ],
   "source": [
    "import numpy as np\n",
    "import pandas as pd\n",
    "import matplotlib.pyplot as plt\n",
    "%matplotlib inline\n",
    "import seaborn as sns\n",
    "import os\n",
    "for dirname, _, filenames in os.walk('/kaggle/input'):\n",
    "    for filename in filenames:\n",
    "        print(os.path.join(dirname, filename))"
   ]
  },
  {
   "cell_type": "code",
   "execution_count": 2,
   "id": "6447c1e3",
   "metadata": {
    "execution": {
     "iopub.execute_input": "2024-04-22T15:53:06.841922Z",
     "iopub.status.busy": "2024-04-22T15:53:06.841398Z",
     "iopub.status.idle": "2024-04-22T15:53:11.098864Z",
     "shell.execute_reply": "2024-04-22T15:53:11.097640Z"
    },
    "papermill": {
     "duration": 4.284237,
     "end_time": "2024-04-22T15:53:11.101777",
     "exception": false,
     "start_time": "2024-04-22T15:53:06.817540",
     "status": "completed"
    },
    "tags": []
   },
   "outputs": [],
   "source": [
    "from catboost import Pool, CatBoostClassifier as catboost\n",
    "from xgboost import XGBClassifier as xgb\n",
    "from lightgbm import LGBMClassifier as lgb, log_evaluation, early_stopping\n",
    "from sklearn.model_selection import train_test_split, GridSearchCV, StratifiedKFold, cross_val_score\n",
    "from sklearn.compose import ColumnTransformer, make_column_selector\n",
    "from sklearn.impute import SimpleImputer\n",
    "from sklearn.preprocessing import StandardScaler, OneHotEncoder, LabelEncoder, FunctionTransformer, OrdinalEncoder\n",
    "from sklearn.pipeline import Pipeline, make_pipeline\n",
    "from sklearn import linear_model\n",
    "from sklearn.ensemble import RandomForestClassifier, VotingClassifier, IsolationForest\n",
    "from sklearn.metrics import roc_auc_score, make_scorer, confusion_matrix\n",
    "from category_encoders import CatBoostEncoder\n",
    "from sklearn.semi_supervised import SelfTrainingClassifier\n",
    "from sklearn.neighbors import LocalOutlierFactor\n",
    "import optuna\n",
    "from sklearn.utils import resample"
   ]
  },
  {
   "cell_type": "code",
   "execution_count": 3,
   "id": "6ab21093",
   "metadata": {
    "execution": {
     "iopub.execute_input": "2024-04-22T15:53:11.147201Z",
     "iopub.status.busy": "2024-04-22T15:53:11.146802Z",
     "iopub.status.idle": "2024-04-22T15:53:11.152151Z",
     "shell.execute_reply": "2024-04-22T15:53:11.150969Z"
    },
    "papermill": {
     "duration": 0.030872,
     "end_time": "2024-04-22T15:53:11.154571",
     "exception": false,
     "start_time": "2024-04-22T15:53:11.123699",
     "status": "completed"
    },
    "tags": []
   },
   "outputs": [],
   "source": [
    "pd.set_option('display.max_columns', None)\n",
    "pd.set_option('display.max_rows', None)"
   ]
  },
  {
   "cell_type": "markdown",
   "id": "ec0454c1",
   "metadata": {
    "papermill": {
     "duration": 0.0214,
     "end_time": "2024-04-22T15:53:11.197572",
     "exception": false,
     "start_time": "2024-04-22T15:53:11.176172",
     "status": "completed"
    },
    "tags": []
   },
   "source": [
    "Load Data"
   ]
  },
  {
   "cell_type": "code",
   "execution_count": 4,
   "id": "cb9c61ef",
   "metadata": {
    "execution": {
     "iopub.execute_input": "2024-04-22T15:53:11.242736Z",
     "iopub.status.busy": "2024-04-22T15:53:11.242246Z",
     "iopub.status.idle": "2024-04-22T15:53:11.860059Z",
     "shell.execute_reply": "2024-04-22T15:53:11.858852Z"
    },
    "papermill": {
     "duration": 0.643923,
     "end_time": "2024-04-22T15:53:11.863178",
     "exception": false,
     "start_time": "2024-04-22T15:53:11.219255",
     "status": "completed"
    },
    "tags": []
   },
   "outputs": [],
   "source": [
    "path = '/kaggle/input/widsdatathon2024-challenge1'\n",
    "training = pd.read_csv(f\"{path}/training.csv\")\n",
    "test = pd.read_csv(f\"{path}/test.csv\")\n",
    "submission = pd.read_csv(f\"{path}/sample_submission.csv\")\n",
    "catboost_df = pd.read_csv(\"/kaggle/input/catboost2/submission.csv\")"
   ]
  },
  {
   "cell_type": "markdown",
   "id": "2848f553",
   "metadata": {
    "papermill": {
     "duration": 0.022042,
     "end_time": "2024-04-22T15:53:11.907848",
     "exception": false,
     "start_time": "2024-04-22T15:53:11.885806",
     "status": "completed"
    },
    "tags": []
   },
   "source": [
    "<span style=\"color:crimson;\">Columns by category</span> patients, zipinfo, air"
   ]
  },
  {
   "cell_type": "code",
   "execution_count": 5,
   "id": "34afab99",
   "metadata": {
    "execution": {
     "iopub.execute_input": "2024-04-22T15:53:11.953192Z",
     "iopub.status.busy": "2024-04-22T15:53:11.952810Z",
     "iopub.status.idle": "2024-04-22T15:53:11.962412Z",
     "shell.execute_reply": "2024-04-22T15:53:11.961213Z"
    },
    "papermill": {
     "duration": 0.035468,
     "end_time": "2024-04-22T15:53:11.964938",
     "exception": false,
     "start_time": "2024-04-22T15:53:11.929470",
     "status": "completed"
    },
    "tags": []
   },
   "outputs": [],
   "source": [
    "pat_col = ['patient_id', 'patient_race', 'payer_type', 'patient_state', 'patient_zip3', 'patient_age', 'patient_gender', 'bmi','breast_cancer_diagnosis_code', 'breast_cancer_diagnosis_desc',\n",
    "       'metastatic_cancer_diagnosis_code', 'metastatic_first_novel_treatment',\n",
    "       'metastatic_first_novel_treatment_type', 'Region', 'Division']\n",
    "zip_col = ['population', 'density', 'age_median', 'age_under_10', 'age_10_to_19',\n",
    "       'age_20s', 'age_30s', 'age_40s', 'age_50s', 'age_60s', 'age_70s',\n",
    "       'age_over_80', 'male', 'female', 'married', 'divorced', 'never_married',\n",
    "       'widowed', 'family_size', 'family_dual_income',\n",
    "       'income_household_median', 'income_household_under_5',\n",
    "       'income_household_5_to_10', 'income_household_10_to_15',\n",
    "       'income_household_15_to_20', 'income_household_20_to_25',\n",
    "       'income_household_25_to_35', 'income_household_35_to_50',\n",
    "       'income_household_50_to_75', 'income_household_75_to_100',\n",
    "       'income_household_100_to_150', 'income_household_150_over',\n",
    "       'income_household_six_figure', 'income_individual_median',\n",
    "       'home_ownership', 'housing_units', 'home_value', 'rent_median',\n",
    "       'rent_burden', 'education_less_highschool', 'education_highschool',\n",
    "       'education_some_college', 'education_bachelors', 'education_graduate',\n",
    "       'education_college_or_above', 'education_stem_degree',\n",
    "       'labor_force_participation', 'unemployment_rate', 'self_employed',\n",
    "       'farmer', 'race_white', 'race_black', 'race_asian', 'race_native',\n",
    "       'race_pacific', 'race_other', 'race_multiple', 'hispanic', 'disabled',\n",
    "       'poverty', 'limited_english', 'commute_time', 'health_uninsured',\n",
    "       'veteran']\n",
    "air_col = ['Ozone', 'PM25', 'N02']"
   ]
  },
  {
   "cell_type": "markdown",
   "id": "121b0e7b",
   "metadata": {
    "papermill": {
     "duration": 0.086481,
     "end_time": "2024-04-22T15:53:12.073906",
     "exception": false,
     "start_time": "2024-04-22T15:53:11.987425",
     "status": "completed"
    },
    "tags": []
   },
   "source": [
    "Categorical data"
   ]
  },
  {
   "cell_type": "code",
   "execution_count": 6,
   "id": "7a587459",
   "metadata": {
    "execution": {
     "iopub.execute_input": "2024-04-22T15:53:12.119480Z",
     "iopub.status.busy": "2024-04-22T15:53:12.119057Z",
     "iopub.status.idle": "2024-04-22T15:53:12.125445Z",
     "shell.execute_reply": "2024-04-22T15:53:12.124227Z"
    },
    "papermill": {
     "duration": 0.032001,
     "end_time": "2024-04-22T15:53:12.127937",
     "exception": false,
     "start_time": "2024-04-22T15:53:12.095936",
     "status": "completed"
    },
    "tags": []
   },
   "outputs": [],
   "source": [
    "cat_col = training.select_dtypes('object')"
   ]
  },
  {
   "cell_type": "code",
   "execution_count": 7,
   "id": "9e74d997",
   "metadata": {
    "execution": {
     "iopub.execute_input": "2024-04-22T15:53:12.174055Z",
     "iopub.status.busy": "2024-04-22T15:53:12.172945Z",
     "iopub.status.idle": "2024-04-22T15:53:12.219023Z",
     "shell.execute_reply": "2024-04-22T15:53:12.217867Z"
    },
    "papermill": {
     "duration": 0.071867,
     "end_time": "2024-04-22T15:53:12.221678",
     "exception": false,
     "start_time": "2024-04-22T15:53:12.149811",
     "status": "completed"
    },
    "tags": []
   },
   "outputs": [
    {
     "data": {
      "text/plain": [
       "{'breast_cancer_diagnosis_code', 'breast_cancer_diagnosis_desc'}"
      ]
     },
     "execution_count": 7,
     "metadata": {},
     "output_type": "execute_result"
    }
   ],
   "source": [
    "good_label_col = [col for col in cat_col if set(test[col]).issubset(set(training[col]))]\n",
    "bad_label_col = set(cat_col.columns)-set(good_label_col)\n",
    "bad_label_col"
   ]
  },
  {
   "cell_type": "code",
   "execution_count": 8,
   "id": "1339676e",
   "metadata": {
    "execution": {
     "iopub.execute_input": "2024-04-22T15:53:12.267494Z",
     "iopub.status.busy": "2024-04-22T15:53:12.267083Z",
     "iopub.status.idle": "2024-04-22T15:53:12.277408Z",
     "shell.execute_reply": "2024-04-22T15:53:12.276327Z"
    },
    "papermill": {
     "duration": 0.036098,
     "end_time": "2024-04-22T15:53:12.279824",
     "exception": false,
     "start_time": "2024-04-22T15:53:12.243726",
     "status": "completed"
    },
    "tags": []
   },
   "outputs": [
    {
     "data": {
      "text/plain": [
       "{'C50921', 'C50922'}"
      ]
     },
     "execution_count": 8,
     "metadata": {},
     "output_type": "execute_result"
    }
   ],
   "source": [
    "set(test['breast_cancer_diagnosis_code'])-set(training['breast_cancer_diagnosis_code'])"
   ]
  },
  {
   "cell_type": "markdown",
   "id": "d1cd4580",
   "metadata": {
    "papermill": {
     "duration": 0.021709,
     "end_time": "2024-04-22T15:53:12.324137",
     "exception": false,
     "start_time": "2024-04-22T15:53:12.302428",
     "status": "completed"
    },
    "tags": []
   },
   "source": [
    "Numerical data"
   ]
  },
  {
   "cell_type": "code",
   "execution_count": 9,
   "id": "b4908cdf",
   "metadata": {
    "execution": {
     "iopub.execute_input": "2024-04-22T15:53:12.370188Z",
     "iopub.status.busy": "2024-04-22T15:53:12.369786Z",
     "iopub.status.idle": "2024-04-22T15:53:12.379139Z",
     "shell.execute_reply": "2024-04-22T15:53:12.378131Z"
    },
    "papermill": {
     "duration": 0.035548,
     "end_time": "2024-04-22T15:53:12.381887",
     "exception": false,
     "start_time": "2024-04-22T15:53:12.346339",
     "status": "completed"
    },
    "tags": []
   },
   "outputs": [],
   "source": [
    "num_col = training.select_dtypes(include = ['int64','float64'])"
   ]
  },
  {
   "cell_type": "code",
   "execution_count": 10,
   "id": "01201a72",
   "metadata": {
    "execution": {
     "iopub.execute_input": "2024-04-22T15:53:12.428070Z",
     "iopub.status.busy": "2024-04-22T15:53:12.427644Z",
     "iopub.status.idle": "2024-04-22T15:53:12.672923Z",
     "shell.execute_reply": "2024-04-22T15:53:12.671878Z"
    },
    "papermill": {
     "duration": 0.271952,
     "end_time": "2024-04-22T15:53:12.675848",
     "exception": false,
     "start_time": "2024-04-22T15:53:12.403896",
     "status": "completed"
    },
    "tags": []
   },
   "outputs": [],
   "source": [
    "corr_matrix = num_col.corr().abs()\n",
    "mask = np.triu(np.ones_like(corr_matrix, dtype=bool))\n",
    "reduced_corr_matrix = corr_matrix.mask(mask)\n",
    "reduced_corr_matrix = reduced_corr_matrix.mask(reduced_corr_matrix<0.5, 0)\n",
    "#pairwise\n",
    "correlated_features = [c for c in reduced_corr_matrix.columns if any(reduced_corr_matrix[c] > 0.8)]\n",
    "correlated_pair = []\n",
    "for c in correlated_features:\n",
    "    idx = reduced_corr_matrix[reduced_corr_matrix[c] > 0.8].index.values.tolist()\n",
    "    value = reduced_corr_matrix.loc[idx, c]\n",
    "    correlated_pair.append([(idx, c), value])\n",
    "features_removed = ['population', 'male',\n",
    " 'income_household_under_5',\n",
    " 'income_household_5_to_10',\n",
    " 'income_household_10_to_15',\n",
    " 'income_household_15_to_20',\n",
    " 'income_household_20_to_25',\n",
    " 'income_household_25_to_35',\n",
    " 'income_household_35_to_50',\n",
    " 'income_household_100_to_150',\n",
    " 'income_household_150_over']"
   ]
  },
  {
   "cell_type": "markdown",
   "id": "6092851f",
   "metadata": {
    "papermill": {
     "duration": 0.022032,
     "end_time": "2024-04-22T15:53:12.720702",
     "exception": false,
     "start_time": "2024-04-22T15:53:12.698670",
     "status": "completed"
    },
    "tags": []
   },
   "source": [
    "## 1. Preprocessing"
   ]
  },
  {
   "cell_type": "markdown",
   "id": "bb5654d7",
   "metadata": {
    "papermill": {
     "duration": 0.022006,
     "end_time": "2024-04-22T15:53:12.765013",
     "exception": false,
     "start_time": "2024-04-22T15:53:12.743007",
     "status": "completed"
    },
    "tags": []
   },
   "source": [
    "**Parameters**"
   ]
  },
  {
   "cell_type": "code",
   "execution_count": 11,
   "id": "2ed6822f",
   "metadata": {
    "execution": {
     "iopub.execute_input": "2024-04-22T15:53:12.812111Z",
     "iopub.status.busy": "2024-04-22T15:53:12.811052Z",
     "iopub.status.idle": "2024-04-22T15:53:12.817264Z",
     "shell.execute_reply": "2024-04-22T15:53:12.815936Z"
    },
    "papermill": {
     "duration": 0.032519,
     "end_time": "2024-04-22T15:53:12.819832",
     "exception": false,
     "start_time": "2024-04-22T15:53:12.787313",
     "status": "completed"
    },
    "tags": []
   },
   "outputs": [],
   "source": [
    "#'catboost','xgboost','linear','linear_ens','rf','lgb'\n",
    "modelused = ['xgboost']\n",
    "predictions = []\n",
    "\n",
    "mtraining = False\n"
   ]
  },
  {
   "cell_type": "markdown",
   "id": "7fd68841",
   "metadata": {
    "papermill": {
     "duration": 0.02216,
     "end_time": "2024-04-22T15:53:12.864894",
     "exception": false,
     "start_time": "2024-04-22T15:53:12.842734",
     "status": "completed"
    },
    "tags": []
   },
   "source": [
    "Datasets:\n",
    "- full: (X_raw, target), test_raw\n",
    "- reduced: (X, target), test"
   ]
  },
  {
   "cell_type": "code",
   "execution_count": 12,
   "id": "843480de",
   "metadata": {
    "execution": {
     "iopub.execute_input": "2024-04-22T15:53:12.912784Z",
     "iopub.status.busy": "2024-04-22T15:53:12.911815Z",
     "iopub.status.idle": "2024-04-22T15:53:12.939471Z",
     "shell.execute_reply": "2024-04-22T15:53:12.938235Z"
    },
    "papermill": {
     "duration": 0.054663,
     "end_time": "2024-04-22T15:53:12.942404",
     "exception": false,
     "start_time": "2024-04-22T15:53:12.887741",
     "status": "completed"
    },
    "tags": []
   },
   "outputs": [],
   "source": [
    "target = training['DiagPeriodL90D']\n",
    "X_raw = training.drop('DiagPeriodL90D', axis = 1)\n",
    "X = X_raw.drop(features_removed, axis = 1)\n",
    "test_raw = test.copy()\n",
    "test = test.drop(features_removed, axis = 1)"
   ]
  },
  {
   "cell_type": "code",
   "execution_count": 13,
   "id": "4d52a4d5",
   "metadata": {
    "execution": {
     "iopub.execute_input": "2024-04-22T15:53:12.988422Z",
     "iopub.status.busy": "2024-04-22T15:53:12.987973Z",
     "iopub.status.idle": "2024-04-22T15:53:12.995795Z",
     "shell.execute_reply": "2024-04-22T15:53:12.994603Z"
    },
    "papermill": {
     "duration": 0.033728,
     "end_time": "2024-04-22T15:53:12.998242",
     "exception": false,
     "start_time": "2024-04-22T15:53:12.964514",
     "status": "completed"
    },
    "tags": []
   },
   "outputs": [],
   "source": [
    "def feature_pre(df):\n",
    "    df2 = df.copy()\n",
    "    payer_type = 'COMMERCIAL'\n",
    "    breast_cancer_diagnosis_dict = {'1744':'C50419', '1745':'C50519', '1749':'C50919', '1759':'C50421', '1741':'C50119', '1743':'C50319', '1742':'C50219', '1746':'C50619', '19881':'C7981', \n",
    "    'C50':'C50919', 'C509':'C50919', 'C5001':'C50019'}\n",
    "    df2['breast_cancer_diagnosis_90D_converted'] = df2['breast_cancer_diagnosis_code'].replace(breast_cancer_diagnosis_dict)\n",
    "    df2['uncovered'] = ((df2['payer_type']==payer_type) & (df2['health_uninsured']>=8)).astype(int)\n",
    "    \n",
    "    return df2"
   ]
  },
  {
   "cell_type": "code",
   "execution_count": 14,
   "id": "adb0db87",
   "metadata": {
    "execution": {
     "iopub.execute_input": "2024-04-22T15:53:13.043997Z",
     "iopub.status.busy": "2024-04-22T15:53:13.043611Z",
     "iopub.status.idle": "2024-04-22T15:53:13.057460Z",
     "shell.execute_reply": "2024-04-22T15:53:13.056029Z"
    },
    "papermill": {
     "duration": 0.040077,
     "end_time": "2024-04-22T15:53:13.060306",
     "exception": false,
     "start_time": "2024-04-22T15:53:13.020229",
     "status": "completed"
    },
    "tags": []
   },
   "outputs": [],
   "source": [
    "def fillbystate(df):\n",
    "    df2 = df.copy()\n",
    "    num_features = [col for col in df.columns if df[col].dtype in ['int64', 'float64']]\n",
    "    c_impute = list(set(num_features) & (set(zip_col) | set(air_col)))\n",
    "    df_fill = df.copy()\n",
    "    df2[c_impute] = df_fill.groupby(by='patient_state', sort=False, group_keys=False)[c_impute].apply(lambda x: x.fillna(x.mean()))\n",
    "    return df2\n",
    "\n",
    "def filltest(df):\n",
    "    df2 = df.copy()\n",
    "    num_features = [col for col in df.columns if df[col].dtype in ['int64', 'float64']]\n",
    "    c_impute = list(set(num_features) & (set(zip_col) | set(air_col)))\n",
    "    all_df = pd.concat([X, df2], axis=0, ignore_index=True)\n",
    "    all_df2 = all_df.copy()\n",
    "    all_df[c_impute] = all_df2.groupby(by='patient_state', sort=False, group_keys=False)[c_impute].apply(lambda x: x.fillna(x.mean()))\n",
    "    df2 = all_df.iloc[-len(df):]\n",
    "    return df2\n",
    "\n",
    "def fillCat(df):\n",
    "    df2 = df.copy()\n",
    "    df2 = df.fillna(\"NaN\")\n",
    "    return df2\n",
    "\n",
    "def dropcolumn(df):\n",
    "    df2 = df.copy()\n",
    "    df2 = df2.drop(['bmi'], axis=1)\n",
    "    return df2"
   ]
  },
  {
   "cell_type": "markdown",
   "id": "1fe58f7b",
   "metadata": {
    "papermill": {
     "duration": 0.022038,
     "end_time": "2024-04-22T15:53:13.105054",
     "exception": false,
     "start_time": "2024-04-22T15:53:13.083016",
     "status": "completed"
    },
    "tags": []
   },
   "source": [
    "v3"
   ]
  },
  {
   "cell_type": "code",
   "execution_count": 15,
   "id": "e4e3f322",
   "metadata": {
    "execution": {
     "iopub.execute_input": "2024-04-22T15:53:13.151999Z",
     "iopub.status.busy": "2024-04-22T15:53:13.151576Z",
     "iopub.status.idle": "2024-04-22T15:53:13.157408Z",
     "shell.execute_reply": "2024-04-22T15:53:13.156341Z"
    },
    "papermill": {
     "duration": 0.032421,
     "end_time": "2024-04-22T15:53:13.159726",
     "exception": false,
     "start_time": "2024-04-22T15:53:13.127305",
     "status": "completed"
    },
    "tags": []
   },
   "outputs": [],
   "source": [
    "def dropcolumn2(df):\n",
    "    df2 = df.copy()\n",
    "    df2 = df2.drop(['patient_id'], axis=1)\n",
    "    return df2"
   ]
  },
  {
   "cell_type": "markdown",
   "id": "7c22d710",
   "metadata": {
    "papermill": {
     "duration": 0.021943,
     "end_time": "2024-04-22T15:53:13.203901",
     "exception": false,
     "start_time": "2024-04-22T15:53:13.181958",
     "status": "completed"
    },
    "tags": []
   },
   "source": [
    "**Pipelines for CB**"
   ]
  },
  {
   "cell_type": "code",
   "execution_count": 16,
   "id": "8df9898a",
   "metadata": {
    "execution": {
     "iopub.execute_input": "2024-04-22T15:53:13.250631Z",
     "iopub.status.busy": "2024-04-22T15:53:13.250092Z",
     "iopub.status.idle": "2024-04-22T15:53:13.264390Z",
     "shell.execute_reply": "2024-04-22T15:53:13.263239Z"
    },
    "papermill": {
     "duration": 0.040794,
     "end_time": "2024-04-22T15:53:13.267064",
     "exception": false,
     "start_time": "2024-04-22T15:53:13.226270",
     "status": "completed"
    },
    "tags": []
   },
   "outputs": [],
   "source": [
    "cat_features = [col for col in X.columns if X[col].dtype in ['object']]\n",
    "num_features = [col for col in X.columns if X[col].dtype in ['int64', 'float64']]\n",
    "\n",
    "num_transformer = Pipeline([('imputer',SimpleImputer(strategy='mean')), ('scaler',StandardScaler())])\n",
    "transform_cb = ColumnTransformer([('num', num_transformer, num_features)], remainder='passthrough', verbose_feature_names_out=False).set_output(transform='pandas')\n",
    "\n",
    "preprocess_cb = Pipeline([('fillCat', FunctionTransformer(fillCat)), ('dropcolumn', FunctionTransformer(dropcolumn))])\n",
    "preprocess_cbv3 = Pipeline([('num', transform_cb), ('fillCat', FunctionTransformer(fillCat)), ('dropcolumn', FunctionTransformer(dropcolumn)), ('dropcolumn2', FunctionTransformer(dropcolumn2))]) # "
   ]
  },
  {
   "cell_type": "markdown",
   "id": "e15d8d83",
   "metadata": {
    "papermill": {
     "duration": 0.022267,
     "end_time": "2024-04-22T15:53:13.312265",
     "exception": false,
     "start_time": "2024-04-22T15:53:13.289998",
     "status": "completed"
    },
    "tags": []
   },
   "source": [
    "**Pipeline for XGB and LGB**"
   ]
  },
  {
   "cell_type": "code",
   "execution_count": 17,
   "id": "ce08e7cc",
   "metadata": {
    "execution": {
     "iopub.execute_input": "2024-04-22T15:53:13.359107Z",
     "iopub.status.busy": "2024-04-22T15:53:13.358725Z",
     "iopub.status.idle": "2024-04-22T15:53:13.367101Z",
     "shell.execute_reply": "2024-04-22T15:53:13.366000Z"
    },
    "papermill": {
     "duration": 0.034324,
     "end_time": "2024-04-22T15:53:13.369475",
     "exception": false,
     "start_time": "2024-04-22T15:53:13.335151",
     "status": "completed"
    },
    "tags": []
   },
   "outputs": [],
   "source": [
    "def preprocessing(X, y, test):\n",
    "    cat_features = [col for col in X.columns if X[col].dtype in ['object']]\n",
    "    num_features = [col for col in X.columns if X[col].dtype in ['int64', 'float64']]\n",
    "    cat_transformer = Pipeline([('imputer', SimpleImputer(strategy='most_frequent')), ('encoder', CatBoostEncoder())])\n",
    "    transformer = ColumnTransformer([('imputer', SimpleImputer(strategy='most_frequent'), num_features), ('cat', cat_transformer, cat_features)], remainder='passthrough', verbose_feature_names_out=False).set_output(transform='pandas')\n",
    "    preprocessor = Pipeline([('transformer', transformer)])\n",
    "    X2 = preprocessor.fit_transform(X, y)\n",
    "    test2 = preprocessor.transform(test)\n",
    "    return X2, test2"
   ]
  },
  {
   "cell_type": "code",
   "execution_count": 18,
   "id": "dda8fbda",
   "metadata": {
    "execution": {
     "iopub.execute_input": "2024-04-22T15:53:13.415942Z",
     "iopub.status.busy": "2024-04-22T15:53:13.415021Z",
     "iopub.status.idle": "2024-04-22T15:53:13.432210Z",
     "shell.execute_reply": "2024-04-22T15:53:13.430984Z"
    },
    "papermill": {
     "duration": 0.043163,
     "end_time": "2024-04-22T15:53:13.434731",
     "exception": false,
     "start_time": "2024-04-22T15:53:13.391568",
     "status": "completed"
    },
    "tags": []
   },
   "outputs": [
    {
     "data": {
      "text/html": [
       "<style>#sk-container-id-1 {color: black;background-color: white;}#sk-container-id-1 pre{padding: 0;}#sk-container-id-1 div.sk-toggleable {background-color: white;}#sk-container-id-1 label.sk-toggleable__label {cursor: pointer;display: block;width: 100%;margin-bottom: 0;padding: 0.3em;box-sizing: border-box;text-align: center;}#sk-container-id-1 label.sk-toggleable__label-arrow:before {content: \"▸\";float: left;margin-right: 0.25em;color: #696969;}#sk-container-id-1 label.sk-toggleable__label-arrow:hover:before {color: black;}#sk-container-id-1 div.sk-estimator:hover label.sk-toggleable__label-arrow:before {color: black;}#sk-container-id-1 div.sk-toggleable__content {max-height: 0;max-width: 0;overflow: hidden;text-align: left;background-color: #f0f8ff;}#sk-container-id-1 div.sk-toggleable__content pre {margin: 0.2em;color: black;border-radius: 0.25em;background-color: #f0f8ff;}#sk-container-id-1 input.sk-toggleable__control:checked~div.sk-toggleable__content {max-height: 200px;max-width: 100%;overflow: auto;}#sk-container-id-1 input.sk-toggleable__control:checked~label.sk-toggleable__label-arrow:before {content: \"▾\";}#sk-container-id-1 div.sk-estimator input.sk-toggleable__control:checked~label.sk-toggleable__label {background-color: #d4ebff;}#sk-container-id-1 div.sk-label input.sk-toggleable__control:checked~label.sk-toggleable__label {background-color: #d4ebff;}#sk-container-id-1 input.sk-hidden--visually {border: 0;clip: rect(1px 1px 1px 1px);clip: rect(1px, 1px, 1px, 1px);height: 1px;margin: -1px;overflow: hidden;padding: 0;position: absolute;width: 1px;}#sk-container-id-1 div.sk-estimator {font-family: monospace;background-color: #f0f8ff;border: 1px dotted black;border-radius: 0.25em;box-sizing: border-box;margin-bottom: 0.5em;}#sk-container-id-1 div.sk-estimator:hover {background-color: #d4ebff;}#sk-container-id-1 div.sk-parallel-item::after {content: \"\";width: 100%;border-bottom: 1px solid gray;flex-grow: 1;}#sk-container-id-1 div.sk-label:hover label.sk-toggleable__label {background-color: #d4ebff;}#sk-container-id-1 div.sk-serial::before {content: \"\";position: absolute;border-left: 1px solid gray;box-sizing: border-box;top: 0;bottom: 0;left: 50%;z-index: 0;}#sk-container-id-1 div.sk-serial {display: flex;flex-direction: column;align-items: center;background-color: white;padding-right: 0.2em;padding-left: 0.2em;position: relative;}#sk-container-id-1 div.sk-item {position: relative;z-index: 1;}#sk-container-id-1 div.sk-parallel {display: flex;align-items: stretch;justify-content: center;background-color: white;position: relative;}#sk-container-id-1 div.sk-item::before, #sk-container-id-1 div.sk-parallel-item::before {content: \"\";position: absolute;border-left: 1px solid gray;box-sizing: border-box;top: 0;bottom: 0;left: 50%;z-index: -1;}#sk-container-id-1 div.sk-parallel-item {display: flex;flex-direction: column;z-index: 1;position: relative;background-color: white;}#sk-container-id-1 div.sk-parallel-item:first-child::after {align-self: flex-end;width: 50%;}#sk-container-id-1 div.sk-parallel-item:last-child::after {align-self: flex-start;width: 50%;}#sk-container-id-1 div.sk-parallel-item:only-child::after {width: 0;}#sk-container-id-1 div.sk-dashed-wrapped {border: 1px dashed gray;margin: 0 0.4em 0.5em 0.4em;box-sizing: border-box;padding-bottom: 0.4em;background-color: white;}#sk-container-id-1 div.sk-label label {font-family: monospace;font-weight: bold;display: inline-block;line-height: 1.2em;}#sk-container-id-1 div.sk-label-container {text-align: center;}#sk-container-id-1 div.sk-container {/* jupyter's `normalize.less` sets `[hidden] { display: none; }` but bootstrap.min.css set `[hidden] { display: none !important; }` so we also need the `!important` here to be able to override the default hidden behavior on the sphinx rendered scikit-learn.org. See: https://github.com/scikit-learn/scikit-learn/issues/21755 */display: inline-block !important;position: relative;}#sk-container-id-1 div.sk-text-repr-fallback {display: none;}</style><div id=\"sk-container-id-1\" class=\"sk-top-container\"><div class=\"sk-text-repr-fallback\"><pre>Pipeline(steps=[(&#x27;fillCat&#x27;,\n",
       "                 FunctionTransformer(func=&lt;function fillCat at 0x7ed272c7b0a0&gt;)),\n",
       "                (&#x27;dropcolumn&#x27;,\n",
       "                 FunctionTransformer(func=&lt;function dropcolumn at 0x7ed272c7b130&gt;))])</pre><b>In a Jupyter environment, please rerun this cell to show the HTML representation or trust the notebook. <br />On GitHub, the HTML representation is unable to render, please try loading this page with nbviewer.org.</b></div><div class=\"sk-container\" hidden><div class=\"sk-item sk-dashed-wrapped\"><div class=\"sk-label-container\"><div class=\"sk-label sk-toggleable\"><input class=\"sk-toggleable__control sk-hidden--visually\" id=\"sk-estimator-id-1\" type=\"checkbox\" ><label for=\"sk-estimator-id-1\" class=\"sk-toggleable__label sk-toggleable__label-arrow\">Pipeline</label><div class=\"sk-toggleable__content\"><pre>Pipeline(steps=[(&#x27;fillCat&#x27;,\n",
       "                 FunctionTransformer(func=&lt;function fillCat at 0x7ed272c7b0a0&gt;)),\n",
       "                (&#x27;dropcolumn&#x27;,\n",
       "                 FunctionTransformer(func=&lt;function dropcolumn at 0x7ed272c7b130&gt;))])</pre></div></div></div><div class=\"sk-serial\"><div class=\"sk-item\"><div class=\"sk-estimator sk-toggleable\"><input class=\"sk-toggleable__control sk-hidden--visually\" id=\"sk-estimator-id-2\" type=\"checkbox\" ><label for=\"sk-estimator-id-2\" class=\"sk-toggleable__label sk-toggleable__label-arrow\">FunctionTransformer</label><div class=\"sk-toggleable__content\"><pre>FunctionTransformer(func=&lt;function fillCat at 0x7ed272c7b0a0&gt;)</pre></div></div></div><div class=\"sk-item\"><div class=\"sk-estimator sk-toggleable\"><input class=\"sk-toggleable__control sk-hidden--visually\" id=\"sk-estimator-id-3\" type=\"checkbox\" ><label for=\"sk-estimator-id-3\" class=\"sk-toggleable__label sk-toggleable__label-arrow\">FunctionTransformer</label><div class=\"sk-toggleable__content\"><pre>FunctionTransformer(func=&lt;function dropcolumn at 0x7ed272c7b130&gt;)</pre></div></div></div></div></div></div></div>"
      ],
      "text/plain": [
       "Pipeline(steps=[('fillCat',\n",
       "                 FunctionTransformer(func=<function fillCat at 0x7ed272c7b0a0>)),\n",
       "                ('dropcolumn',\n",
       "                 FunctionTransformer(func=<function dropcolumn at 0x7ed272c7b130>))])"
      ]
     },
     "execution_count": 18,
     "metadata": {},
     "output_type": "execute_result"
    }
   ],
   "source": [
    "preprocess_cb"
   ]
  },
  {
   "cell_type": "code",
   "execution_count": 19,
   "id": "a0d362f9",
   "metadata": {
    "execution": {
     "iopub.execute_input": "2024-04-22T15:53:13.481785Z",
     "iopub.status.busy": "2024-04-22T15:53:13.480838Z",
     "iopub.status.idle": "2024-04-22T15:53:13.536932Z",
     "shell.execute_reply": "2024-04-22T15:53:13.535825Z"
    },
    "papermill": {
     "duration": 0.082794,
     "end_time": "2024-04-22T15:53:13.539942",
     "exception": false,
     "start_time": "2024-04-22T15:53:13.457148",
     "status": "completed"
    },
    "tags": []
   },
   "outputs": [
    {
     "data": {
      "text/html": [
       "<style>#sk-container-id-2 {color: black;background-color: white;}#sk-container-id-2 pre{padding: 0;}#sk-container-id-2 div.sk-toggleable {background-color: white;}#sk-container-id-2 label.sk-toggleable__label {cursor: pointer;display: block;width: 100%;margin-bottom: 0;padding: 0.3em;box-sizing: border-box;text-align: center;}#sk-container-id-2 label.sk-toggleable__label-arrow:before {content: \"▸\";float: left;margin-right: 0.25em;color: #696969;}#sk-container-id-2 label.sk-toggleable__label-arrow:hover:before {color: black;}#sk-container-id-2 div.sk-estimator:hover label.sk-toggleable__label-arrow:before {color: black;}#sk-container-id-2 div.sk-toggleable__content {max-height: 0;max-width: 0;overflow: hidden;text-align: left;background-color: #f0f8ff;}#sk-container-id-2 div.sk-toggleable__content pre {margin: 0.2em;color: black;border-radius: 0.25em;background-color: #f0f8ff;}#sk-container-id-2 input.sk-toggleable__control:checked~div.sk-toggleable__content {max-height: 200px;max-width: 100%;overflow: auto;}#sk-container-id-2 input.sk-toggleable__control:checked~label.sk-toggleable__label-arrow:before {content: \"▾\";}#sk-container-id-2 div.sk-estimator input.sk-toggleable__control:checked~label.sk-toggleable__label {background-color: #d4ebff;}#sk-container-id-2 div.sk-label input.sk-toggleable__control:checked~label.sk-toggleable__label {background-color: #d4ebff;}#sk-container-id-2 input.sk-hidden--visually {border: 0;clip: rect(1px 1px 1px 1px);clip: rect(1px, 1px, 1px, 1px);height: 1px;margin: -1px;overflow: hidden;padding: 0;position: absolute;width: 1px;}#sk-container-id-2 div.sk-estimator {font-family: monospace;background-color: #f0f8ff;border: 1px dotted black;border-radius: 0.25em;box-sizing: border-box;margin-bottom: 0.5em;}#sk-container-id-2 div.sk-estimator:hover {background-color: #d4ebff;}#sk-container-id-2 div.sk-parallel-item::after {content: \"\";width: 100%;border-bottom: 1px solid gray;flex-grow: 1;}#sk-container-id-2 div.sk-label:hover label.sk-toggleable__label {background-color: #d4ebff;}#sk-container-id-2 div.sk-serial::before {content: \"\";position: absolute;border-left: 1px solid gray;box-sizing: border-box;top: 0;bottom: 0;left: 50%;z-index: 0;}#sk-container-id-2 div.sk-serial {display: flex;flex-direction: column;align-items: center;background-color: white;padding-right: 0.2em;padding-left: 0.2em;position: relative;}#sk-container-id-2 div.sk-item {position: relative;z-index: 1;}#sk-container-id-2 div.sk-parallel {display: flex;align-items: stretch;justify-content: center;background-color: white;position: relative;}#sk-container-id-2 div.sk-item::before, #sk-container-id-2 div.sk-parallel-item::before {content: \"\";position: absolute;border-left: 1px solid gray;box-sizing: border-box;top: 0;bottom: 0;left: 50%;z-index: -1;}#sk-container-id-2 div.sk-parallel-item {display: flex;flex-direction: column;z-index: 1;position: relative;background-color: white;}#sk-container-id-2 div.sk-parallel-item:first-child::after {align-self: flex-end;width: 50%;}#sk-container-id-2 div.sk-parallel-item:last-child::after {align-self: flex-start;width: 50%;}#sk-container-id-2 div.sk-parallel-item:only-child::after {width: 0;}#sk-container-id-2 div.sk-dashed-wrapped {border: 1px dashed gray;margin: 0 0.4em 0.5em 0.4em;box-sizing: border-box;padding-bottom: 0.4em;background-color: white;}#sk-container-id-2 div.sk-label label {font-family: monospace;font-weight: bold;display: inline-block;line-height: 1.2em;}#sk-container-id-2 div.sk-label-container {text-align: center;}#sk-container-id-2 div.sk-container {/* jupyter's `normalize.less` sets `[hidden] { display: none; }` but bootstrap.min.css set `[hidden] { display: none !important; }` so we also need the `!important` here to be able to override the default hidden behavior on the sphinx rendered scikit-learn.org. See: https://github.com/scikit-learn/scikit-learn/issues/21755 */display: inline-block !important;position: relative;}#sk-container-id-2 div.sk-text-repr-fallback {display: none;}</style><div id=\"sk-container-id-2\" class=\"sk-top-container\"><div class=\"sk-text-repr-fallback\"><pre>Pipeline(steps=[(&#x27;num&#x27;,\n",
       "                 ColumnTransformer(remainder=&#x27;passthrough&#x27;,\n",
       "                                   transformers=[(&#x27;num&#x27;,\n",
       "                                                  Pipeline(steps=[(&#x27;imputer&#x27;,\n",
       "                                                                   SimpleImputer()),\n",
       "                                                                  (&#x27;scaler&#x27;,\n",
       "                                                                   StandardScaler())]),\n",
       "                                                  [&#x27;patient_id&#x27;, &#x27;patient_zip3&#x27;,\n",
       "                                                   &#x27;patient_age&#x27;, &#x27;bmi&#x27;,\n",
       "                                                   &#x27;density&#x27;, &#x27;age_median&#x27;,\n",
       "                                                   &#x27;age_under_10&#x27;,\n",
       "                                                   &#x27;age_10_to_19&#x27;, &#x27;age_20s&#x27;,\n",
       "                                                   &#x27;age_30s&#x27;, &#x27;age_40s&#x27;,\n",
       "                                                   &#x27;age_50s&#x27;, &#x27;age_60s&#x27;,\n",
       "                                                   &#x27;age_70s&#x27;, &#x27;age_over_80&#x27;,\n",
       "                                                   &#x27;female&#x27;, &#x27;marr...\n",
       "                                                   &#x27;income_household_six_figure&#x27;,\n",
       "                                                   &#x27;income_individual_median&#x27;,\n",
       "                                                   &#x27;home_ownership&#x27;,\n",
       "                                                   &#x27;housing_units&#x27;,\n",
       "                                                   &#x27;home_value&#x27;, ...])],\n",
       "                                   verbose_feature_names_out=False)),\n",
       "                (&#x27;fillCat&#x27;,\n",
       "                 FunctionTransformer(func=&lt;function fillCat at 0x7ed272c7b0a0&gt;)),\n",
       "                (&#x27;dropcolumn&#x27;,\n",
       "                 FunctionTransformer(func=&lt;function dropcolumn at 0x7ed272c7b130&gt;)),\n",
       "                (&#x27;dropcolumn2&#x27;,\n",
       "                 FunctionTransformer(func=&lt;function dropcolumn2 at 0x7ed272c7b370&gt;))])</pre><b>In a Jupyter environment, please rerun this cell to show the HTML representation or trust the notebook. <br />On GitHub, the HTML representation is unable to render, please try loading this page with nbviewer.org.</b></div><div class=\"sk-container\" hidden><div class=\"sk-item sk-dashed-wrapped\"><div class=\"sk-label-container\"><div class=\"sk-label sk-toggleable\"><input class=\"sk-toggleable__control sk-hidden--visually\" id=\"sk-estimator-id-4\" type=\"checkbox\" ><label for=\"sk-estimator-id-4\" class=\"sk-toggleable__label sk-toggleable__label-arrow\">Pipeline</label><div class=\"sk-toggleable__content\"><pre>Pipeline(steps=[(&#x27;num&#x27;,\n",
       "                 ColumnTransformer(remainder=&#x27;passthrough&#x27;,\n",
       "                                   transformers=[(&#x27;num&#x27;,\n",
       "                                                  Pipeline(steps=[(&#x27;imputer&#x27;,\n",
       "                                                                   SimpleImputer()),\n",
       "                                                                  (&#x27;scaler&#x27;,\n",
       "                                                                   StandardScaler())]),\n",
       "                                                  [&#x27;patient_id&#x27;, &#x27;patient_zip3&#x27;,\n",
       "                                                   &#x27;patient_age&#x27;, &#x27;bmi&#x27;,\n",
       "                                                   &#x27;density&#x27;, &#x27;age_median&#x27;,\n",
       "                                                   &#x27;age_under_10&#x27;,\n",
       "                                                   &#x27;age_10_to_19&#x27;, &#x27;age_20s&#x27;,\n",
       "                                                   &#x27;age_30s&#x27;, &#x27;age_40s&#x27;,\n",
       "                                                   &#x27;age_50s&#x27;, &#x27;age_60s&#x27;,\n",
       "                                                   &#x27;age_70s&#x27;, &#x27;age_over_80&#x27;,\n",
       "                                                   &#x27;female&#x27;, &#x27;marr...\n",
       "                                                   &#x27;income_household_six_figure&#x27;,\n",
       "                                                   &#x27;income_individual_median&#x27;,\n",
       "                                                   &#x27;home_ownership&#x27;,\n",
       "                                                   &#x27;housing_units&#x27;,\n",
       "                                                   &#x27;home_value&#x27;, ...])],\n",
       "                                   verbose_feature_names_out=False)),\n",
       "                (&#x27;fillCat&#x27;,\n",
       "                 FunctionTransformer(func=&lt;function fillCat at 0x7ed272c7b0a0&gt;)),\n",
       "                (&#x27;dropcolumn&#x27;,\n",
       "                 FunctionTransformer(func=&lt;function dropcolumn at 0x7ed272c7b130&gt;)),\n",
       "                (&#x27;dropcolumn2&#x27;,\n",
       "                 FunctionTransformer(func=&lt;function dropcolumn2 at 0x7ed272c7b370&gt;))])</pre></div></div></div><div class=\"sk-serial\"><div class=\"sk-item sk-dashed-wrapped\"><div class=\"sk-label-container\"><div class=\"sk-label sk-toggleable\"><input class=\"sk-toggleable__control sk-hidden--visually\" id=\"sk-estimator-id-5\" type=\"checkbox\" ><label for=\"sk-estimator-id-5\" class=\"sk-toggleable__label sk-toggleable__label-arrow\">num: ColumnTransformer</label><div class=\"sk-toggleable__content\"><pre>ColumnTransformer(remainder=&#x27;passthrough&#x27;,\n",
       "                  transformers=[(&#x27;num&#x27;,\n",
       "                                 Pipeline(steps=[(&#x27;imputer&#x27;, SimpleImputer()),\n",
       "                                                 (&#x27;scaler&#x27;, StandardScaler())]),\n",
       "                                 [&#x27;patient_id&#x27;, &#x27;patient_zip3&#x27;, &#x27;patient_age&#x27;,\n",
       "                                  &#x27;bmi&#x27;, &#x27;density&#x27;, &#x27;age_median&#x27;,\n",
       "                                  &#x27;age_under_10&#x27;, &#x27;age_10_to_19&#x27;, &#x27;age_20s&#x27;,\n",
       "                                  &#x27;age_30s&#x27;, &#x27;age_40s&#x27;, &#x27;age_50s&#x27;, &#x27;age_60s&#x27;,\n",
       "                                  &#x27;age_70s&#x27;, &#x27;age_over_80&#x27;, &#x27;female&#x27;, &#x27;married&#x27;,\n",
       "                                  &#x27;divorced&#x27;, &#x27;never_married&#x27;, &#x27;widowed&#x27;,\n",
       "                                  &#x27;family_size&#x27;, &#x27;family_dual_income&#x27;,\n",
       "                                  &#x27;income_household_median&#x27;,\n",
       "                                  &#x27;income_household_50_to_75&#x27;,\n",
       "                                  &#x27;income_household_75_to_100&#x27;,\n",
       "                                  &#x27;income_household_six_figure&#x27;,\n",
       "                                  &#x27;income_individual_median&#x27;, &#x27;home_ownership&#x27;,\n",
       "                                  &#x27;housing_units&#x27;, &#x27;home_value&#x27;, ...])],\n",
       "                  verbose_feature_names_out=False)</pre></div></div></div><div class=\"sk-parallel\"><div class=\"sk-parallel-item\"><div class=\"sk-item\"><div class=\"sk-label-container\"><div class=\"sk-label sk-toggleable\"><input class=\"sk-toggleable__control sk-hidden--visually\" id=\"sk-estimator-id-6\" type=\"checkbox\" ><label for=\"sk-estimator-id-6\" class=\"sk-toggleable__label sk-toggleable__label-arrow\">num</label><div class=\"sk-toggleable__content\"><pre>[&#x27;patient_id&#x27;, &#x27;patient_zip3&#x27;, &#x27;patient_age&#x27;, &#x27;bmi&#x27;, &#x27;density&#x27;, &#x27;age_median&#x27;, &#x27;age_under_10&#x27;, &#x27;age_10_to_19&#x27;, &#x27;age_20s&#x27;, &#x27;age_30s&#x27;, &#x27;age_40s&#x27;, &#x27;age_50s&#x27;, &#x27;age_60s&#x27;, &#x27;age_70s&#x27;, &#x27;age_over_80&#x27;, &#x27;female&#x27;, &#x27;married&#x27;, &#x27;divorced&#x27;, &#x27;never_married&#x27;, &#x27;widowed&#x27;, &#x27;family_size&#x27;, &#x27;family_dual_income&#x27;, &#x27;income_household_median&#x27;, &#x27;income_household_50_to_75&#x27;, &#x27;income_household_75_to_100&#x27;, &#x27;income_household_six_figure&#x27;, &#x27;income_individual_median&#x27;, &#x27;home_ownership&#x27;, &#x27;housing_units&#x27;, &#x27;home_value&#x27;, &#x27;rent_median&#x27;, &#x27;rent_burden&#x27;, &#x27;education_less_highschool&#x27;, &#x27;education_highschool&#x27;, &#x27;education_some_college&#x27;, &#x27;education_bachelors&#x27;, &#x27;education_graduate&#x27;, &#x27;education_college_or_above&#x27;, &#x27;education_stem_degree&#x27;, &#x27;labor_force_participation&#x27;, &#x27;unemployment_rate&#x27;, &#x27;self_employed&#x27;, &#x27;farmer&#x27;, &#x27;race_white&#x27;, &#x27;race_black&#x27;, &#x27;race_asian&#x27;, &#x27;race_native&#x27;, &#x27;race_pacific&#x27;, &#x27;race_other&#x27;, &#x27;race_multiple&#x27;, &#x27;hispanic&#x27;, &#x27;disabled&#x27;, &#x27;poverty&#x27;, &#x27;limited_english&#x27;, &#x27;commute_time&#x27;, &#x27;health_uninsured&#x27;, &#x27;veteran&#x27;, &#x27;Ozone&#x27;, &#x27;PM25&#x27;, &#x27;N02&#x27;]</pre></div></div></div><div class=\"sk-serial\"><div class=\"sk-item\"><div class=\"sk-serial\"><div class=\"sk-item\"><div class=\"sk-estimator sk-toggleable\"><input class=\"sk-toggleable__control sk-hidden--visually\" id=\"sk-estimator-id-7\" type=\"checkbox\" ><label for=\"sk-estimator-id-7\" class=\"sk-toggleable__label sk-toggleable__label-arrow\">SimpleImputer</label><div class=\"sk-toggleable__content\"><pre>SimpleImputer()</pre></div></div></div><div class=\"sk-item\"><div class=\"sk-estimator sk-toggleable\"><input class=\"sk-toggleable__control sk-hidden--visually\" id=\"sk-estimator-id-8\" type=\"checkbox\" ><label for=\"sk-estimator-id-8\" class=\"sk-toggleable__label sk-toggleable__label-arrow\">StandardScaler</label><div class=\"sk-toggleable__content\"><pre>StandardScaler()</pre></div></div></div></div></div></div></div></div><div class=\"sk-parallel-item\"><div class=\"sk-item\"><div class=\"sk-label-container\"><div class=\"sk-label sk-toggleable\"><input class=\"sk-toggleable__control sk-hidden--visually\" id=\"sk-estimator-id-9\" type=\"checkbox\" ><label for=\"sk-estimator-id-9\" class=\"sk-toggleable__label sk-toggleable__label-arrow\">remainder</label><div class=\"sk-toggleable__content\"><pre></pre></div></div></div><div class=\"sk-serial\"><div class=\"sk-item\"><div class=\"sk-estimator sk-toggleable\"><input class=\"sk-toggleable__control sk-hidden--visually\" id=\"sk-estimator-id-10\" type=\"checkbox\" ><label for=\"sk-estimator-id-10\" class=\"sk-toggleable__label sk-toggleable__label-arrow\">passthrough</label><div class=\"sk-toggleable__content\"><pre>passthrough</pre></div></div></div></div></div></div></div></div><div class=\"sk-item\"><div class=\"sk-estimator sk-toggleable\"><input class=\"sk-toggleable__control sk-hidden--visually\" id=\"sk-estimator-id-11\" type=\"checkbox\" ><label for=\"sk-estimator-id-11\" class=\"sk-toggleable__label sk-toggleable__label-arrow\">FunctionTransformer</label><div class=\"sk-toggleable__content\"><pre>FunctionTransformer(func=&lt;function fillCat at 0x7ed272c7b0a0&gt;)</pre></div></div></div><div class=\"sk-item\"><div class=\"sk-estimator sk-toggleable\"><input class=\"sk-toggleable__control sk-hidden--visually\" id=\"sk-estimator-id-12\" type=\"checkbox\" ><label for=\"sk-estimator-id-12\" class=\"sk-toggleable__label sk-toggleable__label-arrow\">FunctionTransformer</label><div class=\"sk-toggleable__content\"><pre>FunctionTransformer(func=&lt;function dropcolumn at 0x7ed272c7b130&gt;)</pre></div></div></div><div class=\"sk-item\"><div class=\"sk-estimator sk-toggleable\"><input class=\"sk-toggleable__control sk-hidden--visually\" id=\"sk-estimator-id-13\" type=\"checkbox\" ><label for=\"sk-estimator-id-13\" class=\"sk-toggleable__label sk-toggleable__label-arrow\">FunctionTransformer</label><div class=\"sk-toggleable__content\"><pre>FunctionTransformer(func=&lt;function dropcolumn2 at 0x7ed272c7b370&gt;)</pre></div></div></div></div></div></div></div>"
      ],
      "text/plain": [
       "Pipeline(steps=[('num',\n",
       "                 ColumnTransformer(remainder='passthrough',\n",
       "                                   transformers=[('num',\n",
       "                                                  Pipeline(steps=[('imputer',\n",
       "                                                                   SimpleImputer()),\n",
       "                                                                  ('scaler',\n",
       "                                                                   StandardScaler())]),\n",
       "                                                  ['patient_id', 'patient_zip3',\n",
       "                                                   'patient_age', 'bmi',\n",
       "                                                   'density', 'age_median',\n",
       "                                                   'age_under_10',\n",
       "                                                   'age_10_to_19', 'age_20s',\n",
       "                                                   'age_30s', 'age_40s',\n",
       "                                                   'age_50s', 'age_60s',\n",
       "                                                   'age_70s', 'age_over_80',\n",
       "                                                   'female', 'marr...\n",
       "                                                   'income_household_six_figure',\n",
       "                                                   'income_individual_median',\n",
       "                                                   'home_ownership',\n",
       "                                                   'housing_units',\n",
       "                                                   'home_value', ...])],\n",
       "                                   verbose_feature_names_out=False)),\n",
       "                ('fillCat',\n",
       "                 FunctionTransformer(func=<function fillCat at 0x7ed272c7b0a0>)),\n",
       "                ('dropcolumn',\n",
       "                 FunctionTransformer(func=<function dropcolumn at 0x7ed272c7b130>)),\n",
       "                ('dropcolumn2',\n",
       "                 FunctionTransformer(func=<function dropcolumn2 at 0x7ed272c7b370>))])"
      ]
     },
     "execution_count": 19,
     "metadata": {},
     "output_type": "execute_result"
    }
   ],
   "source": [
    "preprocess_cbv3"
   ]
  },
  {
   "cell_type": "markdown",
   "id": "255feeff",
   "metadata": {
    "papermill": {
     "duration": 0.022838,
     "end_time": "2024-04-22T15:53:13.585825",
     "exception": false,
     "start_time": "2024-04-22T15:53:13.562987",
     "status": "completed"
    },
    "tags": []
   },
   "source": [
    "## 2. Feature Engineering"
   ]
  },
  {
   "cell_type": "code",
   "execution_count": 20,
   "id": "cec1c263",
   "metadata": {
    "execution": {
     "iopub.execute_input": "2024-04-22T15:53:13.633990Z",
     "iopub.status.busy": "2024-04-22T15:53:13.633574Z",
     "iopub.status.idle": "2024-04-22T15:53:13.645877Z",
     "shell.execute_reply": "2024-04-22T15:53:13.644724Z"
    },
    "papermill": {
     "duration": 0.039562,
     "end_time": "2024-04-22T15:53:13.648333",
     "exception": false,
     "start_time": "2024-04-22T15:53:13.608771",
     "status": "completed"
    },
    "tags": []
   },
   "outputs": [],
   "source": [
    "def add_feature(df):\n",
    "    df2 = df.copy()\n",
    "    \n",
    "    df2['BCcode_MCcode'] = df2['breast_cancer_diagnosis_code'] * df2['metastatic_cancer_diagnosis_code']\n",
    "    df2['BCcode_Age'] = df2['breast_cancer_diagnosis_code'] * df2['patient_age']\n",
    "    df2['BCcode_Disabled']  = df2['breast_cancer_diagnosis_code'] * df2['disabled']\n",
    "    df2['BCcode_Rent'] = df2['breast_cancer_diagnosis_code'] * df2['rent_median']\n",
    "    df2['BCcode_BCcode'] = df2['breast_cancer_diagnosis_code'] * df2['breast_cancer_diagnosis_code'] \n",
    "    df2['age30_BC_code'] = df2['age_30s'] * df2['breast_cancer_diagnosis_code'] \n",
    "    \n",
    "    df2['BCdesc_Age'] = df2['breast_cancer_diagnosis_desc'] * df2['patient_age'] \n",
    "    df2['BCcode_Poverty']  = df2['breast_cancer_diagnosis_code'] * df2['poverty']\n",
    "    df2['BCcode_PM25']  = df2['breast_cancer_diagnosis_code'] * df2['PM25']\n",
    "    \n",
    "    df2['BC_code_MC_code_Age'] = df2['breast_cancer_diagnosis_code'] * df2['metastatic_cancer_diagnosis_code'] * df2['patient_age']\n",
    "    df2['BC_code_MC_code_MC_code'] = df2['breast_cancer_diagnosis_code'] * df2['metastatic_cancer_diagnosis_code'] * df2['metastatic_cancer_diagnosis_code']\n",
    "    df2['BCcode_Disabled_PatientAge']  = df2['breast_cancer_diagnosis_code'] * df2['disabled'] * df2['patient_age']\n",
    "    df2['BCcode_Hispanic_Rent'] = df2['breast_cancer_diagnosis_code'] * df2['hispanic'] * df2['rent_median']\n",
    "    df2['BCcode_State_Rent'] = df2['breast_cancer_diagnosis_code'] * df2['patient_state'] * df2['hispanic'] * df2['rent_median']\n",
    "    df2['BCcode_Disabled_Rent']  = df2['breast_cancer_diagnosis_code'] * df2['disabled'] * df2['rent_median']\n",
    "    df2['BCcode_BCcode_Disabled'] = df2['breast_cancer_diagnosis_code'] * df2['breast_cancer_diagnosis_code'] * df2['disabled']\n",
    "    df2['BCdesc_BCdesc_BCdesc'] = df2['breast_cancer_diagnosis_desc'] * df2['breast_cancer_diagnosis_desc'] * df2['breast_cancer_diagnosis_desc']\n",
    "    df2['BCcode_BCdesc_Disabled'] = df2['breast_cancer_diagnosis_code'] * df2['breast_cancer_diagnosis_desc'] * df2['disabled']\n",
    "    \n",
    "    return df2"
   ]
  },
  {
   "cell_type": "markdown",
   "id": "2cb808dd",
   "metadata": {
    "papermill": {
     "duration": 0.023054,
     "end_time": "2024-04-22T15:53:13.694234",
     "exception": false,
     "start_time": "2024-04-22T15:53:13.671180",
     "status": "completed"
    },
    "tags": []
   },
   "source": [
    "- split: (trainX, trainy) (testX, testy), test_i"
   ]
  },
  {
   "cell_type": "code",
   "execution_count": 21,
   "id": "0aad28d8",
   "metadata": {
    "execution": {
     "iopub.execute_input": "2024-04-22T15:53:13.741867Z",
     "iopub.status.busy": "2024-04-22T15:53:13.741465Z",
     "iopub.status.idle": "2024-04-22T15:53:21.017673Z",
     "shell.execute_reply": "2024-04-22T15:53:21.016319Z"
    },
    "papermill": {
     "duration": 7.303443,
     "end_time": "2024-04-22T15:53:21.020557",
     "exception": false,
     "start_time": "2024-04-22T15:53:13.717114",
     "status": "completed"
    },
    "tags": []
   },
   "outputs": [],
   "source": [
    "X_na = fillbystate(X)\n",
    "test_na = filltest(test)\n",
    "\n",
    "\n",
    "#test data for cb\n",
    "X_cb = preprocess_cb.fit_transform(X_na, target)\n",
    "test_cb = preprocess_cb.transform(test_na)\n",
    "X_cb2 = preprocess_cbv3.fit_transform(X_na, target)\n",
    "test_cb2 = preprocess_cbv3.transform(test_na)\n",
    "\n",
    "#test data for xgb\n",
    "X_xgb, test_xgb = preprocessing(X_na, target, test_na)\n",
    "X_xgb2 = dropcolumn2(X_xgb)\n",
    "test_xgb2 = dropcolumn2(test_xgb)\n",
    "#test data for xgb2\n",
    "Xf = feature_pre(X)\n",
    "testf = feature_pre(test)\n",
    "X_xgbf = fillbystate(Xf)\n",
    "test_xgbf = filltest(testf)\n",
    "X_xgbf, test_xgbf = preprocessing(X_xgbf, target, test_xgbf)\n",
    "X_xgbf = dropcolumn2(X_xgbf)\n",
    "test_xgbf = dropcolumn2(test_xgbf)\n",
    "\n",
    "#test data for lgb\n",
    "X_lgb = add_feature(X_xgb2)\n",
    "test_lgb = add_feature(test_xgb2)\n",
    "\n",
    "if mtraining:\n",
    "    trainX, testX, trainy, testy = train_test_split(X, target, test_size = 0.2, random_state = 40)\n",
    "    \n",
    "    trainXf = pre_feature(trainX)\n",
    "    testXf = pre_feature(testX)\n",
    "    trainXf = fillbystate(trainXf)\n",
    "    testXf = filltest(testXf)\n",
    "    trainXf, testXf = preprocessing(trainXf, trainy, testXf)\n",
    "    trainXf = dropcolumn(trainXf)\n",
    "    testXf = dropcolumn(testXf)\n",
    "    \n",
    "    trainX_na = fillbystate(trainX)\n",
    "    testX_na = filltest(testX)\n",
    "    trainX_cb = preprocess_cb.fit_transform(trainX_na, trainy)\n",
    "    testX_cb = preprocess_cb.transform(testX_na)\n",
    "    \n",
    "    trainX_xgb, testX_xgb = preprocessing(trainX_na, trainy, testX_na)\n",
    "\n",
    "    trainX_cb2 = preprocess_cbv3.fit_transform(trainX_na, trainy)\n",
    "    testX_cb2 = preprocess_cbv3.transform(testX_na)\n",
    "    \n",
    "    trainX_xgb2 = dropcolumn2(trainX_xgb)\n",
    "    testX_xgb2 = dropcolumn2(testX_xgb)\n",
    "    \n",
    "    trainX_lgb = add_feature(trainX_xgb2)\n",
    "    testX_lgb = add_feature(testX_xgb2)\n",
    "##############################################################################################################################\n"
   ]
  },
  {
   "cell_type": "code",
   "execution_count": 22,
   "id": "2456fa11",
   "metadata": {
    "execution": {
     "iopub.execute_input": "2024-04-22T15:53:21.068643Z",
     "iopub.status.busy": "2024-04-22T15:53:21.068176Z",
     "iopub.status.idle": "2024-04-22T15:53:21.074004Z",
     "shell.execute_reply": "2024-04-22T15:53:21.072907Z"
    },
    "papermill": {
     "duration": 0.032932,
     "end_time": "2024-04-22T15:53:21.076420",
     "exception": false,
     "start_time": "2024-04-22T15:53:21.043488",
     "status": "completed"
    },
    "tags": []
   },
   "outputs": [],
   "source": [
    "# # Separate the majority and minority classes\n",
    "# majority_class = X_lgb[target == 1]\n",
    "# minority_class = X_lgb[target == 0]\n",
    "\n",
    "# # Randomly undersample the majority class to match the minority class size\n",
    "# majority_downsampled = resample(majority_class, replace=False, n_samples=len(minority_class), random_state=48)\n",
    "# majority_downsampled2 = resample(majority_class, replace=False, n_samples=len(minority_class), random_state=40)\n",
    "# balanced_df = pd.concat([majority_downsampled, minority_class])\n",
    "# balanced_df2 = pd.concat([majority_downsampled2, minority_class])\n",
    "# y = [1] * len(minority_class) + [0] * len(minority_class)\n",
    "# balanced_y = pd.DataFrame(data = y)\n",
    "\n",
    "# # Shuffle the rows in the balanced DataFrame to mix the classes\n",
    "# balanced_df = balanced_df.sample(frac=1, random_state=40)\n",
    "# balanced_df2 = balanced_df2.sample(frac=1, random_state=48)\n",
    "# balanced_y2 = balanced_y.sample(frac=1, random_state=48)\n",
    "# balanced_y = balanced_y.sample(frac=1, random_state=40)"
   ]
  },
  {
   "cell_type": "markdown",
   "id": "27f8b8bc",
   "metadata": {
    "papermill": {
     "duration": 0.022513,
     "end_time": "2024-04-22T15:53:21.124144",
     "exception": false,
     "start_time": "2024-04-22T15:53:21.101631",
     "status": "completed"
    },
    "tags": []
   },
   "source": [
    "Outliers"
   ]
  },
  {
   "cell_type": "markdown",
   "id": "bd256f63",
   "metadata": {
    "execution": {
     "iopub.execute_input": "2024-02-18T23:13:24.004497Z",
     "iopub.status.busy": "2024-02-18T23:13:24.003995Z",
     "iopub.status.idle": "2024-02-18T23:13:24.012016Z",
     "shell.execute_reply": "2024-02-18T23:13:24.010948Z",
     "shell.execute_reply.started": "2024-02-18T23:13:24.004459Z"
    },
    "papermill": {
     "duration": 0.022555,
     "end_time": "2024-04-22T15:53:21.169316",
     "exception": false,
     "start_time": "2024-04-22T15:53:21.146761",
     "status": "completed"
    },
    "tags": []
   },
   "source": [
    "clf = LocalOutlierFactor(n_neighbors=20, contamination=0.01)\n",
    "y_pred = clf.fit_predict(X_xgbf)\n",
    "test_pred = clf.fit_predict(test_xgbf)\n",
    "outliers = training[y_pred == -1]\n",
    "test_outliers = prediction_best[test_pred == -1]\n",
    "X_xgbf = X_xgbf[y_pred != -1]\n",
    "target_xgbf = target[y_pred != -1]"
   ]
  },
  {
   "cell_type": "markdown",
   "id": "7c241a95",
   "metadata": {
    "papermill": {
     "duration": 0.022426,
     "end_time": "2024-04-22T15:53:21.214654",
     "exception": false,
     "start_time": "2024-04-22T15:53:21.192228",
     "status": "completed"
    },
    "tags": []
   },
   "source": [
    "## 3. Model Fitting"
   ]
  },
  {
   "cell_type": "markdown",
   "id": "2c4cb41d",
   "metadata": {
    "papermill": {
     "duration": 0.023177,
     "end_time": "2024-04-22T15:53:21.260654",
     "exception": false,
     "start_time": "2024-04-22T15:53:21.237477",
     "status": "completed"
    },
    "tags": []
   },
   "source": [
    "## CatBoost"
   ]
  },
  {
   "cell_type": "markdown",
   "id": "f6132321",
   "metadata": {
    "papermill": {
     "duration": 0.022574,
     "end_time": "2024-04-22T15:53:21.306677",
     "exception": false,
     "start_time": "2024-04-22T15:53:21.284103",
     "status": "completed"
    },
    "tags": []
   },
   "source": [
    "The following modes for processing missing values are supported:\n",
    "\n",
    "\"Forbidden\" — Missing values are not supported, their presence is interpreted as an error.\n",
    "\"Min\" — Missing values are processed as the minimum value (less than all other values) for the feature. **It is guaranteed that a split that separates missing values from all other values is considered when selecting trees.**\n",
    "\"Max\" — Missing values are processed as the maximum value (greater than all other values) for the feature. **It is guaranteed that a split that separates missing values from all other values is considered when selecting trees.**"
   ]
  },
  {
   "cell_type": "code",
   "execution_count": 23,
   "id": "98d5a251",
   "metadata": {
    "execution": {
     "iopub.execute_input": "2024-04-22T15:53:21.355258Z",
     "iopub.status.busy": "2024-04-22T15:53:21.354830Z",
     "iopub.status.idle": "2024-04-22T15:53:22.020010Z",
     "shell.execute_reply": "2024-04-22T15:53:22.018358Z"
    },
    "papermill": {
     "duration": 0.692954,
     "end_time": "2024-04-22T15:53:22.023026",
     "exception": false,
     "start_time": "2024-04-22T15:53:21.330072",
     "status": "completed"
    },
    "tags": []
   },
   "outputs": [
    {
     "name": "stdout",
     "output_type": "stream",
     "text": [
      "0:\ttotal: 55.2ms\tremaining: 8.61s\n",
      "1:\ttotal: 57ms\tremaining: 4.42s\n",
      "2:\ttotal: 58.2ms\tremaining: 2.99s\n",
      "3:\ttotal: 59.5ms\tremaining: 2.27s\n",
      "4:\ttotal: 60.7ms\tremaining: 1.84s\n",
      "5:\ttotal: 61.9ms\tremaining: 1.56s\n",
      "6:\ttotal: 63.2ms\tremaining: 1.35s\n",
      "7:\ttotal: 64.3ms\tremaining: 1.2s\n",
      "8:\ttotal: 65.5ms\tremaining: 1.08s\n",
      "9:\ttotal: 66.6ms\tremaining: 979ms\n",
      "10:\ttotal: 67.9ms\tremaining: 901ms\n",
      "11:\ttotal: 69.1ms\tremaining: 835ms\n",
      "12:\ttotal: 70.3ms\tremaining: 779ms\n",
      "13:\ttotal: 71.4ms\tremaining: 730ms\n",
      "14:\ttotal: 72.6ms\tremaining: 687ms\n",
      "15:\ttotal: 73.8ms\tremaining: 650ms\n",
      "16:\ttotal: 75.2ms\tremaining: 619ms\n",
      "17:\ttotal: 76.7ms\tremaining: 592ms\n",
      "18:\ttotal: 77.9ms\tremaining: 566ms\n",
      "19:\ttotal: 79.4ms\tremaining: 544ms\n",
      "20:\ttotal: 80.6ms\tremaining: 522ms\n",
      "21:\ttotal: 81.9ms\tremaining: 502ms\n",
      "22:\ttotal: 83.1ms\tremaining: 484ms\n",
      "23:\ttotal: 84.4ms\tremaining: 468ms\n",
      "24:\ttotal: 85.8ms\tremaining: 453ms\n",
      "25:\ttotal: 87.1ms\tremaining: 439ms\n",
      "26:\ttotal: 88.3ms\tremaining: 425ms\n",
      "27:\ttotal: 89.6ms\tremaining: 413ms\n",
      "28:\ttotal: 90.8ms\tremaining: 401ms\n",
      "29:\ttotal: 92.1ms\tremaining: 390ms\n",
      "30:\ttotal: 93.5ms\tremaining: 380ms\n",
      "31:\ttotal: 94.9ms\tremaining: 371ms\n",
      "32:\ttotal: 96.3ms\tremaining: 362ms\n",
      "33:\ttotal: 97.7ms\tremaining: 353ms\n",
      "34:\ttotal: 99ms\tremaining: 345ms\n",
      "35:\ttotal: 100ms\tremaining: 337ms\n",
      "36:\ttotal: 102ms\tremaining: 329ms\n",
      "37:\ttotal: 103ms\tremaining: 322ms\n",
      "38:\ttotal: 104ms\tremaining: 314ms\n",
      "39:\ttotal: 105ms\tremaining: 308ms\n",
      "40:\ttotal: 107ms\tremaining: 302ms\n",
      "41:\ttotal: 108ms\tremaining: 295ms\n",
      "42:\ttotal: 109ms\tremaining: 289ms\n",
      "43:\ttotal: 110ms\tremaining: 283ms\n",
      "44:\ttotal: 112ms\tremaining: 278ms\n",
      "45:\ttotal: 113ms\tremaining: 273ms\n",
      "46:\ttotal: 114ms\tremaining: 267ms\n",
      "47:\ttotal: 116ms\tremaining: 263ms\n",
      "48:\ttotal: 117ms\tremaining: 258ms\n",
      "49:\ttotal: 118ms\tremaining: 253ms\n",
      "50:\ttotal: 120ms\tremaining: 249ms\n",
      "51:\ttotal: 121ms\tremaining: 244ms\n",
      "52:\ttotal: 122ms\tremaining: 240ms\n",
      "53:\ttotal: 124ms\tremaining: 236ms\n",
      "54:\ttotal: 125ms\tremaining: 232ms\n",
      "55:\ttotal: 126ms\tremaining: 228ms\n",
      "56:\ttotal: 128ms\tremaining: 224ms\n",
      "57:\ttotal: 129ms\tremaining: 220ms\n",
      "58:\ttotal: 130ms\tremaining: 217ms\n",
      "59:\ttotal: 132ms\tremaining: 213ms\n",
      "60:\ttotal: 133ms\tremaining: 209ms\n",
      "61:\ttotal: 134ms\tremaining: 206ms\n",
      "62:\ttotal: 136ms\tremaining: 202ms\n",
      "63:\ttotal: 137ms\tremaining: 199ms\n",
      "64:\ttotal: 138ms\tremaining: 196ms\n",
      "65:\ttotal: 140ms\tremaining: 193ms\n",
      "66:\ttotal: 141ms\tremaining: 190ms\n",
      "67:\ttotal: 142ms\tremaining: 186ms\n",
      "68:\ttotal: 144ms\tremaining: 183ms\n",
      "69:\ttotal: 145ms\tremaining: 180ms\n",
      "70:\ttotal: 147ms\tremaining: 177ms\n",
      "71:\ttotal: 148ms\tremaining: 175ms\n",
      "72:\ttotal: 149ms\tremaining: 172ms\n",
      "73:\ttotal: 150ms\tremaining: 169ms\n",
      "74:\ttotal: 152ms\tremaining: 166ms\n",
      "75:\ttotal: 153ms\tremaining: 164ms\n",
      "76:\ttotal: 155ms\tremaining: 161ms\n",
      "77:\ttotal: 156ms\tremaining: 158ms\n",
      "78:\ttotal: 158ms\tremaining: 156ms\n",
      "79:\ttotal: 159ms\tremaining: 153ms\n",
      "80:\ttotal: 160ms\tremaining: 150ms\n",
      "81:\ttotal: 162ms\tremaining: 148ms\n",
      "82:\ttotal: 163ms\tremaining: 145ms\n",
      "83:\ttotal: 164ms\tremaining: 143ms\n",
      "84:\ttotal: 166ms\tremaining: 141ms\n",
      "85:\ttotal: 167ms\tremaining: 138ms\n",
      "86:\ttotal: 169ms\tremaining: 136ms\n",
      "87:\ttotal: 170ms\tremaining: 133ms\n",
      "88:\ttotal: 171ms\tremaining: 131ms\n",
      "89:\ttotal: 173ms\tremaining: 129ms\n",
      "90:\ttotal: 174ms\tremaining: 127ms\n",
      "91:\ttotal: 176ms\tremaining: 125ms\n",
      "92:\ttotal: 178ms\tremaining: 122ms\n",
      "93:\ttotal: 179ms\tremaining: 120ms\n",
      "94:\ttotal: 181ms\tremaining: 118ms\n",
      "95:\ttotal: 182ms\tremaining: 116ms\n",
      "96:\ttotal: 184ms\tremaining: 114ms\n",
      "97:\ttotal: 185ms\tremaining: 111ms\n",
      "98:\ttotal: 186ms\tremaining: 109ms\n",
      "99:\ttotal: 188ms\tremaining: 107ms\n",
      "100:\ttotal: 189ms\tremaining: 105ms\n",
      "101:\ttotal: 190ms\tremaining: 103ms\n",
      "102:\ttotal: 192ms\tremaining: 101ms\n",
      "103:\ttotal: 193ms\tremaining: 98.4ms\n",
      "104:\ttotal: 194ms\tremaining: 96.3ms\n",
      "105:\ttotal: 196ms\tremaining: 94.2ms\n",
      "106:\ttotal: 197ms\tremaining: 92.1ms\n",
      "107:\ttotal: 198ms\tremaining: 90ms\n",
      "108:\ttotal: 200ms\tremaining: 88ms\n",
      "109:\ttotal: 201ms\tremaining: 86ms\n",
      "110:\ttotal: 203ms\tremaining: 84ms\n",
      "111:\ttotal: 204ms\tremaining: 82ms\n",
      "112:\ttotal: 205ms\tremaining: 80ms\n",
      "113:\ttotal: 207ms\tremaining: 78ms\n",
      "114:\ttotal: 208ms\tremaining: 76ms\n",
      "115:\ttotal: 209ms\tremaining: 74ms\n",
      "116:\ttotal: 211ms\tremaining: 72ms\n",
      "117:\ttotal: 212ms\tremaining: 70.1ms\n",
      "118:\ttotal: 213ms\tremaining: 68.1ms\n",
      "119:\ttotal: 215ms\tremaining: 66.2ms\n",
      "120:\ttotal: 216ms\tremaining: 64.3ms\n",
      "121:\ttotal: 217ms\tremaining: 62.3ms\n",
      "122:\ttotal: 219ms\tremaining: 60.4ms\n",
      "123:\ttotal: 220ms\tremaining: 58.6ms\n",
      "124:\ttotal: 221ms\tremaining: 56.7ms\n",
      "125:\ttotal: 223ms\tremaining: 54.8ms\n",
      "126:\ttotal: 224ms\tremaining: 52.9ms\n",
      "127:\ttotal: 225ms\tremaining: 51ms\n",
      "128:\ttotal: 227ms\tremaining: 49.2ms\n",
      "129:\ttotal: 228ms\tremaining: 47.4ms\n",
      "130:\ttotal: 229ms\tremaining: 45.5ms\n",
      "131:\ttotal: 231ms\tremaining: 43.7ms\n",
      "132:\ttotal: 232ms\tremaining: 41.9ms\n",
      "133:\ttotal: 233ms\tremaining: 40ms\n",
      "134:\ttotal: 234ms\tremaining: 38.2ms\n",
      "135:\ttotal: 236ms\tremaining: 36.4ms\n",
      "136:\ttotal: 237ms\tremaining: 34.6ms\n",
      "137:\ttotal: 238ms\tremaining: 32.8ms\n",
      "138:\ttotal: 240ms\tremaining: 31.1ms\n",
      "139:\ttotal: 241ms\tremaining: 29.3ms\n",
      "140:\ttotal: 246ms\tremaining: 27.9ms\n",
      "141:\ttotal: 247ms\tremaining: 26.1ms\n",
      "142:\ttotal: 249ms\tremaining: 24.4ms\n",
      "143:\ttotal: 251ms\tremaining: 22.6ms\n",
      "144:\ttotal: 252ms\tremaining: 20.9ms\n",
      "145:\ttotal: 253ms\tremaining: 19.1ms\n",
      "146:\ttotal: 254ms\tremaining: 17.3ms\n",
      "147:\ttotal: 256ms\tremaining: 15.6ms\n",
      "148:\ttotal: 257ms\tremaining: 13.8ms\n",
      "149:\ttotal: 258ms\tremaining: 12.1ms\n",
      "150:\ttotal: 260ms\tremaining: 10.3ms\n",
      "151:\ttotal: 261ms\tremaining: 8.58ms\n",
      "152:\ttotal: 262ms\tremaining: 6.86ms\n",
      "153:\ttotal: 264ms\tremaining: 5.14ms\n",
      "154:\ttotal: 265ms\tremaining: 3.42ms\n",
      "155:\ttotal: 267ms\tremaining: 1.71ms\n",
      "156:\ttotal: 268ms\tremaining: 0us\n"
     ]
    }
   ],
   "source": [
    "##catboost new\n",
    "X_raw.drop(columns=['patient_id'],inplace=True)\n",
    "test_raw.drop(columns=['patient_id'],inplace=True)\n",
    "\n",
    "numerical_cols = X_raw.select_dtypes(exclude=['object']).columns\n",
    "categorical_cols = X_raw.select_dtypes(include=['object']).columns\n",
    "for col in categorical_cols:\n",
    "    mode = X_raw[col].mode()[0]\n",
    "    X_raw[col].fillna(mode, inplace=True)\n",
    "    test_raw[col].fillna(mode, inplace=True)\n",
    "for col in numerical_cols:\n",
    "    mean = X_raw[col].median()\n",
    "    X_raw[col].fillna(mean, inplace=True)\n",
    "    test_raw[col].fillna(mean, inplace=True)\n",
    "df = pd.concat([X_raw,test_raw])\n",
    "encoder = OrdinalEncoder(handle_unknown='use_encoded_value', unknown_value=-1)\n",
    "# Loop through each categorical column\n",
    "for col in categorical_cols.to_list()+['patient_zip3']:\n",
    "    # Fit the encoder on the training data\n",
    "    encoder.fit(df[[col]])\n",
    "\n",
    "    # Transform both training and test data\n",
    "    df[col] = encoder.transform(df[[col]])\n",
    "    \n",
    "cols = ['breast_cancer_diagnosis_code','metastatic_cancer_diagnosis_code','patient_zip3','patient_age','payer_type',\n",
    "        'patient_state','breast_cancer_diagnosis_desc']\n",
    "\n",
    "X_raw = df[:len(X_raw)]\n",
    "test_raw = df[-len(test_raw):]\n",
    "\n",
    "X_raw = X_raw[cols]\n",
    "\n",
    "params = {\n",
    "    \n",
    "    'depth':2,\n",
    "    'random_state': 42,\n",
    "    'eval_metric': 'AUC',\n",
    "    'loss_function': 'Logloss',\n",
    "    'learning_rate':0.3,\n",
    "    'iterations':157\n",
    "}\n",
    "\n",
    "model = catboost(**params)\n",
    "    \n",
    "trainX2, testX2, trainy2, testy2 = train_test_split(X_raw, target, test_size = 0.2, random_state = 40)\n",
    "model.fit(X_raw, target)\n",
    "\n",
    "# Tahminleri yap\n",
    "# preds = model.predict_proba(testX2)[:, 1]\n",
    "preds_test = model.predict_proba(test_raw[cols])[:, 1]\n",
    "predictions.append(preds_test * 0)"
   ]
  },
  {
   "cell_type": "markdown",
   "id": "3943f65b",
   "metadata": {
    "papermill": {
     "duration": 0.022964,
     "end_time": "2024-04-22T15:53:22.069077",
     "exception": false,
     "start_time": "2024-04-22T15:53:22.046113",
     "status": "completed"
    },
    "tags": []
   },
   "source": [
    "- takes cat features and applies one-hot encoding\n",
    "- catboost_classifier: (X_cb, target), test_cb"
   ]
  },
  {
   "cell_type": "code",
   "execution_count": 24,
   "id": "e9a3fc3d",
   "metadata": {
    "execution": {
     "iopub.execute_input": "2024-04-22T15:53:22.121967Z",
     "iopub.status.busy": "2024-04-22T15:53:22.121375Z",
     "iopub.status.idle": "2024-04-22T15:53:22.131268Z",
     "shell.execute_reply": "2024-04-22T15:53:22.130139Z"
    },
    "papermill": {
     "duration": 0.039061,
     "end_time": "2024-04-22T15:53:22.133629",
     "exception": false,
     "start_time": "2024-04-22T15:53:22.094568",
     "status": "completed"
    },
    "tags": []
   },
   "outputs": [],
   "source": [
    "#CB\n",
    "if 'catboost' in modelused:\n",
    "    weight_cb = 0\n",
    "    cat_idx = [n for n in range(len(X_cb.columns)) if X_cb.columns[n] in cat_features]\n",
    "    if mtraining == True:\n",
    "        catboost_classifier = catboost(iterations=1000, verbose=100, eval_metric='AUC', random_state=40)\n",
    "        catboost_classifier.fit(trainX_cb, trainy, cat_features=cat_idx, eval_set=(testX_cb, testy), use_best_model=True, early_stopping_rounds=200)\n",
    "    else:\n",
    "        catboost_classifier = catboost(iterations=147, verbose=100, eval_metric='AUC', random_state=40) #285\n",
    "        catboost_classifier.fit(X_cb, target, cat_features=cat_idx)\n",
    "    catboost_classifier.set_probability_threshold(0.4)\n",
    "    prediction = catboost_classifier.predict_proba(test_cb)[:,1]\n",
    "    predictions.append(prediction * weight_cb)"
   ]
  },
  {
   "cell_type": "code",
   "execution_count": 25,
   "id": "07735d7d",
   "metadata": {
    "execution": {
     "iopub.execute_input": "2024-04-22T15:53:22.181920Z",
     "iopub.status.busy": "2024-04-22T15:53:22.181507Z",
     "iopub.status.idle": "2024-04-22T15:53:22.190521Z",
     "shell.execute_reply": "2024-04-22T15:53:22.189350Z"
    },
    "papermill": {
     "duration": 0.036304,
     "end_time": "2024-04-22T15:53:22.193105",
     "exception": false,
     "start_time": "2024-04-22T15:53:22.156801",
     "status": "completed"
    },
    "tags": []
   },
   "outputs": [],
   "source": [
    "#CBv3\n",
    "if 'catboost' in modelused:\n",
    "    weight_cb = 0\n",
    "    cat_idx = [n for n in range(len(X_cb2.columns)) if X_cb2.columns[n] in cat_features]\n",
    "    if mtraining == True:\n",
    "        catboost_classifier = catboost(iterations=1000, verbose=100, eval_metric='AUC', random_state=40)\n",
    "        catboost_classifier.fit(trainX_cb2, trainy, cat_features=cat_idx, eval_set=(testX_cb2, testy), use_best_model=True, early_stopping_rounds=200)\n",
    "    else:\n",
    "        catboost_classifier = catboost(iterations=285, verbose=100, eval_metric='AUC', random_state=40) #285\n",
    "        catboost_classifier.fit(X_cb2, target, cat_features=cat_idx)\n",
    "    catboost_classifier.set_probability_threshold(0.4)\n",
    "    prediction = catboost_classifier.predict_proba(test_cb2)[:,1]\n",
    "    predictions.append(prediction * weight_cb)"
   ]
  },
  {
   "cell_type": "markdown",
   "id": "ec7c5b3d",
   "metadata": {
    "execution": {
     "iopub.status.busy": "2024-01-28T05:27:26.769455Z",
     "iopub.status.idle": "2024-01-28T05:27:26.769969Z",
     "shell.execute_reply": "2024-01-28T05:27:26.769716Z",
     "shell.execute_reply.started": "2024-01-28T05:27:26.76967Z"
    },
    "papermill": {
     "duration": 0.023364,
     "end_time": "2024-04-22T15:53:22.240022",
     "exception": false,
     "start_time": "2024-04-22T15:53:22.216658",
     "status": "completed"
    },
    "tags": []
   },
   "source": [
    "improvement to 0.806 after dropping bmi\n",
    "0.807 scaling/ 0.808 drop patient_id\n",
    "lb not consistent"
   ]
  },
  {
   "cell_type": "markdown",
   "id": "405f1cb6",
   "metadata": {
    "papermill": {
     "duration": 0.023386,
     "end_time": "2024-04-22T15:53:22.286978",
     "exception": false,
     "start_time": "2024-04-22T15:53:22.263592",
     "status": "completed"
    },
    "tags": []
   },
   "source": [
    "Learning rate set to 0.056407\n",
    "\n",
    "0:\ttest: 0.7652067\tbest: 0.7652067 (0)\ttotal: 72.3ms\tremaining: 1m 12s\n",
    "100:\ttest: 0.8031992\tbest: 0.8031992 (100)\ttotal: 3.65s\tremaining: 32.5s\n",
    "200:\ttest: 0.8096645\tbest: 0.8101783 (183)\ttotal: 6.88s\tremaining: 27.3s\n",
    "300:\ttest: 0.8106381\tbest: 0.8112263 (284)\ttotal: 10.1s\tremaining: 23.5s\n",
    "400:\ttest: 0.8104217\tbest: 0.8112263 (284)\ttotal: 13.4s\tremaining: 20s\n",
    "Stopped by overfitting detector  (200 iterations wait)\n",
    "\n",
    "bestTest = 0.811226306\n",
    "bestIteration = 284\n",
    "\n",
    "Shrink model to first 285 iterations."
   ]
  },
  {
   "cell_type": "markdown",
   "id": "b2cb49de",
   "metadata": {
    "papermill": {
     "duration": 0.023409,
     "end_time": "2024-04-22T15:53:22.335720",
     "exception": false,
     "start_time": "2024-04-22T15:53:22.312311",
     "status": "completed"
    },
    "tags": []
   },
   "source": [
    "## XGBoost"
   ]
  },
  {
   "cell_type": "markdown",
   "id": "6778b2ae",
   "metadata": {
    "papermill": {
     "duration": 0.02325,
     "end_time": "2024-04-22T15:53:22.382681",
     "exception": false,
     "start_time": "2024-04-22T15:53:22.359431",
     "status": "completed"
    },
    "tags": []
   },
   "source": [
    "- takes missing values\n",
    "- 'object' -> 'category'"
   ]
  },
  {
   "cell_type": "markdown",
   "id": "d51b25bf",
   "metadata": {
    "papermill": {
     "duration": 0.023007,
     "end_time": "2024-04-22T15:53:22.429065",
     "exception": false,
     "start_time": "2024-04-22T15:53:22.406058",
     "status": "completed"
    },
    "tags": []
   },
   "source": [
    "- converted codes"
   ]
  },
  {
   "cell_type": "code",
   "execution_count": 26,
   "id": "dd3432ff",
   "metadata": {
    "execution": {
     "iopub.execute_input": "2024-04-22T15:53:22.478260Z",
     "iopub.status.busy": "2024-04-22T15:53:22.477246Z",
     "iopub.status.idle": "2024-04-22T15:53:27.293427Z",
     "shell.execute_reply": "2024-04-22T15:53:27.289288Z"
    },
    "papermill": {
     "duration": 4.844221,
     "end_time": "2024-04-22T15:53:27.296598",
     "exception": false,
     "start_time": "2024-04-22T15:53:22.452377",
     "status": "completed"
    },
    "tags": []
   },
   "outputs": [],
   "source": [
    "if 'xgboost' in modelused:\n",
    "    weight_xgb = 0\n",
    "    if mtraining:\n",
    "        # best iteration 241\n",
    "        # best iteration 240, 0.80816\n",
    "        # best iteration 207, 0.80881\n",
    "        xgb_classifier = xgb(n_estimators=800, eval_metric='auc', random_state=40, learning_rate=0.01, early_stopping_rounds=200)\n",
    "        # xgb_classifier = xgb(n_estimators=100, random_state=40, reg_alpha=0.09, reg_lambda=0.09) #early_stopping_rounds=200\n",
    "        xgb_classifier.fit(trainX_xgb, trainy, eval_set = [(testX_xgb, testy)])\n",
    "        tn, fp, fn, tp = confusion_matrix(testy, xgb_classifier.predict(testX_xgb)).ravel()\n",
    "        print(tn, fp, fn, tp)\n",
    "    else:\n",
    "        xgb_classifier = xgb(n_estimators=241, eval_metric='auc', random_state=40, learning_rate=0.01) #207 0.80881 #222 0.80999 v3 + 2 features learning rate 0.01\n",
    "        xgb_classifier.fit(X_xgb, target)\n",
    "    prediction2 = xgb_classifier.predict_proba(test_xgb)[:,1]\n",
    "    predictions.append(prediction2 * weight_xgb)"
   ]
  },
  {
   "cell_type": "code",
   "execution_count": 27,
   "id": "80404547",
   "metadata": {
    "execution": {
     "iopub.execute_input": "2024-04-22T15:53:27.354659Z",
     "iopub.status.busy": "2024-04-22T15:53:27.354228Z",
     "iopub.status.idle": "2024-04-22T15:53:27.845542Z",
     "shell.execute_reply": "2024-04-22T15:53:27.844566Z"
    },
    "papermill": {
     "duration": 0.520318,
     "end_time": "2024-04-22T15:53:27.848226",
     "exception": false,
     "start_time": "2024-04-22T15:53:27.327908",
     "status": "completed"
    },
    "tags": []
   },
   "outputs": [],
   "source": [
    "if 'xgboost' in modelused:\n",
    "    weight_xgb = 1\n",
    "    if mtraining:\n",
    "        # best iteration 241\n",
    "        # best iteration 240, 0.80816\n",
    "        # best iteration 207, 0.80881\n",
    "        xgb_classifier = xgb(n_estimators=800, eval_metric='auc', random_state=40, learning_rate=0.01, early_stopping_rounds=200)\n",
    "        # xgb_classifier = xgb(n_estimators=100, random_state=40, reg_alpha=0.09, reg_lambda=0.09) #early_stopping_rounds=200\n",
    "        xgb_classifier.fit(trainX2, trainy2, eval_set = [(testX2, testy2)])\n",
    "        tn, fp, fn, tp = confusion_matrix(testy2, xgb_classifier.predict(testX2)).ravel()\n",
    "        print(tn, fp, fn, tp)\n",
    "    else:\n",
    "        xgb_classifier = xgb(n_estimators=317, eval_metric='auc', random_state=40, learning_rate=0.01) #207 0.80881 #222 0.80999 v3 + 2 features learning rate 0.01 #216 0.81443\n",
    "        xgb_classifier.fit(X_raw, target)\n",
    "    prediction2 = xgb_classifier.predict_proba(test_raw[cols])[:,1]\n",
    "    predictions.append(prediction2 * weight_xgb)"
   ]
  },
  {
   "cell_type": "markdown",
   "id": "28e2bf88",
   "metadata": {
    "execution": {
     "iopub.execute_input": "2024-02-21T09:03:50.85572Z",
     "iopub.status.busy": "2024-02-21T09:03:50.854983Z",
     "iopub.status.idle": "2024-02-21T09:05:07.616623Z",
     "shell.execute_reply": "2024-02-21T09:05:07.615461Z",
     "shell.execute_reply.started": "2024-02-21T09:03:50.855678Z"
    },
    "papermill": {
     "duration": 0.02329,
     "end_time": "2024-04-22T15:53:27.896100",
     "exception": false,
     "start_time": "2024-04-22T15:53:27.872810",
     "status": "completed"
    },
    "tags": []
   },
   "source": [
    "parameters = {'n_estimators': [241], 'eval_metric': ['auc'], 'random_state': [40], 'learning_rate': [0.01], 'max_depth':[2,4,6,8]}\n",
    "\n",
    "classifier = xgb()\n",
    "grid = GridSearchCV(classifier, parameters)\n",
    "grid.fit(X_xgb, target)"
   ]
  },
  {
   "cell_type": "markdown",
   "id": "fe6a16d1",
   "metadata": {
    "execution": {
     "iopub.execute_input": "2024-02-21T09:05:24.773877Z",
     "iopub.status.busy": "2024-02-21T09:05:24.773409Z",
     "iopub.status.idle": "2024-02-21T09:05:24.780202Z",
     "shell.execute_reply": "2024-02-21T09:05:24.779187Z",
     "shell.execute_reply.started": "2024-02-21T09:05:24.773835Z"
    },
    "papermill": {
     "duration": 0.022914,
     "end_time": "2024-04-22T15:53:27.942173",
     "exception": false,
     "start_time": "2024-04-22T15:53:27.919259",
     "status": "completed"
    },
    "tags": []
   },
   "source": [
    "print(grid.best_params_)\n",
    "print(grid.best_score_)"
   ]
  },
  {
   "cell_type": "markdown",
   "id": "9f79688f",
   "metadata": {
    "papermill": {
     "duration": 0.02273,
     "end_time": "2024-04-22T15:53:27.988193",
     "exception": false,
     "start_time": "2024-04-22T15:53:27.965463",
     "status": "completed"
    },
    "tags": []
   },
   "source": [
    "## Random Forest"
   ]
  },
  {
   "cell_type": "markdown",
   "id": "52924e37",
   "metadata": {
    "papermill": {
     "duration": 0.023001,
     "end_time": "2024-04-22T15:53:28.034847",
     "exception": false,
     "start_time": "2024-04-22T15:53:28.011846",
     "status": "completed"
    },
    "tags": []
   },
   "source": [
    "- rf_classifier: (X_xgb2, target), test_xgb2"
   ]
  },
  {
   "cell_type": "code",
   "execution_count": 28,
   "id": "51fb9b0b",
   "metadata": {
    "execution": {
     "iopub.execute_input": "2024-04-22T15:53:28.083120Z",
     "iopub.status.busy": "2024-04-22T15:53:28.082726Z",
     "iopub.status.idle": "2024-04-22T15:53:28.090092Z",
     "shell.execute_reply": "2024-04-22T15:53:28.089064Z"
    },
    "papermill": {
     "duration": 0.03463,
     "end_time": "2024-04-22T15:53:28.092748",
     "exception": false,
     "start_time": "2024-04-22T15:53:28.058118",
     "status": "completed"
    },
    "tags": []
   },
   "outputs": [],
   "source": [
    "if 'rf' in modelused:\n",
    "    weight_rf = 0.1\n",
    "    rf_classifier = RandomForestClassifier(random_state=40, oob_score=True, n_estimators=1000)\n",
    "    rf_classifier.fit(X_xgbf, target)\n",
    "    prediction_rf = rf_classifier.predict_proba(test_xgbf)[:,1]\n",
    "    \n",
    "    print(rf_classifier.oob_score_)\n",
    "    predictions.append(prediction_rf * weight_rf)"
   ]
  },
  {
   "cell_type": "markdown",
   "id": "a4e44c75",
   "metadata": {
    "papermill": {
     "duration": 0.023342,
     "end_time": "2024-04-22T15:53:28.142869",
     "exception": false,
     "start_time": "2024-04-22T15:53:28.119527",
     "status": "completed"
    },
    "tags": []
   },
   "source": [
    "## Linear"
   ]
  },
  {
   "cell_type": "markdown",
   "id": "3585741c",
   "metadata": {
    "papermill": {
     "duration": 0.023507,
     "end_time": "2024-04-22T15:53:28.189760",
     "exception": false,
     "start_time": "2024-04-22T15:53:28.166253",
     "status": "completed"
    },
    "tags": []
   },
   "source": [
    "- vlf: (X_xgb2, target), test_xgb2"
   ]
  },
  {
   "cell_type": "code",
   "execution_count": 29,
   "id": "da476b4b",
   "metadata": {
    "execution": {
     "iopub.execute_input": "2024-04-22T15:53:28.238762Z",
     "iopub.status.busy": "2024-04-22T15:53:28.238369Z",
     "iopub.status.idle": "2024-04-22T15:53:28.245840Z",
     "shell.execute_reply": "2024-04-22T15:53:28.244556Z"
    },
    "papermill": {
     "duration": 0.035258,
     "end_time": "2024-04-22T15:53:28.248235",
     "exception": false,
     "start_time": "2024-04-22T15:53:28.212977",
     "status": "completed"
    },
    "tags": []
   },
   "outputs": [],
   "source": [
    "if 'linear' in modelused:\n",
    "    vlf = linear_model.RidgeClassifier()\n",
    "    if mtraining:        \n",
    "        vlf.fit(trainX_xgb, trainy)\n",
    "        train_res = vlf.predict(trainX_xgb)\n",
    "        test_scr = vlf.predict(testX_xgb)\n",
    "    else:\n",
    "        #scaler = StandardScaler()\n",
    "        #X_li = scaler.fit_transform(X_li)\n",
    "        vlf.fit(X_xgb, target)\n",
    "        #test_li = scaler.transform(test_li)\n",
    "        train_res = vlf.predict(X_xgb)\n",
    "    test_res = vlf.predict(test_xgb)\n",
    "\n",
    "#     residual = target.sub(train_res)\n",
    "#     residual = residual.mean()\n",
    "#     test_res2 = test_res + residual\n",
    "    #submission_ser = {\"patient_id\": submission['patient_id'], \"DiagPeriodL90D\": test_res2}\n",
    "    #df_linear = pd.DataFrame(data=submission_ser)"
   ]
  },
  {
   "cell_type": "markdown",
   "id": "ef14b767",
   "metadata": {
    "papermill": {
     "duration": 0.022827,
     "end_time": "2024-04-22T15:53:28.294972",
     "exception": false,
     "start_time": "2024-04-22T15:53:28.272145",
     "status": "completed"
    },
    "tags": []
   },
   "source": [
    "## LGB"
   ]
  },
  {
   "cell_type": "code",
   "execution_count": 30,
   "id": "08ae1f8f",
   "metadata": {
    "execution": {
     "iopub.execute_input": "2024-04-22T15:53:28.343452Z",
     "iopub.status.busy": "2024-04-22T15:53:28.343034Z",
     "iopub.status.idle": "2024-04-22T15:53:28.352689Z",
     "shell.execute_reply": "2024-04-22T15:53:28.351577Z"
    },
    "papermill": {
     "duration": 0.036819,
     "end_time": "2024-04-22T15:53:28.355239",
     "exception": false,
     "start_time": "2024-04-22T15:53:28.318420",
     "status": "completed"
    },
    "tags": []
   },
   "outputs": [],
   "source": [
    "if 'lgb' in modelused:\n",
    "    weight_lgb = 0\n",
    "    lgb_classifier = lgb(n_estimators=61, learning_rate=0.08, boosting_type='gbdt', objective='binary') #is_unbalance=True\n",
    "    if mtraining:\n",
    "        lgb_classifier.fit(trainX_lgb, trainy, eval_set=[(testX_lgb, testy)], eval_metric='auc', callbacks=[log_evaluation(), early_stopping(100)])\n",
    "        tn, fp, fn, tp = confusion_matrix(testy, lgb_classifier.predict(testX_lgb)).ravel()\n",
    "        print(tn, fp, fn, tp)\n",
    "    else:\n",
    "        lgb_classifier.fit(X_lgb, target, eval_metric='auc')\n",
    "    prediction_lgb = lgb_classifier.predict_proba(test_lgb)[:,1]\n",
    "    predictions.append(prediction_lgb * weight_lgb)\n",
    "    \n",
    "# if 'lgb' in modelused:\n",
    "#     weight_lgb = 0.1\n",
    "\n",
    "#     lgb_classifier = lgb(n_estimators=1000, learning_rate=0.08, boosting_type='gbdt', objective='binary')\n",
    "#     lgb_classifier.fit(balanced_df, balanced_y, eval_set=[(balanced_df2, balanced_y2)], eval_metric='auc', callbacks=[log_evaluation(), early_stopping(100)])\n",
    "\n",
    "# #     lgb_classifier2 = lgb(n_estimators=1000, learning_rate=0.08, boosting_type='gbdt', objective='binary')\n",
    "# #     lgb_classifier2.fit(balanced_df2, balanced_y2, eval_set=[(balanced_df, balanced_y)], eval_metric='auc', callbacks=[log_evaluation(), early_stopping(100)])\n",
    "\n",
    "#     prediction_lgb = lgb_classifier.predict_proba(test_lgb)[:,1]\n",
    "\n",
    "\n",
    "#     predictions.append(prediction_lgb * weight_lgb)"
   ]
  },
  {
   "cell_type": "markdown",
   "id": "2b44a312",
   "metadata": {
    "papermill": {
     "duration": 0.023087,
     "end_time": "2024-04-22T15:53:28.401749",
     "exception": false,
     "start_time": "2024-04-22T15:53:28.378662",
     "status": "completed"
    },
    "tags": []
   },
   "source": [
    "n_estimators=61 (false_negative = 51, false_positve = 422)"
   ]
  },
  {
   "cell_type": "markdown",
   "id": "68b6393d",
   "metadata": {
    "papermill": {
     "duration": 0.022804,
     "end_time": "2024-04-22T15:53:28.447901",
     "exception": false,
     "start_time": "2024-04-22T15:53:28.425097",
     "status": "completed"
    },
    "tags": []
   },
   "source": [
    "Early stopping, best iteration is:\n",
    "[60]\tvalid_0's auc: 0.807346\tvalid_0's binary_logloss: 0.459549\n",
    "with new features and dropping patient_id"
   ]
  },
  {
   "cell_type": "markdown",
   "id": "b7f8b4a7",
   "metadata": {
    "papermill": {
     "duration": 0.022805,
     "end_time": "2024-04-22T15:53:28.493803",
     "exception": false,
     "start_time": "2024-04-22T15:53:28.470998",
     "status": "completed"
    },
    "tags": []
   },
   "source": [
    "## 4. Ensemble"
   ]
  },
  {
   "cell_type": "code",
   "execution_count": 31,
   "id": "bf239dda",
   "metadata": {
    "execution": {
     "iopub.execute_input": "2024-04-22T15:53:28.542020Z",
     "iopub.status.busy": "2024-04-22T15:53:28.541610Z",
     "iopub.status.idle": "2024-04-22T15:53:28.577544Z",
     "shell.execute_reply": "2024-04-22T15:53:28.576554Z"
    },
    "papermill": {
     "duration": 0.063553,
     "end_time": "2024-04-22T15:53:28.580468",
     "exception": false,
     "start_time": "2024-04-22T15:53:28.516915",
     "status": "completed"
    },
    "tags": []
   },
   "outputs": [],
   "source": [
    "prediction_final = sum(predictions) #+ catboost_df['DiagPeriodL90D'] * 0.3 #* 0.25 + submission_best['DiagPeriodL90D'] * 0.75\n",
    "\n",
    "#prediction_xgbv3 = prediction2 * 0.1 + prediction * 0.2 + prediction_lgb * 0.7\n",
    "submission_se = {\"patient_id\": submission['patient_id'], \"DiagPeriodL90D\": prediction_final}\n",
    "df_final = pd.DataFrame(data=submission_se)\n",
    "\n",
    "#indices = [74, 179, 301, 421, 440, 457, 521, 570, 572, 573, 670, 1007, 1023, 1045, 1326, 1338, 1364, 1531, 1586, 1683, 1756, 1843, 1909, 1969, 2042, 2045, 2133, 2266, 2324, 2525, 2612, 2733, 2861, 2921, 2973, 2984, 3011, 3012, 3115, 3134, 3260, 3587, 3795, 3855, 4064, 4235, 4511, 4753, 5171, 5177, 5215, 5422, 5458, 5459, 5559, 5561, 5582, 5758]\n",
    "# df_trim = df_final.copy()\n",
    "#df_final.loc[indices, 'DiagPeriodL90D'] = prediction_final[indices]\n",
    "# df_trim.to_csv('submission.csv', index=None)\n",
    "\n",
    "df_final.to_csv('submission.csv', index=None)"
   ]
  },
  {
   "cell_type": "markdown",
   "id": "1326d711",
   "metadata": {
    "papermill": {
     "duration": 0.023425,
     "end_time": "2024-04-22T15:53:28.627598",
     "exception": false,
     "start_time": "2024-04-22T15:53:28.604173",
     "status": "completed"
    },
    "tags": []
   },
   "source": [
    "## 5. Evaluation"
   ]
  },
  {
   "cell_type": "markdown",
   "id": "c57dbdff",
   "metadata": {
    "papermill": {
     "duration": 0.022912,
     "end_time": "2024-04-22T15:53:28.674670",
     "exception": false,
     "start_time": "2024-04-22T15:53:28.651758",
     "status": "completed"
    },
    "tags": []
   },
   "source": [
    "Mean of Predictions"
   ]
  },
  {
   "cell_type": "code",
   "execution_count": 32,
   "id": "fbc6517d",
   "metadata": {
    "execution": {
     "iopub.execute_input": "2024-04-22T15:53:28.722658Z",
     "iopub.status.busy": "2024-04-22T15:53:28.722232Z",
     "iopub.status.idle": "2024-04-22T15:53:28.727011Z",
     "shell.execute_reply": "2024-04-22T15:53:28.725980Z"
    },
    "papermill": {
     "duration": 0.031685,
     "end_time": "2024-04-22T15:53:28.729429",
     "exception": false,
     "start_time": "2024-04-22T15:53:28.697744",
     "status": "completed"
    },
    "tags": []
   },
   "outputs": [],
   "source": [
    "# print(prediction_proba.mean(), prediction2.mean(), prediction_rf.mean(), test_res.mean(), prediction_lgb.mean())"
   ]
  },
  {
   "cell_type": "markdown",
   "id": "7fd60d80",
   "metadata": {
    "papermill": {
     "duration": 0.023055,
     "end_time": "2024-04-22T15:53:28.776013",
     "exception": false,
     "start_time": "2024-04-22T15:53:28.752958",
     "status": "completed"
    },
    "tags": []
   },
   "source": [
    "Feature Importances"
   ]
  },
  {
   "cell_type": "code",
   "execution_count": 33,
   "id": "3eb41557",
   "metadata": {
    "execution": {
     "iopub.execute_input": "2024-04-22T15:53:28.824773Z",
     "iopub.status.busy": "2024-04-22T15:53:28.824370Z",
     "iopub.status.idle": "2024-04-22T15:53:28.829242Z",
     "shell.execute_reply": "2024-04-22T15:53:28.828169Z"
    },
    "papermill": {
     "duration": 0.032281,
     "end_time": "2024-04-22T15:53:28.831848",
     "exception": false,
     "start_time": "2024-04-22T15:53:28.799567",
     "status": "completed"
    },
    "tags": []
   },
   "outputs": [],
   "source": [
    "# cat_features = list(zip(catboost_classifier.feature_names_, catboost_classifier.feature_importances_))\n",
    "# cat_features.sort(key=lambda x: x[1], reverse=True)\n",
    "# print(cat_features)\n",
    "# lgb_features = list(zip(lgb_classifier.feature_name_, lgb_classifier.feature_importances_))\n",
    "# lgb_features.sort(key=lambda x: x[1], reverse=True)\n",
    "# lgb_features"
   ]
  },
  {
   "cell_type": "markdown",
   "id": "d3282226",
   "metadata": {
    "papermill": {
     "duration": 0.024217,
     "end_time": "2024-04-22T15:53:28.880132",
     "exception": false,
     "start_time": "2024-04-22T15:53:28.855915",
     "status": "completed"
    },
    "tags": []
   },
   "source": [
    "[('BC_code_MC_code_Age', 90),\n",
    " ('breast_cancer_diagnosis_code', 79),\n",
    " ('payer_type', 70),\n",
    " ('metastatic_cancer_diagnosis_code', 58),\n",
    " ('patient_age', 55),\n",
    " ('metastatic_first_novel_treatment', 52),\n",
    " ('patient_gender', 51),\n",
    " ('BCcode_Age', 44),\n",
    " ('patient_race', 42),\n",
    " ('Region', 41),\n",
    " ('patient_state', 39),\n",
    " ('BC_code_MC_code_MC_code', 38),\n",
    " ('BCcode_Disabled_Rent', 37),\n",
    " ('BCcode_BCcode_Disabled', 36),\n",
    " ('BCcode_MCcode', 34),\n",
    " ('income_household_75_to_100', 33),\n",
    " ('BCcode_Disabled_PatientAge', 33),\n",
    " ('health_uninsured', 32),\n",
    " ('age30_BC_code', 31),\n",
    " ('Division', 30),\n",
    " ('BCcode_Poverty', 30),\n",
    " ('education_highschool', 24),"
   ]
  },
  {
   "cell_type": "code",
   "execution_count": 34,
   "id": "c27c1fb9",
   "metadata": {
    "execution": {
     "iopub.execute_input": "2024-04-22T15:53:28.928896Z",
     "iopub.status.busy": "2024-04-22T15:53:28.928497Z",
     "iopub.status.idle": "2024-04-22T15:53:28.933149Z",
     "shell.execute_reply": "2024-04-22T15:53:28.932078Z"
    },
    "papermill": {
     "duration": 0.031785,
     "end_time": "2024-04-22T15:53:28.935588",
     "exception": false,
     "start_time": "2024-04-22T15:53:28.903803",
     "status": "completed"
    },
    "tags": []
   },
   "outputs": [],
   "source": [
    "# test_outliers.index"
   ]
  },
  {
   "cell_type": "markdown",
   "id": "889260ae",
   "metadata": {
    "papermill": {
     "duration": 0.022735,
     "end_time": "2024-04-22T15:53:28.981407",
     "exception": false,
     "start_time": "2024-04-22T15:53:28.958672",
     "status": "completed"
    },
    "tags": []
   },
   "source": [
    "Index([  74,  179,  301,  421,  440,  457,  521,  570,  572,  573,  670, 1007,\n",
    "       1023, 1045, 1326, 1338, 1364, 1531, 1586, 1683, 1756, 1843, 1909, 1969,\n",
    "       2042, 2045, 2133, 2266, 2324, 2525, 2612, 2733, 2861, 2921, 2973, 2984,\n",
    "       3011, 3012, 3115, 3134, 3260, 3587, 3795, 3855, 4064, 4235, 4511, 4753,\n",
    "       5171, 5177, 5215, 5422, 5458, 5459, 5559, 5561, 5582, 5758],\n",
    "      dtype='int64')"
   ]
  },
  {
   "cell_type": "code",
   "execution_count": 35,
   "id": "43bba8d6",
   "metadata": {
    "execution": {
     "iopub.execute_input": "2024-04-22T15:53:29.029160Z",
     "iopub.status.busy": "2024-04-22T15:53:29.028756Z",
     "iopub.status.idle": "2024-04-22T15:53:29.033556Z",
     "shell.execute_reply": "2024-04-22T15:53:29.032549Z"
    },
    "papermill": {
     "duration": 0.031553,
     "end_time": "2024-04-22T15:53:29.036025",
     "exception": false,
     "start_time": "2024-04-22T15:53:29.004472",
     "status": "completed"
    },
    "tags": []
   },
   "outputs": [],
   "source": [
    "# df_final.loc[test_outliers.index].describe()"
   ]
  },
  {
   "cell_type": "code",
   "execution_count": 36,
   "id": "13ac0cda",
   "metadata": {
    "execution": {
     "iopub.execute_input": "2024-04-22T15:53:29.084209Z",
     "iopub.status.busy": "2024-04-22T15:53:29.083837Z",
     "iopub.status.idle": "2024-04-22T15:53:29.088547Z",
     "shell.execute_reply": "2024-04-22T15:53:29.087510Z"
    },
    "papermill": {
     "duration": 0.031587,
     "end_time": "2024-04-22T15:53:29.090970",
     "exception": false,
     "start_time": "2024-04-22T15:53:29.059383",
     "status": "completed"
    },
    "tags": []
   },
   "outputs": [],
   "source": [
    "# outliers[cat_col.columns].describe()"
   ]
  },
  {
   "cell_type": "code",
   "execution_count": 37,
   "id": "5ed911c2",
   "metadata": {
    "execution": {
     "iopub.execute_input": "2024-04-22T15:53:29.142525Z",
     "iopub.status.busy": "2024-04-22T15:53:29.142093Z",
     "iopub.status.idle": "2024-04-22T15:53:29.147062Z",
     "shell.execute_reply": "2024-04-22T15:53:29.145977Z"
    },
    "papermill": {
     "duration": 0.034355,
     "end_time": "2024-04-22T15:53:29.149434",
     "exception": false,
     "start_time": "2024-04-22T15:53:29.115079",
     "status": "completed"
    },
    "tags": []
   },
   "outputs": [],
   "source": [
    "# outliers.describe()"
   ]
  },
  {
   "cell_type": "markdown",
   "id": "fd6a539a",
   "metadata": {
    "papermill": {
     "duration": 0.022787,
     "end_time": "2024-04-22T15:53:29.195460",
     "exception": false,
     "start_time": "2024-04-22T15:53:29.172673",
     "status": "completed"
    },
    "tags": []
   },
   "source": [
    "ensemble weight tuning"
   ]
  },
  {
   "cell_type": "code",
   "execution_count": 38,
   "id": "52401718",
   "metadata": {
    "execution": {
     "iopub.execute_input": "2024-04-22T15:53:29.243310Z",
     "iopub.status.busy": "2024-04-22T15:53:29.242890Z",
     "iopub.status.idle": "2024-04-22T15:53:29.247709Z",
     "shell.execute_reply": "2024-04-22T15:53:29.246705Z"
    },
    "papermill": {
     "duration": 0.031515,
     "end_time": "2024-04-22T15:53:29.250070",
     "exception": false,
     "start_time": "2024-04-22T15:53:29.218555",
     "status": "completed"
    },
    "tags": []
   },
   "outputs": [],
   "source": [
    "# pipeline_cb = make_pipeline(preprocess_cb, catboost(iterations=185, verbose=100, eval_metric='AUC', random_state=40, learning_rate=0.056, cat_features=cat_idx))\n",
    "# pipeline_xgb = make_pipeline(preprocessor, xgb(n_estimators=241, eval_metric='auc', random_state=40, learning_rate=0.01))\n",
    "#pipeline_linear\n"
   ]
  },
  {
   "cell_type": "code",
   "execution_count": 39,
   "id": "f8af9783",
   "metadata": {
    "execution": {
     "iopub.execute_input": "2024-04-22T15:53:29.299689Z",
     "iopub.status.busy": "2024-04-22T15:53:29.298860Z",
     "iopub.status.idle": "2024-04-22T15:53:29.305078Z",
     "shell.execute_reply": "2024-04-22T15:53:29.303942Z"
    },
    "papermill": {
     "duration": 0.033941,
     "end_time": "2024-04-22T15:53:29.307537",
     "exception": false,
     "start_time": "2024-04-22T15:53:29.273596",
     "status": "completed"
    },
    "tags": []
   },
   "outputs": [],
   "source": [
    "# # # Define the parameter search space\n",
    "# def objective(trial):\n",
    "#     STEP_SIZE = 0.10\n",
    "#     weights = []\n",
    "#     all_models_predictions = []\n",
    "#     upper_limit = 1\n",
    "#     weight_cb = trial.suggest_float('weight_cb', 0, upper_limit, step=STEP_SIZE)\n",
    "#     weights.append(weight_cb)\n",
    "#     upper_limit -= weight_cb\n",
    "#     weight_xgb = 100 - sum(weights) # Adjust the range based on your expectations\n",
    "#     weights.append(weight_xgb)\n",
    "# #     weight_rf = 100 - sum(weights)\n",
    "# #     weights.append(weight_rf)\n",
    "\n",
    "#     ensemble_model = VotingClassifier(\n",
    "#         estimators=[\n",
    "#             ('cb', pipeline_cb),\n",
    "#             ('xgb', pipeline_xgb)\n",
    "# #            ('rf', rf_classifier)\n",
    "#         ], voting='soft', weights=weights)\n",
    "\n",
    "#     # Assuming 'trainX' and 'trainy' are your training data\n",
    "#     cv = cross_val_score(ensemble_model, X, target, cv=skf, scoring='roc_auc').mean()\n",
    "\n",
    "#     return cv\n",
    "\n",
    "# # Assuming 'skf' is your StratifiedKFold object\n",
    "# #skf = StratifiedKFold(n_splits=3, shuffle=True, random_state=40)\n",
    "\n",
    "# # Use the 'sampler' parameter for parallelization\n",
    "# study = optuna.create_study(direction='maximize', sampler=optuna.samplers.TPESampler(seed=2024))\n",
    "# study.optimize(objective, n_trials=15)\n",
    "\n",
    "# best_weights = study.best_params\n",
    "# print(\"Best Weights for Ensemble:\", best_weights)"
   ]
  }
 ],
 "metadata": {
  "kaggle": {
   "accelerator": "none",
   "dataSources": [
    {
     "databundleVersionId": 7469115,
     "sourceId": 65862,
     "sourceType": "competition"
    },
    {
     "datasetId": 4424632,
     "sourceId": 7600833,
     "sourceType": "datasetVersion"
    },
    {
     "datasetId": 4457190,
     "sourceId": 7646614,
     "sourceType": "datasetVersion"
    },
    {
     "datasetId": 4457255,
     "sourceId": 7646728,
     "sourceType": "datasetVersion"
    }
   ],
   "dockerImageVersionId": 30626,
   "isGpuEnabled": false,
   "isInternetEnabled": false,
   "language": "python",
   "sourceType": "notebook"
  },
  "kernelspec": {
   "display_name": "Python 3",
   "language": "python",
   "name": "python3"
  },
  "language_info": {
   "codemirror_mode": {
    "name": "ipython",
    "version": 3
   },
   "file_extension": ".py",
   "mimetype": "text/x-python",
   "name": "python",
   "nbconvert_exporter": "python",
   "pygments_lexer": "ipython3",
   "version": "3.10.12"
  },
  "papermill": {
   "default_parameters": {},
   "duration": 30.312786,
   "end_time": "2024-04-22T15:53:30.253827",
   "environment_variables": {},
   "exception": null,
   "input_path": "__notebook__.ipynb",
   "output_path": "__notebook__.ipynb",
   "parameters": {},
   "start_time": "2024-04-22T15:52:59.941041",
   "version": "2.4.0"
  }
 },
 "nbformat": 4,
 "nbformat_minor": 5
}
