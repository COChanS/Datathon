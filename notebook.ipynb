{
 "cells": [
  {
   "cell_type": "code",
   "execution_count": 1,
   "id": "19c9571d",
   "metadata": {
    "_cell_guid": "b1076dfc-b9ad-4769-8c92-a6c4dae69d19",
    "_uuid": "8f2839f25d086af736a60e9eeb907d3b93b6e0e5",
    "execution": {
     "iopub.execute_input": "2024-02-25T04:11:54.796226Z",
     "iopub.status.busy": "2024-02-25T04:11:54.795598Z",
     "iopub.status.idle": "2024-02-25T04:11:57.351676Z",
     "shell.execute_reply": "2024-02-25T04:11:57.350602Z"
    },
    "papermill": {
     "duration": 2.5868,
     "end_time": "2024-02-25T04:11:57.354617",
     "exception": false,
     "start_time": "2024-02-25T04:11:54.767817",
     "status": "completed"
    },
    "tags": []
   },
   "outputs": [
    {
     "name": "stdout",
     "output_type": "stream",
     "text": [
      "/kaggle/input/widsdatathon2024-challenge1/sample_submission.csv\n",
      "/kaggle/input/widsdatathon2024-challenge1/training.csv\n",
      "/kaggle/input/widsdatathon2024-challenge1/test.csv\n",
      "/kaggle/input/catboost/submission.csv\n",
      "/kaggle/input/catboost/catboost_info/test_error.tsv\n",
      "/kaggle/input/catboost/catboost_info/learn_error.tsv\n",
      "/kaggle/input/catboost/catboost_info/catboost_training.json\n",
      "/kaggle/input/catboost/catboost_info/time_left.tsv\n",
      "/kaggle/input/catboost/catboost_info/learn/events.out.tfevents\n",
      "/kaggle/input/catboost/catboost_info/test/events.out.tfevents\n",
      "/kaggle/input/catboost2/submission.csv\n",
      "/kaggle/input/catboost2/catboost_info/test_error.tsv\n",
      "/kaggle/input/catboost2/catboost_info/learn_error.tsv\n",
      "/kaggle/input/catboost2/catboost_info/catboost_training.json\n",
      "/kaggle/input/catboost2/catboost_info/time_left.tsv\n",
      "/kaggle/input/catboost2/catboost_info/learn/events.out.tfevents\n",
      "/kaggle/input/catboost2/catboost_info/test/events.out.tfevents\n",
      "/kaggle/input/v1-datat/submission.csv\n",
      "/kaggle/input/v1-datat/prediction.csv\n",
      "/kaggle/input/v1-datat/catboost_info/learn_error.tsv\n",
      "/kaggle/input/v1-datat/catboost_info/catboost_training.json\n",
      "/kaggle/input/v1-datat/catboost_info/time_left.tsv\n",
      "/kaggle/input/v1-datat/catboost_info/learn/events.out.tfevents\n"
     ]
    }
   ],
   "source": [
    "import numpy as np #🐷\n",
    "import pandas as pd\n",
    "import matplotlib.pyplot as plt\n",
    "%matplotlib inline\n",
    "import seaborn as sns\n",
    "import os\n",
    "for dirname, _, filenames in os.walk('/kaggle/input'):\n",
    "    for filename in filenames:\n",
    "        print(os.path.join(dirname, filename))"
   ]
  },
  {
   "cell_type": "markdown",
   "id": "b75dccb4",
   "metadata": {
    "execution": {
     "iopub.execute_input": "2024-02-13T07:26:36.804227Z",
     "iopub.status.busy": "2024-02-13T07:26:36.803606Z",
     "iopub.status.idle": "2024-02-13T07:26:36.813489Z",
     "shell.execute_reply": "2024-02-13T07:26:36.809424Z",
     "shell.execute_reply.started": "2024-02-13T07:26:36.804195Z"
    },
    "papermill": {
     "duration": 0.025103,
     "end_time": "2024-02-25T04:11:57.405320",
     "exception": false,
     "start_time": "2024-02-25T04:11:57.380217",
     "status": "completed"
    },
    "tags": []
   },
   "source": [
    "NN model/ submissions tweaking/ outliers/ Region & Division"
   ]
  },
  {
   "cell_type": "code",
   "execution_count": 2,
   "id": "8f6ea090",
   "metadata": {
    "execution": {
     "iopub.execute_input": "2024-02-25T04:11:57.459432Z",
     "iopub.status.busy": "2024-02-25T04:11:57.458724Z",
     "iopub.status.idle": "2024-02-25T04:12:01.996052Z",
     "shell.execute_reply": "2024-02-25T04:12:01.994799Z"
    },
    "papermill": {
     "duration": 4.568744,
     "end_time": "2024-02-25T04:12:01.999562",
     "exception": false,
     "start_time": "2024-02-25T04:11:57.430818",
     "status": "completed"
    },
    "tags": []
   },
   "outputs": [],
   "source": [
    "from catboost import Pool, CatBoostClassifier as catboost\n",
    "from xgboost import XGBClassifier as xgb\n",
    "from lightgbm import LGBMClassifier as lgb, log_evaluation, early_stopping\n",
    "from sklearn.model_selection import train_test_split, GridSearchCV, StratifiedKFold, cross_val_score\n",
    "from sklearn.compose import ColumnTransformer, make_column_selector\n",
    "from sklearn.impute import SimpleImputer\n",
    "from sklearn.preprocessing import StandardScaler, OneHotEncoder, LabelEncoder, FunctionTransformer, OrdinalEncoder\n",
    "from sklearn.pipeline import Pipeline, make_pipeline\n",
    "from sklearn import linear_model\n",
    "from sklearn.ensemble import RandomForestClassifier, VotingClassifier, IsolationForest\n",
    "from sklearn.metrics import roc_auc_score, make_scorer, confusion_matrix\n",
    "from category_encoders import CatBoostEncoder\n",
    "from sklearn.semi_supervised import SelfTrainingClassifier\n",
    "from sklearn.neighbors import LocalOutlierFactor\n",
    "import optuna\n",
    "from sklearn.utils import resample"
   ]
  },
  {
   "cell_type": "code",
   "execution_count": 3,
   "id": "5f686e5c",
   "metadata": {
    "execution": {
     "iopub.execute_input": "2024-02-25T04:12:02.056377Z",
     "iopub.status.busy": "2024-02-25T04:12:02.055915Z",
     "iopub.status.idle": "2024-02-25T04:12:02.060994Z",
     "shell.execute_reply": "2024-02-25T04:12:02.060131Z"
    },
    "papermill": {
     "duration": 0.035482,
     "end_time": "2024-02-25T04:12:02.063779",
     "exception": false,
     "start_time": "2024-02-25T04:12:02.028297",
     "status": "completed"
    },
    "tags": []
   },
   "outputs": [],
   "source": [
    "pd.set_option('display.max_columns', None)\n",
    "pd.set_option('display.max_rows', None)"
   ]
  },
  {
   "cell_type": "markdown",
   "id": "f5448863",
   "metadata": {
    "papermill": {
     "duration": 0.026003,
     "end_time": "2024-02-25T04:12:02.116789",
     "exception": false,
     "start_time": "2024-02-25T04:12:02.090786",
     "status": "completed"
    },
    "tags": []
   },
   "source": [
    "Load Data"
   ]
  },
  {
   "cell_type": "code",
   "execution_count": 4,
   "id": "50b8894e",
   "metadata": {
    "execution": {
     "iopub.execute_input": "2024-02-25T04:12:02.168600Z",
     "iopub.status.busy": "2024-02-25T04:12:02.168136Z",
     "iopub.status.idle": "2024-02-25T04:12:02.964421Z",
     "shell.execute_reply": "2024-02-25T04:12:02.963192Z"
    },
    "papermill": {
     "duration": 0.8257,
     "end_time": "2024-02-25T04:12:02.967392",
     "exception": false,
     "start_time": "2024-02-25T04:12:02.141692",
     "status": "completed"
    },
    "tags": []
   },
   "outputs": [],
   "source": [
    "path = '/kaggle/input/widsdatathon2024-challenge1'\n",
    "training = pd.read_csv(f\"{path}/training.csv\")\n",
    "test = pd.read_csv(f\"{path}/test.csv\")\n",
    "submission = pd.read_csv(f\"{path}/sample_submission.csv\")\n",
    "submission_best = pd.read_csv(\"/kaggle/input/v1-datat/submission.csv\")\n",
    "prediction_best = pd.read_csv(\"/kaggle/input/v1-datat/prediction.csv\")\n",
    "catboost_df = pd.read_csv(\"/kaggle/input/catboost2/submission.csv\")"
   ]
  },
  {
   "cell_type": "markdown",
   "id": "080c9015",
   "metadata": {
    "papermill": {
     "duration": 0.026105,
     "end_time": "2024-02-25T04:12:03.020293",
     "exception": false,
     "start_time": "2024-02-25T04:12:02.994188",
     "status": "completed"
    },
    "tags": []
   },
   "source": [
    "<span style=\"color:crimson;\">Columns by category</span> patients, zipinfo, air"
   ]
  },
  {
   "cell_type": "code",
   "execution_count": 5,
   "id": "96da93a9",
   "metadata": {
    "execution": {
     "iopub.execute_input": "2024-02-25T04:12:03.074410Z",
     "iopub.status.busy": "2024-02-25T04:12:03.073196Z",
     "iopub.status.idle": "2024-02-25T04:12:03.083761Z",
     "shell.execute_reply": "2024-02-25T04:12:03.082515Z"
    },
    "papermill": {
     "duration": 0.041251,
     "end_time": "2024-02-25T04:12:03.086380",
     "exception": false,
     "start_time": "2024-02-25T04:12:03.045129",
     "status": "completed"
    },
    "tags": []
   },
   "outputs": [],
   "source": [
    "pat_col = ['patient_id', 'patient_race', 'payer_type', 'patient_state', 'patient_zip3', 'patient_age', 'patient_gender', 'bmi','breast_cancer_diagnosis_code', 'breast_cancer_diagnosis_desc',\n",
    "       'metastatic_cancer_diagnosis_code', 'metastatic_first_novel_treatment',\n",
    "       'metastatic_first_novel_treatment_type', 'Region', 'Division']\n",
    "zip_col = ['population', 'density', 'age_median', 'age_under_10', 'age_10_to_19',\n",
    "       'age_20s', 'age_30s', 'age_40s', 'age_50s', 'age_60s', 'age_70s',\n",
    "       'age_over_80', 'male', 'female', 'married', 'divorced', 'never_married',\n",
    "       'widowed', 'family_size', 'family_dual_income',\n",
    "       'income_household_median', 'income_household_under_5',\n",
    "       'income_household_5_to_10', 'income_household_10_to_15',\n",
    "       'income_household_15_to_20', 'income_household_20_to_25',\n",
    "       'income_household_25_to_35', 'income_household_35_to_50',\n",
    "       'income_household_50_to_75', 'income_household_75_to_100',\n",
    "       'income_household_100_to_150', 'income_household_150_over',\n",
    "       'income_household_six_figure', 'income_individual_median',\n",
    "       'home_ownership', 'housing_units', 'home_value', 'rent_median',\n",
    "       'rent_burden', 'education_less_highschool', 'education_highschool',\n",
    "       'education_some_college', 'education_bachelors', 'education_graduate',\n",
    "       'education_college_or_above', 'education_stem_degree',\n",
    "       'labor_force_participation', 'unemployment_rate', 'self_employed',\n",
    "       'farmer', 'race_white', 'race_black', 'race_asian', 'race_native',\n",
    "       'race_pacific', 'race_other', 'race_multiple', 'hispanic', 'disabled',\n",
    "       'poverty', 'limited_english', 'commute_time', 'health_uninsured',\n",
    "       'veteran']\n",
    "air_col = ['Ozone', 'PM25', 'N02']"
   ]
  },
  {
   "cell_type": "markdown",
   "id": "e251bfbe",
   "metadata": {
    "papermill": {
     "duration": 0.025139,
     "end_time": "2024-02-25T04:12:03.211186",
     "exception": false,
     "start_time": "2024-02-25T04:12:03.186047",
     "status": "completed"
    },
    "tags": []
   },
   "source": [
    "Categorical data"
   ]
  },
  {
   "cell_type": "code",
   "execution_count": 6,
   "id": "5f32bec3",
   "metadata": {
    "execution": {
     "iopub.execute_input": "2024-02-25T04:12:03.265238Z",
     "iopub.status.busy": "2024-02-25T04:12:03.264759Z",
     "iopub.status.idle": "2024-02-25T04:12:03.271538Z",
     "shell.execute_reply": "2024-02-25T04:12:03.270555Z"
    },
    "papermill": {
     "duration": 0.036567,
     "end_time": "2024-02-25T04:12:03.274050",
     "exception": false,
     "start_time": "2024-02-25T04:12:03.237483",
     "status": "completed"
    },
    "tags": []
   },
   "outputs": [],
   "source": [
    "cat_col = training.select_dtypes('object')"
   ]
  },
  {
   "cell_type": "code",
   "execution_count": 7,
   "id": "07c8fed1",
   "metadata": {
    "execution": {
     "iopub.execute_input": "2024-02-25T04:12:03.327047Z",
     "iopub.status.busy": "2024-02-25T04:12:03.326191Z",
     "iopub.status.idle": "2024-02-25T04:12:03.372595Z",
     "shell.execute_reply": "2024-02-25T04:12:03.371198Z"
    },
    "papermill": {
     "duration": 0.076659,
     "end_time": "2024-02-25T04:12:03.375765",
     "exception": false,
     "start_time": "2024-02-25T04:12:03.299106",
     "status": "completed"
    },
    "tags": []
   },
   "outputs": [
    {
     "data": {
      "text/plain": [
       "{'breast_cancer_diagnosis_code', 'breast_cancer_diagnosis_desc'}"
      ]
     },
     "execution_count": 7,
     "metadata": {},
     "output_type": "execute_result"
    }
   ],
   "source": [
    "good_label_col = [col for col in cat_col if set(test[col]).issubset(set(training[col]))]\n",
    "bad_label_col = set(cat_col.columns)-set(good_label_col)\n",
    "bad_label_col"
   ]
  },
  {
   "cell_type": "code",
   "execution_count": 8,
   "id": "56b21e9f",
   "metadata": {
    "execution": {
     "iopub.execute_input": "2024-02-25T04:12:03.430236Z",
     "iopub.status.busy": "2024-02-25T04:12:03.429315Z",
     "iopub.status.idle": "2024-02-25T04:12:03.438288Z",
     "shell.execute_reply": "2024-02-25T04:12:03.437506Z"
    },
    "papermill": {
     "duration": 0.038991,
     "end_time": "2024-02-25T04:12:03.440921",
     "exception": false,
     "start_time": "2024-02-25T04:12:03.401930",
     "status": "completed"
    },
    "tags": []
   },
   "outputs": [
    {
     "data": {
      "text/plain": [
       "{'C50921', 'C50922'}"
      ]
     },
     "execution_count": 8,
     "metadata": {},
     "output_type": "execute_result"
    }
   ],
   "source": [
    "set(test['breast_cancer_diagnosis_code'])-set(training['breast_cancer_diagnosis_code'])"
   ]
  },
  {
   "cell_type": "markdown",
   "id": "29226871",
   "metadata": {
    "papermill": {
     "duration": 0.025862,
     "end_time": "2024-02-25T04:12:03.493541",
     "exception": false,
     "start_time": "2024-02-25T04:12:03.467679",
     "status": "completed"
    },
    "tags": []
   },
   "source": [
    "Numerical data"
   ]
  },
  {
   "cell_type": "code",
   "execution_count": 9,
   "id": "01353fa2",
   "metadata": {
    "execution": {
     "iopub.execute_input": "2024-02-25T04:12:03.547596Z",
     "iopub.status.busy": "2024-02-25T04:12:03.546693Z",
     "iopub.status.idle": "2024-02-25T04:12:03.555587Z",
     "shell.execute_reply": "2024-02-25T04:12:03.554722Z"
    },
    "papermill": {
     "duration": 0.038594,
     "end_time": "2024-02-25T04:12:03.558028",
     "exception": false,
     "start_time": "2024-02-25T04:12:03.519434",
     "status": "completed"
    },
    "tags": []
   },
   "outputs": [],
   "source": [
    "num_col = training.select_dtypes(include = ['int64','float64'])"
   ]
  },
  {
   "cell_type": "code",
   "execution_count": 10,
   "id": "b6e27ac5",
   "metadata": {
    "execution": {
     "iopub.execute_input": "2024-02-25T04:12:03.613835Z",
     "iopub.status.busy": "2024-02-25T04:12:03.613118Z",
     "iopub.status.idle": "2024-02-25T04:12:03.864063Z",
     "shell.execute_reply": "2024-02-25T04:12:03.862729Z"
    },
    "papermill": {
     "duration": 0.282564,
     "end_time": "2024-02-25T04:12:03.867388",
     "exception": false,
     "start_time": "2024-02-25T04:12:03.584824",
     "status": "completed"
    },
    "tags": []
   },
   "outputs": [],
   "source": [
    "corr_matrix = num_col.corr().abs()\n",
    "mask = np.triu(np.ones_like(corr_matrix, dtype=bool))\n",
    "reduced_corr_matrix = corr_matrix.mask(mask)\n",
    "reduced_corr_matrix = reduced_corr_matrix.mask(reduced_corr_matrix<0.5, 0)\n",
    "#pairwise\n",
    "correlated_features = [c for c in reduced_corr_matrix.columns if any(reduced_corr_matrix[c] > 0.8)]\n",
    "correlated_pair = []\n",
    "for c in correlated_features:\n",
    "    idx = reduced_corr_matrix[reduced_corr_matrix[c] > 0.8].index.values.tolist()\n",
    "    value = reduced_corr_matrix.loc[idx, c]\n",
    "    correlated_pair.append([(idx, c), value])\n",
    "features_removed = ['population', 'male',\n",
    " 'income_household_under_5',\n",
    " 'income_household_5_to_10',\n",
    " 'income_household_10_to_15',\n",
    " 'income_household_15_to_20',\n",
    " 'income_household_20_to_25',\n",
    " 'income_household_25_to_35',\n",
    " 'income_household_35_to_50',\n",
    " 'income_household_100_to_150',\n",
    " 'income_household_150_over']"
   ]
  },
  {
   "cell_type": "markdown",
   "id": "6e0193c9",
   "metadata": {
    "papermill": {
     "duration": 0.026401,
     "end_time": "2024-02-25T04:12:03.919954",
     "exception": false,
     "start_time": "2024-02-25T04:12:03.893553",
     "status": "completed"
    },
    "tags": []
   },
   "source": [
    "**Identified discrepancies in diagnosis gender, zip codes"
   ]
  },
  {
   "cell_type": "markdown",
   "id": "bafb0d80",
   "metadata": {
    "papermill": {
     "duration": 0.025491,
     "end_time": "2024-02-25T04:12:03.971655",
     "exception": false,
     "start_time": "2024-02-25T04:12:03.946164",
     "status": "completed"
    },
    "tags": []
   },
   "source": [
    "## 1. Preprocessing"
   ]
  },
  {
   "cell_type": "markdown",
   "id": "74e53a07",
   "metadata": {
    "papermill": {
     "duration": 0.027053,
     "end_time": "2024-02-25T04:12:04.024625",
     "exception": false,
     "start_time": "2024-02-25T04:12:03.997572",
     "status": "completed"
    },
    "tags": []
   },
   "source": [
    "**Variables**"
   ]
  },
  {
   "cell_type": "code",
   "execution_count": 11,
   "id": "2f398643",
   "metadata": {
    "execution": {
     "iopub.execute_input": "2024-02-25T04:12:04.079562Z",
     "iopub.status.busy": "2024-02-25T04:12:04.078474Z",
     "iopub.status.idle": "2024-02-25T04:12:04.084024Z",
     "shell.execute_reply": "2024-02-25T04:12:04.082725Z"
    },
    "papermill": {
     "duration": 0.035964,
     "end_time": "2024-02-25T04:12:04.086733",
     "exception": false,
     "start_time": "2024-02-25T04:12:04.050769",
     "status": "completed"
    },
    "tags": []
   },
   "outputs": [],
   "source": [
    "#'catboost','xgboost','linear','linear_ens','rf','lgb'\n",
    "modelused = ['xgboost']\n",
    "predictions = []\n",
    "\n",
    "mtraining = False\n"
   ]
  },
  {
   "cell_type": "markdown",
   "id": "b78e460c",
   "metadata": {
    "papermill": {
     "duration": 0.025642,
     "end_time": "2024-02-25T04:12:04.138294",
     "exception": false,
     "start_time": "2024-02-25T04:12:04.112652",
     "status": "completed"
    },
    "tags": []
   },
   "source": [
    "✏️✏️✏️\n",
    "- full: (X_raw, target), test_raw\n",
    "- reduced: (X, target), test"
   ]
  },
  {
   "cell_type": "code",
   "execution_count": 12,
   "id": "6118ffcb",
   "metadata": {
    "execution": {
     "iopub.execute_input": "2024-02-25T04:12:04.195176Z",
     "iopub.status.busy": "2024-02-25T04:12:04.194694Z",
     "iopub.status.idle": "2024-02-25T04:12:04.222797Z",
     "shell.execute_reply": "2024-02-25T04:12:04.221837Z"
    },
    "papermill": {
     "duration": 0.059988,
     "end_time": "2024-02-25T04:12:04.225619",
     "exception": false,
     "start_time": "2024-02-25T04:12:04.165631",
     "status": "completed"
    },
    "tags": []
   },
   "outputs": [],
   "source": [
    "target = training['DiagPeriodL90D']\n",
    "X_raw = training.drop('DiagPeriodL90D', axis = 1)\n",
    "X = X_raw.drop(features_removed, axis = 1)\n",
    "test_raw = test.copy()\n",
    "test = test.drop(features_removed, axis = 1)"
   ]
  },
  {
   "cell_type": "code",
   "execution_count": 13,
   "id": "7b5d914f",
   "metadata": {
    "execution": {
     "iopub.execute_input": "2024-02-25T04:12:04.280733Z",
     "iopub.status.busy": "2024-02-25T04:12:04.279972Z",
     "iopub.status.idle": "2024-02-25T04:12:05.024357Z",
     "shell.execute_reply": "2024-02-25T04:12:05.023257Z"
    },
    "papermill": {
     "duration": 0.775355,
     "end_time": "2024-02-25T04:12:05.027250",
     "exception": false,
     "start_time": "2024-02-25T04:12:04.251895",
     "status": "completed"
    },
    "tags": []
   },
   "outputs": [
    {
     "name": "stdout",
     "output_type": "stream",
     "text": [
      "0:\ttotal: 55.9ms\tremaining: 8.71s\n",
      "1:\ttotal: 57.5ms\tremaining: 4.46s\n",
      "2:\ttotal: 59.1ms\tremaining: 3.03s\n",
      "3:\ttotal: 60.6ms\tremaining: 2.32s\n",
      "4:\ttotal: 62.1ms\tremaining: 1.89s\n",
      "5:\ttotal: 63.5ms\tremaining: 1.6s\n",
      "6:\ttotal: 64.9ms\tremaining: 1.39s\n",
      "7:\ttotal: 66.3ms\tremaining: 1.24s\n",
      "8:\ttotal: 67.8ms\tremaining: 1.11s\n",
      "9:\ttotal: 69.2ms\tremaining: 1.02s\n",
      "10:\ttotal: 70.6ms\tremaining: 937ms\n",
      "11:\ttotal: 72ms\tremaining: 870ms\n",
      "12:\ttotal: 73.4ms\tremaining: 813ms\n",
      "13:\ttotal: 74.8ms\tremaining: 764ms\n",
      "14:\ttotal: 76.3ms\tremaining: 722ms\n",
      "15:\ttotal: 77.6ms\tremaining: 684ms\n",
      "16:\ttotal: 79ms\tremaining: 651ms\n",
      "17:\ttotal: 80.4ms\tremaining: 621ms\n",
      "18:\ttotal: 81.8ms\tremaining: 594ms\n",
      "19:\ttotal: 83.3ms\tremaining: 571ms\n",
      "20:\ttotal: 84.8ms\tremaining: 549ms\n",
      "21:\ttotal: 86.3ms\tremaining: 529ms\n",
      "22:\ttotal: 87.8ms\tremaining: 511ms\n",
      "23:\ttotal: 89.2ms\tremaining: 495ms\n",
      "24:\ttotal: 91ms\tremaining: 480ms\n",
      "25:\ttotal: 92.5ms\tremaining: 466ms\n",
      "26:\ttotal: 93.9ms\tremaining: 452ms\n",
      "27:\ttotal: 95.3ms\tremaining: 439ms\n",
      "28:\ttotal: 96.7ms\tremaining: 427ms\n",
      "29:\ttotal: 98.2ms\tremaining: 416ms\n",
      "30:\ttotal: 99.7ms\tremaining: 405ms\n",
      "31:\ttotal: 101ms\tremaining: 396ms\n",
      "32:\ttotal: 103ms\tremaining: 386ms\n",
      "33:\ttotal: 104ms\tremaining: 377ms\n",
      "34:\ttotal: 106ms\tremaining: 369ms\n",
      "35:\ttotal: 107ms\tremaining: 360ms\n",
      "36:\ttotal: 109ms\tremaining: 352ms\n",
      "37:\ttotal: 110ms\tremaining: 345ms\n",
      "38:\ttotal: 111ms\tremaining: 337ms\n",
      "39:\ttotal: 113ms\tremaining: 330ms\n",
      "40:\ttotal: 114ms\tremaining: 324ms\n",
      "41:\ttotal: 116ms\tremaining: 318ms\n",
      "42:\ttotal: 118ms\tremaining: 312ms\n",
      "43:\ttotal: 119ms\tremaining: 305ms\n",
      "44:\ttotal: 121ms\tremaining: 300ms\n",
      "45:\ttotal: 122ms\tremaining: 294ms\n",
      "46:\ttotal: 124ms\tremaining: 289ms\n",
      "47:\ttotal: 125ms\tremaining: 284ms\n",
      "48:\ttotal: 127ms\tremaining: 280ms\n",
      "49:\ttotal: 129ms\tremaining: 275ms\n",
      "50:\ttotal: 130ms\tremaining: 271ms\n",
      "51:\ttotal: 132ms\tremaining: 266ms\n",
      "52:\ttotal: 134ms\tremaining: 263ms\n",
      "53:\ttotal: 135ms\tremaining: 258ms\n",
      "54:\ttotal: 137ms\tremaining: 254ms\n",
      "55:\ttotal: 139ms\tremaining: 250ms\n",
      "56:\ttotal: 140ms\tremaining: 246ms\n",
      "57:\ttotal: 142ms\tremaining: 242ms\n",
      "58:\ttotal: 144ms\tremaining: 239ms\n",
      "59:\ttotal: 145ms\tremaining: 235ms\n",
      "60:\ttotal: 147ms\tremaining: 231ms\n",
      "61:\ttotal: 149ms\tremaining: 228ms\n",
      "62:\ttotal: 150ms\tremaining: 224ms\n",
      "63:\ttotal: 152ms\tremaining: 221ms\n",
      "64:\ttotal: 154ms\tremaining: 218ms\n",
      "65:\ttotal: 155ms\tremaining: 214ms\n",
      "66:\ttotal: 157ms\tremaining: 211ms\n",
      "67:\ttotal: 159ms\tremaining: 208ms\n",
      "68:\ttotal: 160ms\tremaining: 204ms\n",
      "69:\ttotal: 162ms\tremaining: 201ms\n",
      "70:\ttotal: 164ms\tremaining: 198ms\n",
      "71:\ttotal: 165ms\tremaining: 195ms\n",
      "72:\ttotal: 167ms\tremaining: 192ms\n",
      "73:\ttotal: 169ms\tremaining: 189ms\n",
      "74:\ttotal: 170ms\tremaining: 186ms\n",
      "75:\ttotal: 172ms\tremaining: 183ms\n",
      "76:\ttotal: 174ms\tremaining: 180ms\n",
      "77:\ttotal: 175ms\tremaining: 177ms\n",
      "78:\ttotal: 177ms\tremaining: 174ms\n",
      "79:\ttotal: 178ms\tremaining: 171ms\n",
      "80:\ttotal: 180ms\tremaining: 169ms\n",
      "81:\ttotal: 181ms\tremaining: 166ms\n",
      "82:\ttotal: 183ms\tremaining: 163ms\n",
      "83:\ttotal: 184ms\tremaining: 160ms\n",
      "84:\ttotal: 186ms\tremaining: 158ms\n",
      "85:\ttotal: 188ms\tremaining: 155ms\n",
      "86:\ttotal: 189ms\tremaining: 152ms\n",
      "87:\ttotal: 191ms\tremaining: 150ms\n",
      "88:\ttotal: 192ms\tremaining: 147ms\n",
      "89:\ttotal: 194ms\tremaining: 144ms\n",
      "90:\ttotal: 196ms\tremaining: 142ms\n",
      "91:\ttotal: 197ms\tremaining: 139ms\n",
      "92:\ttotal: 199ms\tremaining: 137ms\n",
      "93:\ttotal: 200ms\tremaining: 134ms\n",
      "94:\ttotal: 202ms\tremaining: 132ms\n",
      "95:\ttotal: 204ms\tremaining: 130ms\n",
      "96:\ttotal: 205ms\tremaining: 127ms\n",
      "97:\ttotal: 207ms\tremaining: 124ms\n",
      "98:\ttotal: 208ms\tremaining: 122ms\n",
      "99:\ttotal: 210ms\tremaining: 119ms\n",
      "100:\ttotal: 211ms\tremaining: 117ms\n",
      "101:\ttotal: 212ms\tremaining: 115ms\n",
      "102:\ttotal: 214ms\tremaining: 112ms\n",
      "103:\ttotal: 215ms\tremaining: 110ms\n",
      "104:\ttotal: 217ms\tremaining: 107ms\n",
      "105:\ttotal: 218ms\tremaining: 105ms\n",
      "106:\ttotal: 220ms\tremaining: 103ms\n",
      "107:\ttotal: 221ms\tremaining: 100ms\n",
      "108:\ttotal: 223ms\tremaining: 98ms\n",
      "109:\ttotal: 224ms\tremaining: 95.8ms\n",
      "110:\ttotal: 226ms\tremaining: 93.5ms\n",
      "111:\ttotal: 227ms\tremaining: 91.3ms\n",
      "112:\ttotal: 229ms\tremaining: 89.2ms\n",
      "113:\ttotal: 231ms\tremaining: 87ms\n",
      "114:\ttotal: 232ms\tremaining: 84.8ms\n",
      "115:\ttotal: 234ms\tremaining: 82.6ms\n",
      "116:\ttotal: 235ms\tremaining: 80.4ms\n",
      "117:\ttotal: 237ms\tremaining: 78.3ms\n",
      "118:\ttotal: 238ms\tremaining: 76.1ms\n",
      "119:\ttotal: 240ms\tremaining: 74ms\n",
      "120:\ttotal: 241ms\tremaining: 71.8ms\n",
      "121:\ttotal: 243ms\tremaining: 69.7ms\n",
      "122:\ttotal: 248ms\tremaining: 68.5ms\n",
      "123:\ttotal: 250ms\tremaining: 66.6ms\n",
      "124:\ttotal: 252ms\tremaining: 64.5ms\n",
      "125:\ttotal: 253ms\tremaining: 62.4ms\n",
      "126:\ttotal: 255ms\tremaining: 60.3ms\n",
      "127:\ttotal: 257ms\tremaining: 58.2ms\n",
      "128:\ttotal: 258ms\tremaining: 56.1ms\n",
      "129:\ttotal: 260ms\tremaining: 54ms\n",
      "130:\ttotal: 262ms\tremaining: 51.9ms\n",
      "131:\ttotal: 263ms\tremaining: 49.9ms\n",
      "132:\ttotal: 265ms\tremaining: 47.8ms\n",
      "133:\ttotal: 266ms\tremaining: 45.7ms\n",
      "134:\ttotal: 268ms\tremaining: 43.7ms\n",
      "135:\ttotal: 270ms\tremaining: 41.7ms\n",
      "136:\ttotal: 271ms\tremaining: 39.6ms\n",
      "137:\ttotal: 273ms\tremaining: 37.6ms\n",
      "138:\ttotal: 274ms\tremaining: 35.5ms\n",
      "139:\ttotal: 276ms\tremaining: 33.5ms\n",
      "140:\ttotal: 277ms\tremaining: 31.5ms\n",
      "141:\ttotal: 279ms\tremaining: 29.4ms\n",
      "142:\ttotal: 280ms\tremaining: 27.5ms\n",
      "143:\ttotal: 282ms\tremaining: 25.5ms\n",
      "144:\ttotal: 284ms\tremaining: 23.5ms\n",
      "145:\ttotal: 285ms\tremaining: 21.5ms\n",
      "146:\ttotal: 287ms\tremaining: 19.5ms\n",
      "147:\ttotal: 288ms\tremaining: 17.5ms\n",
      "148:\ttotal: 290ms\tremaining: 15.6ms\n",
      "149:\ttotal: 292ms\tremaining: 13.6ms\n",
      "150:\ttotal: 293ms\tremaining: 11.6ms\n",
      "151:\ttotal: 295ms\tremaining: 9.69ms\n",
      "152:\ttotal: 296ms\tremaining: 7.74ms\n",
      "153:\ttotal: 298ms\tremaining: 5.8ms\n",
      "154:\ttotal: 299ms\tremaining: 3.86ms\n",
      "155:\ttotal: 301ms\tremaining: 1.93ms\n",
      "156:\ttotal: 302ms\tremaining: 0us\n"
     ]
    }
   ],
   "source": [
    "##catboost new\n",
    "X_raw.drop(columns=['patient_id'],inplace=True)\n",
    "test_raw.drop(columns=['patient_id'],inplace=True)\n",
    "\n",
    "numerical_cols = X_raw.select_dtypes(exclude=['object']).columns\n",
    "categorical_cols = X_raw.select_dtypes(include=['object']).columns\n",
    "for col in categorical_cols:\n",
    "    mode = X_raw[col].mode()[0]\n",
    "    X_raw[col].fillna(mode, inplace=True)\n",
    "    test_raw[col].fillna(mode, inplace=True)\n",
    "for col in numerical_cols:\n",
    "    mean = X_raw[col].median()\n",
    "    X_raw[col].fillna(mean, inplace=True)\n",
    "    test_raw[col].fillna(mean, inplace=True)\n",
    "df = pd.concat([X_raw,test_raw])\n",
    "encoder = OrdinalEncoder(handle_unknown='use_encoded_value', unknown_value=-1)\n",
    "# Loop through each categorical column\n",
    "for col in categorical_cols.to_list()+['patient_zip3']:\n",
    "    # Fit the encoder on the training data\n",
    "    encoder.fit(df[[col]])\n",
    "\n",
    "    # Transform both training and test data\n",
    "    df[col] = encoder.transform(df[[col]])\n",
    "    \n",
    "cols = ['breast_cancer_diagnosis_code','metastatic_cancer_diagnosis_code','patient_zip3','patient_age','payer_type',\n",
    "        'patient_state','breast_cancer_diagnosis_desc']\n",
    "\n",
    "X_raw = df[:len(X_raw)]\n",
    "test_raw = df[-len(test_raw):]\n",
    "\n",
    "X_raw = X_raw[cols]\n",
    "\n",
    "params = {\n",
    "    \n",
    "    'depth':2,\n",
    "    'random_state': 42,\n",
    "    'eval_metric': 'AUC',\n",
    "    'loss_function': 'Logloss',\n",
    "    'learning_rate':0.3,\n",
    "    'iterations':157\n",
    "}\n",
    "\n",
    "model = catboost(**params)\n",
    "    \n",
    "trainX2, testX2, trainy2, testy2 = train_test_split(X_raw, target, test_size = 0.2, random_state = 40)\n",
    "model.fit(X_raw, target)\n",
    "\n",
    "# Tahminleri yap\n",
    "# preds = model.predict_proba(testX2)[:, 1]\n",
    "preds_test = model.predict_proba(test_raw[cols])[:, 1]\n",
    "predictions.append(preds_test * 0)"
   ]
  },
  {
   "cell_type": "code",
   "execution_count": 14,
   "id": "1d070500",
   "metadata": {
    "execution": {
     "iopub.execute_input": "2024-02-25T04:12:05.081885Z",
     "iopub.status.busy": "2024-02-25T04:12:05.081469Z",
     "iopub.status.idle": "2024-02-25T04:12:05.090135Z",
     "shell.execute_reply": "2024-02-25T04:12:05.088345Z"
    },
    "papermill": {
     "duration": 0.038608,
     "end_time": "2024-02-25T04:12:05.092547",
     "exception": false,
     "start_time": "2024-02-25T04:12:05.053939",
     "status": "completed"
    },
    "tags": []
   },
   "outputs": [],
   "source": [
    "def pre_feature(df):\n",
    "    df2 = df.copy()\n",
    "    payer_type = 'COMMERCIAL'\n",
    "    breast_cancer_diagnosis_dict = {'1744':'C50419', '1745':'C50519', '1749':'C50919', '1759':'C50421', '1741':'C50119', '1743':'C50319', '1742':'C50219', '1746':'C50619', '19881':'C7981', \n",
    "    'C50':'C50919', 'C509':'C50919', 'C5001':'C50019'}\n",
    "    df2['breast_cancer_diagnosis_90D_converted'] = df2['breast_cancer_diagnosis_code'].replace(breast_cancer_diagnosis_dict)\n",
    "    df2['uncovered'] = ((df2['payer_type']==payer_type) & (df2['health_uninsured']>=8)).astype(int)\n",
    "    \n",
    "    return df2"
   ]
  },
  {
   "cell_type": "code",
   "execution_count": 15,
   "id": "4160c39f",
   "metadata": {
    "execution": {
     "iopub.execute_input": "2024-02-25T04:12:05.147671Z",
     "iopub.status.busy": "2024-02-25T04:12:05.147175Z",
     "iopub.status.idle": "2024-02-25T04:12:05.160045Z",
     "shell.execute_reply": "2024-02-25T04:12:05.158720Z"
    },
    "papermill": {
     "duration": 0.044222,
     "end_time": "2024-02-25T04:12:05.162963",
     "exception": false,
     "start_time": "2024-02-25T04:12:05.118741",
     "status": "completed"
    },
    "tags": []
   },
   "outputs": [],
   "source": [
    "def fillbystate(df):\n",
    "    df2 = df.copy()\n",
    "    num_features = [col for col in df.columns if df[col].dtype in ['int64', 'float64']]\n",
    "    c_impute = list(set(num_features) & (set(zip_col) | set(air_col)))\n",
    "    df_fill = df.copy()\n",
    "    df2[c_impute] = df_fill.groupby(by='patient_state', sort=False, group_keys=False)[c_impute].apply(lambda x: x.fillna(x.mean()))\n",
    "    return df2\n",
    "\n",
    "def filltest(df):\n",
    "    df2 = df.copy()\n",
    "    num_features = [col for col in df.columns if df[col].dtype in ['int64', 'float64']]\n",
    "    c_impute = list(set(num_features) & (set(zip_col) | set(air_col)))\n",
    "    all_df = pd.concat([X, df2], axis=0, ignore_index=True)\n",
    "    all_df2 = all_df.copy()\n",
    "    all_df[c_impute] = all_df2.groupby(by='patient_state', sort=False, group_keys=False)[c_impute].apply(lambda x: x.fillna(x.mean()))\n",
    "    df2 = all_df.iloc[-len(df):]\n",
    "    return df2\n",
    "\n",
    "def fillCat(df):\n",
    "    df2 = df.copy()\n",
    "    df2 = df.fillna(\"NaN\")\n",
    "    return df2\n",
    "\n",
    "def dropcolumn(df):\n",
    "    df2 = df.copy()\n",
    "    df2 = df2.drop(['bmi'], axis=1)\n",
    "    return df2"
   ]
  },
  {
   "cell_type": "markdown",
   "id": "72e7aba8",
   "metadata": {
    "papermill": {
     "duration": 0.025623,
     "end_time": "2024-02-25T04:12:05.215155",
     "exception": false,
     "start_time": "2024-02-25T04:12:05.189532",
     "status": "completed"
    },
    "tags": []
   },
   "source": [
    "# V3"
   ]
  },
  {
   "cell_type": "code",
   "execution_count": 16,
   "id": "3d779cf9",
   "metadata": {
    "execution": {
     "iopub.execute_input": "2024-02-25T04:12:05.270365Z",
     "iopub.status.busy": "2024-02-25T04:12:05.269882Z",
     "iopub.status.idle": "2024-02-25T04:12:05.277538Z",
     "shell.execute_reply": "2024-02-25T04:12:05.276104Z"
    },
    "papermill": {
     "duration": 0.03805,
     "end_time": "2024-02-25T04:12:05.279926",
     "exception": false,
     "start_time": "2024-02-25T04:12:05.241876",
     "status": "completed"
    },
    "tags": []
   },
   "outputs": [],
   "source": [
    "def dropcolumn_cb(df):\n",
    "    df2 = df.copy()\n",
    "    df2 = df2.drop('bmi', axis=1)\n",
    "    df2 = df2.drop('patient_id', axis=1)\n",
    "    return df2\n",
    "\n",
    "def dropcolumn2(df):\n",
    "    df2 = df.copy()\n",
    "    df2 = df2.drop(['patient_id'], axis=1)\n",
    "    return df2"
   ]
  },
  {
   "cell_type": "markdown",
   "id": "fca44459",
   "metadata": {
    "papermill": {
     "duration": 0.025379,
     "end_time": "2024-02-25T04:12:05.333434",
     "exception": false,
     "start_time": "2024-02-25T04:12:05.308055",
     "status": "completed"
    },
    "tags": []
   },
   "source": [
    "**Pipelines for CB**"
   ]
  },
  {
   "cell_type": "code",
   "execution_count": 17,
   "id": "030ac0a6",
   "metadata": {
    "execution": {
     "iopub.execute_input": "2024-02-25T04:12:05.388006Z",
     "iopub.status.busy": "2024-02-25T04:12:05.387522Z",
     "iopub.status.idle": "2024-02-25T04:12:05.401162Z",
     "shell.execute_reply": "2024-02-25T04:12:05.400268Z"
    },
    "papermill": {
     "duration": 0.043804,
     "end_time": "2024-02-25T04:12:05.403878",
     "exception": false,
     "start_time": "2024-02-25T04:12:05.360074",
     "status": "completed"
    },
    "tags": []
   },
   "outputs": [],
   "source": [
    "cat_features = [col for col in X.columns if X[col].dtype in ['object']]\n",
    "num_features = [col for col in X.columns if X[col].dtype in ['int64', 'float64']]\n",
    "\n",
    "num_transformer = Pipeline([('imputer',SimpleImputer(strategy='mean')), ('scaler',StandardScaler())])\n",
    "# cat_transformer = Pipeline([('imputer', SimpleImputer(strategy='most_frequent')), ('encoder', CatBoostEncoder())])\n",
    "transform_cb = ColumnTransformer([('num', num_transformer, num_features)], remainder='passthrough', verbose_feature_names_out=False).set_output(transform='pandas')\n",
    "# transformer = ColumnTransformer([('imputer', SimpleImputer(strategy='most_frequent'), num_features), ('cat', cat_transformer, cat_features)], remainder='passthrough', verbose_feature_names_out=False).set_output(transform='pandas')\n",
    "\n",
    "preprocess_cb = Pipeline([('fillCat', FunctionTransformer(fillCat)), ('dropcolumn', FunctionTransformer(dropcolumn))])\n",
    "preprocess_cbv3 = Pipeline([('num', transform_cb), ('fillCat', FunctionTransformer(fillCat)), ('dropcolumn', FunctionTransformer(dropcolumn_cb))]) # \n",
    "# preprocessor = Pipeline([('transformer', transformer)]) #xgb\n",
    "# preprocess_lgb = Pipeline([('transformer', transformer), ('dropcolumn2', FunctionTransformer(dropcolumn2))])"
   ]
  },
  {
   "cell_type": "markdown",
   "id": "4d94159e",
   "metadata": {
    "papermill": {
     "duration": 0.026357,
     "end_time": "2024-02-25T04:12:05.457130",
     "exception": false,
     "start_time": "2024-02-25T04:12:05.430773",
     "status": "completed"
    },
    "tags": []
   },
   "source": [
    "**Pipeline for XGB and LGB**"
   ]
  },
  {
   "cell_type": "code",
   "execution_count": 18,
   "id": "e4141aa9",
   "metadata": {
    "execution": {
     "iopub.execute_input": "2024-02-25T04:12:05.511255Z",
     "iopub.status.busy": "2024-02-25T04:12:05.510735Z",
     "iopub.status.idle": "2024-02-25T04:12:05.520755Z",
     "shell.execute_reply": "2024-02-25T04:12:05.519465Z"
    },
    "papermill": {
     "duration": 0.040138,
     "end_time": "2024-02-25T04:12:05.523289",
     "exception": false,
     "start_time": "2024-02-25T04:12:05.483151",
     "status": "completed"
    },
    "tags": []
   },
   "outputs": [],
   "source": [
    "def preprocessing(X, y, test):\n",
    "    cat_features = [col for col in X.columns if X[col].dtype in ['object']]\n",
    "    num_features = [col for col in X.columns if X[col].dtype in ['int64', 'float64']]\n",
    "    cat_transformer = Pipeline([('imputer', SimpleImputer(strategy='most_frequent')), ('encoder', CatBoostEncoder())])\n",
    "    transformer = ColumnTransformer([('imputer', SimpleImputer(strategy='most_frequent'), num_features), ('cat', cat_transformer, cat_features)], remainder='passthrough', verbose_feature_names_out=False).set_output(transform='pandas')\n",
    "    #preprocessor = Pipeline([('fillna', FunctionTransformer(fillbystate)), ('transformer', transformer)])\n",
    "    preprocessor = Pipeline([('transformer', transformer)])\n",
    "    X2 = preprocessor.fit_transform(X, y)\n",
    "    test2 = preprocessor.transform(test)\n",
    "    return X2, test2"
   ]
  },
  {
   "cell_type": "code",
   "execution_count": 19,
   "id": "a1104c17",
   "metadata": {
    "execution": {
     "iopub.execute_input": "2024-02-25T04:12:05.580607Z",
     "iopub.status.busy": "2024-02-25T04:12:05.580100Z",
     "iopub.status.idle": "2024-02-25T04:12:05.600089Z",
     "shell.execute_reply": "2024-02-25T04:12:05.598755Z"
    },
    "papermill": {
     "duration": 0.051882,
     "end_time": "2024-02-25T04:12:05.603104",
     "exception": false,
     "start_time": "2024-02-25T04:12:05.551222",
     "status": "completed"
    },
    "tags": []
   },
   "outputs": [
    {
     "data": {
      "text/html": [
       "<style>#sk-container-id-1 {color: black;background-color: white;}#sk-container-id-1 pre{padding: 0;}#sk-container-id-1 div.sk-toggleable {background-color: white;}#sk-container-id-1 label.sk-toggleable__label {cursor: pointer;display: block;width: 100%;margin-bottom: 0;padding: 0.3em;box-sizing: border-box;text-align: center;}#sk-container-id-1 label.sk-toggleable__label-arrow:before {content: \"▸\";float: left;margin-right: 0.25em;color: #696969;}#sk-container-id-1 label.sk-toggleable__label-arrow:hover:before {color: black;}#sk-container-id-1 div.sk-estimator:hover label.sk-toggleable__label-arrow:before {color: black;}#sk-container-id-1 div.sk-toggleable__content {max-height: 0;max-width: 0;overflow: hidden;text-align: left;background-color: #f0f8ff;}#sk-container-id-1 div.sk-toggleable__content pre {margin: 0.2em;color: black;border-radius: 0.25em;background-color: #f0f8ff;}#sk-container-id-1 input.sk-toggleable__control:checked~div.sk-toggleable__content {max-height: 200px;max-width: 100%;overflow: auto;}#sk-container-id-1 input.sk-toggleable__control:checked~label.sk-toggleable__label-arrow:before {content: \"▾\";}#sk-container-id-1 div.sk-estimator input.sk-toggleable__control:checked~label.sk-toggleable__label {background-color: #d4ebff;}#sk-container-id-1 div.sk-label input.sk-toggleable__control:checked~label.sk-toggleable__label {background-color: #d4ebff;}#sk-container-id-1 input.sk-hidden--visually {border: 0;clip: rect(1px 1px 1px 1px);clip: rect(1px, 1px, 1px, 1px);height: 1px;margin: -1px;overflow: hidden;padding: 0;position: absolute;width: 1px;}#sk-container-id-1 div.sk-estimator {font-family: monospace;background-color: #f0f8ff;border: 1px dotted black;border-radius: 0.25em;box-sizing: border-box;margin-bottom: 0.5em;}#sk-container-id-1 div.sk-estimator:hover {background-color: #d4ebff;}#sk-container-id-1 div.sk-parallel-item::after {content: \"\";width: 100%;border-bottom: 1px solid gray;flex-grow: 1;}#sk-container-id-1 div.sk-label:hover label.sk-toggleable__label {background-color: #d4ebff;}#sk-container-id-1 div.sk-serial::before {content: \"\";position: absolute;border-left: 1px solid gray;box-sizing: border-box;top: 0;bottom: 0;left: 50%;z-index: 0;}#sk-container-id-1 div.sk-serial {display: flex;flex-direction: column;align-items: center;background-color: white;padding-right: 0.2em;padding-left: 0.2em;position: relative;}#sk-container-id-1 div.sk-item {position: relative;z-index: 1;}#sk-container-id-1 div.sk-parallel {display: flex;align-items: stretch;justify-content: center;background-color: white;position: relative;}#sk-container-id-1 div.sk-item::before, #sk-container-id-1 div.sk-parallel-item::before {content: \"\";position: absolute;border-left: 1px solid gray;box-sizing: border-box;top: 0;bottom: 0;left: 50%;z-index: -1;}#sk-container-id-1 div.sk-parallel-item {display: flex;flex-direction: column;z-index: 1;position: relative;background-color: white;}#sk-container-id-1 div.sk-parallel-item:first-child::after {align-self: flex-end;width: 50%;}#sk-container-id-1 div.sk-parallel-item:last-child::after {align-self: flex-start;width: 50%;}#sk-container-id-1 div.sk-parallel-item:only-child::after {width: 0;}#sk-container-id-1 div.sk-dashed-wrapped {border: 1px dashed gray;margin: 0 0.4em 0.5em 0.4em;box-sizing: border-box;padding-bottom: 0.4em;background-color: white;}#sk-container-id-1 div.sk-label label {font-family: monospace;font-weight: bold;display: inline-block;line-height: 1.2em;}#sk-container-id-1 div.sk-label-container {text-align: center;}#sk-container-id-1 div.sk-container {/* jupyter's `normalize.less` sets `[hidden] { display: none; }` but bootstrap.min.css set `[hidden] { display: none !important; }` so we also need the `!important` here to be able to override the default hidden behavior on the sphinx rendered scikit-learn.org. See: https://github.com/scikit-learn/scikit-learn/issues/21755 */display: inline-block !important;position: relative;}#sk-container-id-1 div.sk-text-repr-fallback {display: none;}</style><div id=\"sk-container-id-1\" class=\"sk-top-container\"><div class=\"sk-text-repr-fallback\"><pre>Pipeline(steps=[(&#x27;fillCat&#x27;,\n",
       "                 FunctionTransformer(func=&lt;function fillCat at 0x7b1208eaf2e0&gt;)),\n",
       "                (&#x27;dropcolumn&#x27;,\n",
       "                 FunctionTransformer(func=&lt;function dropcolumn at 0x7b1208eaf370&gt;))])</pre><b>In a Jupyter environment, please rerun this cell to show the HTML representation or trust the notebook. <br />On GitHub, the HTML representation is unable to render, please try loading this page with nbviewer.org.</b></div><div class=\"sk-container\" hidden><div class=\"sk-item sk-dashed-wrapped\"><div class=\"sk-label-container\"><div class=\"sk-label sk-toggleable\"><input class=\"sk-toggleable__control sk-hidden--visually\" id=\"sk-estimator-id-1\" type=\"checkbox\" ><label for=\"sk-estimator-id-1\" class=\"sk-toggleable__label sk-toggleable__label-arrow\">Pipeline</label><div class=\"sk-toggleable__content\"><pre>Pipeline(steps=[(&#x27;fillCat&#x27;,\n",
       "                 FunctionTransformer(func=&lt;function fillCat at 0x7b1208eaf2e0&gt;)),\n",
       "                (&#x27;dropcolumn&#x27;,\n",
       "                 FunctionTransformer(func=&lt;function dropcolumn at 0x7b1208eaf370&gt;))])</pre></div></div></div><div class=\"sk-serial\"><div class=\"sk-item\"><div class=\"sk-estimator sk-toggleable\"><input class=\"sk-toggleable__control sk-hidden--visually\" id=\"sk-estimator-id-2\" type=\"checkbox\" ><label for=\"sk-estimator-id-2\" class=\"sk-toggleable__label sk-toggleable__label-arrow\">FunctionTransformer</label><div class=\"sk-toggleable__content\"><pre>FunctionTransformer(func=&lt;function fillCat at 0x7b1208eaf2e0&gt;)</pre></div></div></div><div class=\"sk-item\"><div class=\"sk-estimator sk-toggleable\"><input class=\"sk-toggleable__control sk-hidden--visually\" id=\"sk-estimator-id-3\" type=\"checkbox\" ><label for=\"sk-estimator-id-3\" class=\"sk-toggleable__label sk-toggleable__label-arrow\">FunctionTransformer</label><div class=\"sk-toggleable__content\"><pre>FunctionTransformer(func=&lt;function dropcolumn at 0x7b1208eaf370&gt;)</pre></div></div></div></div></div></div></div>"
      ],
      "text/plain": [
       "Pipeline(steps=[('fillCat',\n",
       "                 FunctionTransformer(func=<function fillCat at 0x7b1208eaf2e0>)),\n",
       "                ('dropcolumn',\n",
       "                 FunctionTransformer(func=<function dropcolumn at 0x7b1208eaf370>))])"
      ]
     },
     "execution_count": 19,
     "metadata": {},
     "output_type": "execute_result"
    }
   ],
   "source": [
    "preprocess_cb"
   ]
  },
  {
   "cell_type": "code",
   "execution_count": 20,
   "id": "f0ab047b",
   "metadata": {
    "execution": {
     "iopub.execute_input": "2024-02-25T04:12:05.658224Z",
     "iopub.status.busy": "2024-02-25T04:12:05.657274Z",
     "iopub.status.idle": "2024-02-25T04:12:05.662590Z",
     "shell.execute_reply": "2024-02-25T04:12:05.661344Z"
    },
    "papermill": {
     "duration": 0.035153,
     "end_time": "2024-02-25T04:12:05.664985",
     "exception": false,
     "start_time": "2024-02-25T04:12:05.629832",
     "status": "completed"
    },
    "tags": []
   },
   "outputs": [],
   "source": [
    "#preprocessor"
   ]
  },
  {
   "cell_type": "markdown",
   "id": "e9ba46d9",
   "metadata": {
    "papermill": {
     "duration": 0.02554,
     "end_time": "2024-02-25T04:12:05.716720",
     "exception": false,
     "start_time": "2024-02-25T04:12:05.691180",
     "status": "completed"
    },
    "tags": []
   },
   "source": [
    "## 2. Feature Engineering"
   ]
  },
  {
   "cell_type": "code",
   "execution_count": 21,
   "id": "9155727b",
   "metadata": {
    "execution": {
     "iopub.execute_input": "2024-02-25T04:12:05.771504Z",
     "iopub.status.busy": "2024-02-25T04:12:05.771020Z",
     "iopub.status.idle": "2024-02-25T04:12:05.784957Z",
     "shell.execute_reply": "2024-02-25T04:12:05.784072Z"
    },
    "papermill": {
     "duration": 0.044023,
     "end_time": "2024-02-25T04:12:05.787340",
     "exception": false,
     "start_time": "2024-02-25T04:12:05.743317",
     "status": "completed"
    },
    "tags": []
   },
   "outputs": [],
   "source": [
    "def add_feature(df):\n",
    "    df2 = df.copy()\n",
    "#     df2['payer_poverty'] = df2['payer_type'] * df2['poverty']\n",
    "    \n",
    "    df2['BCcode_MCcode'] = df2['breast_cancer_diagnosis_code'] * df2['metastatic_cancer_diagnosis_code']\n",
    "    df2['BCcode_Age'] = df2['breast_cancer_diagnosis_code'] * df2['patient_age']\n",
    "    df2['BCcode_Disabled']  = df2['breast_cancer_diagnosis_code'] * df2['disabled']\n",
    "    df2['BCcode_Rent'] = df2['breast_cancer_diagnosis_code'] * df2['rent_median']\n",
    "    df2['BCcode_BCcode'] = df2['breast_cancer_diagnosis_code'] * df2['breast_cancer_diagnosis_code'] \n",
    "    df2['age30_BC_code'] = df2['age_30s'] * df2['breast_cancer_diagnosis_code'] \n",
    "#     df2['BCcode_IncomeUnder5'] = df2['breast_cancer_diagnosis_code'] * df2['income_household_under_5']\n",
    "    df2['BCdesc_Age'] = df2['breast_cancer_diagnosis_desc'] * df2['patient_age'] \n",
    "    df2['BCcode_Poverty']  = df2['breast_cancer_diagnosis_code'] * df2['poverty']\n",
    "    df2['BCcode_PM25']  = df2['breast_cancer_diagnosis_code'] * df2['PM25']\n",
    "    \n",
    "    df2['BC_code_MC_code_Age'] = df2['breast_cancer_diagnosis_code'] * df2['metastatic_cancer_diagnosis_code'] * df2['patient_age']\n",
    "    df2['BC_code_MC_code_MC_code'] = df2['breast_cancer_diagnosis_code'] * df2['metastatic_cancer_diagnosis_code'] * df2['metastatic_cancer_diagnosis_code']\n",
    "#     df2['BC_code_IncomeUnder5_MC_code'] = df2['breast_cancer_diagnosis_code'] * df2['income_household_under_5'] * df2['metastatic_cancer_diagnosis_code']\n",
    "    df2['BCcode_Disabled_PatientAge']  = df2['breast_cancer_diagnosis_code'] * df2['disabled'] * df2['patient_age']\n",
    "    df2['BCcode_Hispanic_Rent'] = df2['breast_cancer_diagnosis_code'] * df2['hispanic'] * df2['rent_median']\n",
    "    df2['BCcode_State_Rent'] = df2['breast_cancer_diagnosis_code'] * df2['patient_state'] * df2['hispanic'] * df2['rent_median']\n",
    "    df2['BCcode_Disabled_Rent']  = df2['breast_cancer_diagnosis_code'] * df2['disabled'] * df2['rent_median']\n",
    "    df2['BCcode_BCcode_Disabled'] = df2['breast_cancer_diagnosis_code'] * df2['breast_cancer_diagnosis_code'] * df2['disabled']\n",
    "    df2['BCdesc_BCdesc_BCdesc'] = df2['breast_cancer_diagnosis_desc'] * df2['breast_cancer_diagnosis_desc'] * df2['breast_cancer_diagnosis_desc'] #removed 0 importance\n",
    "    df2['BCcode_BCdesc_Disabled'] = df2['breast_cancer_diagnosis_code'] * df2['breast_cancer_diagnosis_desc'] * df2['disabled']\n",
    "    \n",
    "    #Regional\n",
    "#    df2['div_BCcode'] = df2['Division'] * df2['breast_cancer_diagnosis_code']\n",
    "#    df2['div_never_married'] = df2['Division'] * df2['never_married']\n",
    "#    df2['div_income'] = df2['Division'] * df2['income_individual_median']\n",
    "\n",
    "    #health_uninsured\n",
    "#     df2['uninsured_education'] = df2['health_uninsured'] * df2['education_highschool']\n",
    "#     df2['BCcode_uninsured'] = df2['breast_cancer_diagnosis_code'] * df2['health_uninsured']\n",
    "#     df2['uninsured_payer'] = df2['health_uninsured'] * df2['payer_type']\n",
    "#     df2['uninsured_poverty'] = df2['health_uninsured'] * df2['poverty']\n",
    "#     df2['uninsured_race'] = df2['health_uninsured'] * df2['patient_race']\n",
    "    \n",
    "#     #payer_type\n",
    "#     df2['payer_age'] = df2['payer_type'] * df2['patient_age']\n",
    "#     df2['payer_race'] = df2['payer_type'] * df2['patient_race']\n",
    "#     df2['BCcode_payer'] = df2['payer_type'] * df2['breast_cancer_diagnosis_code']\n",
    "#     df2['payer_region'] = df2['payer_type'] * df2['Region']\n",
    "    return df2"
   ]
  },
  {
   "cell_type": "markdown",
   "id": "d458abe9",
   "metadata": {
    "papermill": {
     "duration": 0.026673,
     "end_time": "2024-02-25T04:12:05.841151",
     "exception": false,
     "start_time": "2024-02-25T04:12:05.814478",
     "status": "completed"
    },
    "tags": []
   },
   "source": [
    "- split: (trainX, trainy) (testX, testy), test_i"
   ]
  },
  {
   "cell_type": "code",
   "execution_count": 22,
   "id": "e0b99eeb",
   "metadata": {
    "execution": {
     "iopub.execute_input": "2024-02-25T04:12:05.899170Z",
     "iopub.status.busy": "2024-02-25T04:12:05.898231Z",
     "iopub.status.idle": "2024-02-25T04:12:13.508789Z",
     "shell.execute_reply": "2024-02-25T04:12:13.507383Z"
    },
    "papermill": {
     "duration": 7.643452,
     "end_time": "2024-02-25T04:12:13.511797",
     "exception": false,
     "start_time": "2024-02-25T04:12:05.868345",
     "status": "completed"
    },
    "tags": []
   },
   "outputs": [],
   "source": [
    "X_na = fillbystate(X)\n",
    "test_na = filltest(test)\n",
    "\n",
    "\n",
    "#test data for cb\n",
    "X_cb = preprocess_cb.fit_transform(X_na, target)\n",
    "test_cb = preprocess_cb.transform(test_na)\n",
    "X_cb2 = preprocess_cbv3.fit_transform(X_na, target)\n",
    "test_cb2 = preprocess_cbv3.transform(test_na)\n",
    "\n",
    "#test data for xgb\n",
    "X_xgb, test_xgb = preprocessing(X_na, target, test_na)\n",
    "X_xgb2 = dropcolumn2(X_xgb)\n",
    "test_xgb2 = dropcolumn2(test_xgb)\n",
    "#test data for xgb with features prior to processing\n",
    "Xf = pre_feature(X)\n",
    "testf = pre_feature(test)\n",
    "X_xgbf = fillbystate(Xf)\n",
    "test_xgbf = filltest(testf)\n",
    "X_xgbf, test_xgbf = preprocessing(X_xgbf, target, test_xgbf)\n",
    "X_xgbf = dropcolumn2(X_xgbf)\n",
    "test_xgbf = dropcolumn2(test_xgbf)\n",
    "\n",
    "#test data for lgb\n",
    "X_lgb = add_feature(X_xgb2)\n",
    "test_lgb = add_feature(test_xgb2)\n",
    "\n",
    "if mtraining:\n",
    "    trainX, testX, trainy, testy = train_test_split(X, target, test_size = 0.2, random_state = 40)\n",
    "    #if prefeature\n",
    "    trainXf = pre_feature(trainX)\n",
    "    testXf = pre_feature(testX)\n",
    "    trainXf = fillbystate(trainXf)\n",
    "    testXf = filltest(testXf)\n",
    "    trainXf, testXf = preprocessing(trainXf, trainy, testXf)\n",
    "    trainXf = dropcolumn(trainXf)\n",
    "    testXf = dropcolumn(testXf)\n",
    "    \n",
    "    trainX_na = fillbystate(trainX)\n",
    "    testX_na = filltest(testX)\n",
    "    \n",
    "    trainX_cb = preprocess_cb.fit_transform(trainX_na, trainy)\n",
    "    testX_cb = preprocess_cb.transform(testX_na)\n",
    "    \n",
    "    trainX_xgb, testX_xgb = preprocessing(trainX_na, trainy, testX_na)\n",
    "\n",
    "    trainX_cb2 = preprocess_cbv3.fit_transform(trainX_na, trainy)\n",
    "    testX_cb2 = preprocess_cbv3.transform(testX_na)\n",
    "    \n",
    "    trainX_xgb2 = dropcolumn2(trainX_xgb)\n",
    "    testX_xgb2 = dropcolumn2(testX_xgb)\n",
    "    \n",
    "    trainX_lgb = add_feature(trainX_xgb2)\n",
    "    testX_lgb = add_feature(testX_xgb2)\n",
    "##############################################################################################################################\n"
   ]
  },
  {
   "cell_type": "code",
   "execution_count": 23,
   "id": "895c2ee0",
   "metadata": {
    "execution": {
     "iopub.execute_input": "2024-02-25T04:12:13.567651Z",
     "iopub.status.busy": "2024-02-25T04:12:13.566618Z",
     "iopub.status.idle": "2024-02-25T04:12:13.572415Z",
     "shell.execute_reply": "2024-02-25T04:12:13.571486Z"
    },
    "papermill": {
     "duration": 0.036201,
     "end_time": "2024-02-25T04:12:13.574612",
     "exception": false,
     "start_time": "2024-02-25T04:12:13.538411",
     "status": "completed"
    },
    "tags": []
   },
   "outputs": [],
   "source": [
    "# # Separate the majority and minority classes\n",
    "# majority_class = X_lgb[target == 1]\n",
    "# minority_class = X_lgb[target == 0]\n",
    "\n",
    "# # Randomly undersample the majority class to match the minority class size\n",
    "# majority_downsampled = resample(majority_class, replace=False, n_samples=len(minority_class), random_state=48)\n",
    "# majority_downsampled2 = resample(majority_class, replace=False, n_samples=len(minority_class), random_state=40)\n",
    "# balanced_df = pd.concat([majority_downsampled, minority_class])\n",
    "# balanced_df2 = pd.concat([majority_downsampled2, minority_class])\n",
    "# y = [1] * len(minority_class) + [0] * len(minority_class)\n",
    "# balanced_y = pd.DataFrame(data = y)\n",
    "\n",
    "# # Shuffle the rows in the balanced DataFrame to mix the classes\n",
    "# balanced_df = balanced_df.sample(frac=1, random_state=40)\n",
    "# balanced_df2 = balanced_df2.sample(frac=1, random_state=48)\n",
    "# balanced_y2 = balanced_y.sample(frac=1, random_state=48)\n",
    "# balanced_y = balanced_y.sample(frac=1, random_state=40)"
   ]
  },
  {
   "cell_type": "markdown",
   "id": "92a0c399",
   "metadata": {
    "papermill": {
     "duration": 0.025891,
     "end_time": "2024-02-25T04:12:13.627007",
     "exception": false,
     "start_time": "2024-02-25T04:12:13.601116",
     "status": "completed"
    },
    "tags": []
   },
   "source": [
    "Outliers"
   ]
  },
  {
   "cell_type": "markdown",
   "id": "06bac943",
   "metadata": {
    "execution": {
     "iopub.execute_input": "2024-02-18T23:13:24.004497Z",
     "iopub.status.busy": "2024-02-18T23:13:24.003995Z",
     "iopub.status.idle": "2024-02-18T23:13:24.012016Z",
     "shell.execute_reply": "2024-02-18T23:13:24.010948Z",
     "shell.execute_reply.started": "2024-02-18T23:13:24.004459Z"
    },
    "papermill": {
     "duration": 0.02605,
     "end_time": "2024-02-25T04:12:13.679599",
     "exception": false,
     "start_time": "2024-02-25T04:12:13.653549",
     "status": "completed"
    },
    "tags": []
   },
   "source": [
    "clf = LocalOutlierFactor(n_neighbors=20, contamination=0.01)\n",
    "y_pred = clf.fit_predict(X_xgbf)\n",
    "test_pred = clf.fit_predict(test_xgbf)\n",
    "outliers = training[y_pred == -1]\n",
    "test_outliers = prediction_best[test_pred == -1]\n",
    "X_xgbf = X_xgbf[y_pred != -1]\n",
    "target_xgbf = target[y_pred != -1]"
   ]
  },
  {
   "cell_type": "markdown",
   "id": "3b933878",
   "metadata": {
    "papermill": {
     "duration": 0.02597,
     "end_time": "2024-02-25T04:12:13.732339",
     "exception": false,
     "start_time": "2024-02-25T04:12:13.706369",
     "status": "completed"
    },
    "tags": []
   },
   "source": [
    "## 3. Model Fitting"
   ]
  },
  {
   "cell_type": "markdown",
   "id": "b28f198c",
   "metadata": {
    "papermill": {
     "duration": 0.025958,
     "end_time": "2024-02-25T04:12:13.784885",
     "exception": false,
     "start_time": "2024-02-25T04:12:13.758927",
     "status": "completed"
    },
    "tags": []
   },
   "source": [
    "## CatBoost"
   ]
  },
  {
   "cell_type": "markdown",
   "id": "2408a9fc",
   "metadata": {
    "papermill": {
     "duration": 0.027826,
     "end_time": "2024-02-25T04:12:13.839258",
     "exception": false,
     "start_time": "2024-02-25T04:12:13.811432",
     "status": "completed"
    },
    "tags": []
   },
   "source": [
    "The following modes for processing missing values are supported:\n",
    "\n",
    "\"Forbidden\" — Missing values are not supported, their presence is interpreted as an error.\n",
    "\"Min\" — Missing values are processed as the minimum value (less than all other values) for the feature. **It is guaranteed that a split that separates missing values from all other values is considered when selecting trees.**\n",
    "\"Max\" — Missing values are processed as the maximum value (greater than all other values) for the feature. **It is guaranteed that a split that separates missing values from all other values is considered when selecting trees.**"
   ]
  },
  {
   "cell_type": "markdown",
   "id": "1af28d12",
   "metadata": {
    "papermill": {
     "duration": 0.02645,
     "end_time": "2024-02-25T04:12:13.893122",
     "exception": false,
     "start_time": "2024-02-25T04:12:13.866672",
     "status": "completed"
    },
    "tags": []
   },
   "source": [
    "- takes cat features and applies one-hot encoding\n",
    "- catboost_classifier: (X_cb, target), test_cb"
   ]
  },
  {
   "cell_type": "code",
   "execution_count": 24,
   "id": "93ad9efc",
   "metadata": {
    "execution": {
     "iopub.execute_input": "2024-02-25T04:12:13.948307Z",
     "iopub.status.busy": "2024-02-25T04:12:13.947688Z",
     "iopub.status.idle": "2024-02-25T04:12:13.955842Z",
     "shell.execute_reply": "2024-02-25T04:12:13.954721Z"
    },
    "papermill": {
     "duration": 0.039106,
     "end_time": "2024-02-25T04:12:13.958723",
     "exception": false,
     "start_time": "2024-02-25T04:12:13.919617",
     "status": "completed"
    },
    "tags": []
   },
   "outputs": [],
   "source": [
    "#CB\n",
    "if 'catboost' in modelused:\n",
    "    weight_cb = 0\n",
    "    cat_idx = [n for n in range(len(X_cb.columns)) if X_cb.columns[n] in cat_features]\n",
    "    if mtraining == True:\n",
    "        catboost_classifier = catboost(iterations=1000, verbose=100, eval_metric='AUC', random_state=40)\n",
    "        catboost_classifier.fit(trainX_cb, trainy, cat_features=cat_idx, eval_set=(testX_cb, testy), use_best_model=True, early_stopping_rounds=200)\n",
    "    else:\n",
    "        catboost_classifier = catboost(iterations=147, verbose=100, eval_metric='AUC', random_state=40) #285\n",
    "        catboost_classifier.fit(X_cb, target, cat_features=cat_idx)\n",
    "    catboost_classifier.set_probability_threshold(0.4)\n",
    "    prediction = catboost_classifier.predict_proba(test_cb)[:,1]\n",
    "    predictions.append(prediction * weight_cb)"
   ]
  },
  {
   "cell_type": "code",
   "execution_count": 25,
   "id": "25c63e35",
   "metadata": {
    "execution": {
     "iopub.execute_input": "2024-02-25T04:12:14.015325Z",
     "iopub.status.busy": "2024-02-25T04:12:14.014902Z",
     "iopub.status.idle": "2024-02-25T04:12:14.024807Z",
     "shell.execute_reply": "2024-02-25T04:12:14.023417Z"
    },
    "papermill": {
     "duration": 0.042496,
     "end_time": "2024-02-25T04:12:14.027871",
     "exception": false,
     "start_time": "2024-02-25T04:12:13.985375",
     "status": "completed"
    },
    "tags": []
   },
   "outputs": [],
   "source": [
    "#CBv3\n",
    "if 'catboost' in modelused:\n",
    "    weight_cb = 0\n",
    "    cat_idx = [n for n in range(len(X_cb2.columns)) if X_cb2.columns[n] in cat_features]\n",
    "    if mtraining == True:\n",
    "        catboost_classifier = catboost(iterations=1000, verbose=100, eval_metric='AUC', random_state=40)\n",
    "        catboost_classifier.fit(trainX_cb2, trainy, cat_features=cat_idx, eval_set=(testX_cb2, testy), use_best_model=True, early_stopping_rounds=200)\n",
    "    else:\n",
    "        catboost_classifier = catboost(iterations=285, verbose=100, eval_metric='AUC', random_state=40) #285\n",
    "        catboost_classifier.fit(X_cb2, target, cat_features=cat_idx)\n",
    "    catboost_classifier.set_probability_threshold(0.4)\n",
    "    prediction = catboost_classifier.predict_proba(test_cb2)[:,1]\n",
    "    predictions.append(prediction * weight_cb)"
   ]
  },
  {
   "cell_type": "markdown",
   "id": "d0b6720c",
   "metadata": {
    "execution": {
     "iopub.status.busy": "2024-01-28T05:27:26.769455Z",
     "iopub.status.idle": "2024-01-28T05:27:26.769969Z",
     "shell.execute_reply": "2024-01-28T05:27:26.769716Z",
     "shell.execute_reply.started": "2024-01-28T05:27:26.76967Z"
    },
    "papermill": {
     "duration": 0.026409,
     "end_time": "2024-02-25T04:12:14.081182",
     "exception": false,
     "start_time": "2024-02-25T04:12:14.054773",
     "status": "completed"
    },
    "tags": []
   },
   "source": [
    "improvement to 0.806 after dropping bmi\n",
    "0.807 scaling/ 0.808 drop patient_id\n",
    "lb not consistent"
   ]
  },
  {
   "cell_type": "markdown",
   "id": "0a3b4140",
   "metadata": {
    "papermill": {
     "duration": 0.031338,
     "end_time": "2024-02-25T04:12:14.139825",
     "exception": false,
     "start_time": "2024-02-25T04:12:14.108487",
     "status": "completed"
    },
    "tags": []
   },
   "source": [
    "Learning rate set to 0.056407\n",
    "\n",
    "0:\ttest: 0.7652067\tbest: 0.7652067 (0)\ttotal: 72.3ms\tremaining: 1m 12s\n",
    "100:\ttest: 0.8031992\tbest: 0.8031992 (100)\ttotal: 3.65s\tremaining: 32.5s\n",
    "200:\ttest: 0.8096645\tbest: 0.8101783 (183)\ttotal: 6.88s\tremaining: 27.3s\n",
    "300:\ttest: 0.8106381\tbest: 0.8112263 (284)\ttotal: 10.1s\tremaining: 23.5s\n",
    "400:\ttest: 0.8104217\tbest: 0.8112263 (284)\ttotal: 13.4s\tremaining: 20s\n",
    "Stopped by overfitting detector  (200 iterations wait)\n",
    "\n",
    "bestTest = 0.811226306\n",
    "bestIteration = 284\n",
    "\n",
    "Shrink model to first 285 iterations."
   ]
  },
  {
   "cell_type": "markdown",
   "id": "fa6e8c79",
   "metadata": {
    "papermill": {
     "duration": 0.038945,
     "end_time": "2024-02-25T04:12:14.217929",
     "exception": false,
     "start_time": "2024-02-25T04:12:14.178984",
     "status": "completed"
    },
    "tags": []
   },
   "source": [
    "## XGBoost"
   ]
  },
  {
   "cell_type": "markdown",
   "id": "7f2a5a35",
   "metadata": {
    "papermill": {
     "duration": 0.030576,
     "end_time": "2024-02-25T04:12:14.279494",
     "exception": false,
     "start_time": "2024-02-25T04:12:14.248918",
     "status": "completed"
    },
    "tags": []
   },
   "source": [
    "- takes missing values\n",
    "- 'object' -> 'category'"
   ]
  },
  {
   "cell_type": "markdown",
   "id": "f836732d",
   "metadata": {
    "papermill": {
     "duration": 0.029343,
     "end_time": "2024-02-25T04:12:14.336875",
     "exception": false,
     "start_time": "2024-02-25T04:12:14.307532",
     "status": "completed"
    },
    "tags": []
   },
   "source": [
    "- converted codes"
   ]
  },
  {
   "cell_type": "code",
   "execution_count": 26,
   "id": "ccf1745a",
   "metadata": {
    "execution": {
     "iopub.execute_input": "2024-02-25T04:12:14.395189Z",
     "iopub.status.busy": "2024-02-25T04:12:14.394703Z",
     "iopub.status.idle": "2024-02-25T04:12:19.126749Z",
     "shell.execute_reply": "2024-02-25T04:12:19.125697Z"
    },
    "papermill": {
     "duration": 4.765799,
     "end_time": "2024-02-25T04:12:19.130089",
     "exception": false,
     "start_time": "2024-02-25T04:12:14.364290",
     "status": "completed"
    },
    "tags": []
   },
   "outputs": [],
   "source": [
    "if 'xgboost' in modelused:\n",
    "    weight_xgb = 0\n",
    "    if mtraining:\n",
    "        # best iteration 241\n",
    "        # best iteration 240, 0.80816\n",
    "        # best iteration 207, 0.80881\n",
    "        xgb_classifier = xgb(n_estimators=800, eval_metric='auc', random_state=40, learning_rate=0.01, early_stopping_rounds=200)\n",
    "        # xgb_classifier = xgb(n_estimators=100, random_state=40, reg_alpha=0.09, reg_lambda=0.09) #early_stopping_rounds=200\n",
    "        xgb_classifier.fit(trainX_xgb, trainy, eval_set = [(testX_xgb, testy)])\n",
    "        tn, fp, fn, tp = confusion_matrix(testy, xgb_classifier.predict(testX_xgb)).ravel()\n",
    "        print(tn, fp, fn, tp)\n",
    "    else:\n",
    "        xgb_classifier = xgb(n_estimators=241, eval_metric='auc', random_state=40, learning_rate=0.01) #207 0.80881 #222 0.80999 v3 + 2 features learning rate 0.01\n",
    "        xgb_classifier.fit(X_xgb, target)\n",
    "    prediction2 = xgb_classifier.predict_proba(test_xgb)[:,1]\n",
    "    predictions.append(prediction2 * weight_xgb)"
   ]
  },
  {
   "cell_type": "code",
   "execution_count": 27,
   "id": "c286e4db",
   "metadata": {
    "execution": {
     "iopub.execute_input": "2024-02-25T04:12:19.187285Z",
     "iopub.status.busy": "2024-02-25T04:12:19.186825Z",
     "iopub.status.idle": "2024-02-25T04:12:19.788614Z",
     "shell.execute_reply": "2024-02-25T04:12:19.787543Z"
    },
    "papermill": {
     "duration": 0.633855,
     "end_time": "2024-02-25T04:12:19.791589",
     "exception": false,
     "start_time": "2024-02-25T04:12:19.157734",
     "status": "completed"
    },
    "tags": []
   },
   "outputs": [],
   "source": [
    "if 'xgboost' in modelused:\n",
    "    weight_xgb = 1\n",
    "    if mtraining:\n",
    "        # best iteration 241\n",
    "        # best iteration 240, 0.80816\n",
    "        # best iteration 207, 0.80881\n",
    "        xgb_classifier = xgb(n_estimators=800, eval_metric='auc', random_state=40, learning_rate=0.01, early_stopping_rounds=200)\n",
    "        # xgb_classifier = xgb(n_estimators=100, random_state=40, reg_alpha=0.09, reg_lambda=0.09) #early_stopping_rounds=200\n",
    "        xgb_classifier.fit(trainX2, trainy2, eval_set = [(testX2, testy2)])\n",
    "        tn, fp, fn, tp = confusion_matrix(testy2, xgb_classifier.predict(testX2)).ravel()\n",
    "        print(tn, fp, fn, tp)\n",
    "    else:\n",
    "        xgb_classifier = xgb(n_estimators=317, eval_metric='auc', random_state=40, learning_rate=0.01) #207 0.80881 #222 0.80999 v3 + 2 features learning rate 0.01 #216 0.81443\n",
    "        xgb_classifier.fit(X_raw, target)\n",
    "    prediction2 = xgb_classifier.predict_proba(test_raw[cols])[:,1]\n",
    "    predictions.append(prediction2 * weight_xgb)"
   ]
  },
  {
   "cell_type": "markdown",
   "id": "4d9dd66a",
   "metadata": {
    "execution": {
     "iopub.execute_input": "2024-02-21T09:03:50.855720Z",
     "iopub.status.busy": "2024-02-21T09:03:50.854983Z",
     "iopub.status.idle": "2024-02-21T09:05:07.616623Z",
     "shell.execute_reply": "2024-02-21T09:05:07.615461Z",
     "shell.execute_reply.started": "2024-02-21T09:03:50.855678Z"
    },
    "papermill": {
     "duration": 0.026125,
     "end_time": "2024-02-25T04:12:19.846773",
     "exception": false,
     "start_time": "2024-02-25T04:12:19.820648",
     "status": "completed"
    },
    "tags": []
   },
   "source": [
    "parameters = {'n_estimators': [241], 'eval_metric': ['auc'], 'random_state': [40], 'learning_rate': [0.01], 'max_depth':[2,4,6,8]}\n",
    "\n",
    "classifier = xgb()\n",
    "grid = GridSearchCV(classifier, parameters)\n",
    "grid.fit(X_xgb, target)"
   ]
  },
  {
   "cell_type": "markdown",
   "id": "f7a868c2",
   "metadata": {
    "execution": {
     "iopub.execute_input": "2024-02-21T09:05:24.773877Z",
     "iopub.status.busy": "2024-02-21T09:05:24.773409Z",
     "iopub.status.idle": "2024-02-21T09:05:24.780202Z",
     "shell.execute_reply": "2024-02-21T09:05:24.779187Z",
     "shell.execute_reply.started": "2024-02-21T09:05:24.773835Z"
    },
    "papermill": {
     "duration": 0.02647,
     "end_time": "2024-02-25T04:12:19.899667",
     "exception": false,
     "start_time": "2024-02-25T04:12:19.873197",
     "status": "completed"
    },
    "tags": []
   },
   "source": [
    "print(grid.best_params_)\n",
    "print(grid.best_score_)"
   ]
  },
  {
   "cell_type": "markdown",
   "id": "b769b8f8",
   "metadata": {
    "papermill": {
     "duration": 0.027014,
     "end_time": "2024-02-25T04:12:19.954008",
     "exception": false,
     "start_time": "2024-02-25T04:12:19.926994",
     "status": "completed"
    },
    "tags": []
   },
   "source": [
    "Confusion_matrix (prior pipeline):\n",
    "\n",
    "n_estimators=407, false_negative = 51, false_positve = 421"
   ]
  },
  {
   "cell_type": "markdown",
   "id": "47defcb9",
   "metadata": {
    "papermill": {
     "duration": 0.027954,
     "end_time": "2024-02-25T04:12:20.009652",
     "exception": false,
     "start_time": "2024-02-25T04:12:19.981698",
     "status": "completed"
    },
    "tags": []
   },
   "source": [
    "## Random Forest"
   ]
  },
  {
   "cell_type": "markdown",
   "id": "f1078b48",
   "metadata": {
    "papermill": {
     "duration": 0.026057,
     "end_time": "2024-02-25T04:12:20.063202",
     "exception": false,
     "start_time": "2024-02-25T04:12:20.037145",
     "status": "completed"
    },
    "tags": []
   },
   "source": [
    "- rf_classifier: (X_xgb2, target), test_xgb2"
   ]
  },
  {
   "cell_type": "code",
   "execution_count": 28,
   "id": "6448de92",
   "metadata": {
    "execution": {
     "iopub.execute_input": "2024-02-25T04:12:20.118437Z",
     "iopub.status.busy": "2024-02-25T04:12:20.117989Z",
     "iopub.status.idle": "2024-02-25T04:12:20.125365Z",
     "shell.execute_reply": "2024-02-25T04:12:20.123857Z"
    },
    "papermill": {
     "duration": 0.038416,
     "end_time": "2024-02-25T04:12:20.128081",
     "exception": false,
     "start_time": "2024-02-25T04:12:20.089665",
     "status": "completed"
    },
    "tags": []
   },
   "outputs": [],
   "source": [
    "if 'rf' in modelused:\n",
    "    weight_rf = 0.1\n",
    "    rf_classifier = RandomForestClassifier(random_state=40, oob_score=True, n_estimators=1000)\n",
    "    rf_classifier.fit(X_xgbf, target)\n",
    "    prediction_rf = rf_classifier.predict_proba(test_xgbf)[:,1]\n",
    "    \n",
    "    print(rf_classifier.oob_score_)\n",
    "    predictions.append(prediction_rf * weight_rf)"
   ]
  },
  {
   "cell_type": "markdown",
   "id": "4fc9e6cb",
   "metadata": {
    "papermill": {
     "duration": 0.026072,
     "end_time": "2024-02-25T04:12:20.181370",
     "exception": false,
     "start_time": "2024-02-25T04:12:20.155298",
     "status": "completed"
    },
    "tags": []
   },
   "source": [
    "X_xgb: 0.801022780102278 X_xgb2: 0.800092980009298 X_xgbf: 0.8016426468309313 X_lgb: 0.8004803967147064"
   ]
  },
  {
   "cell_type": "markdown",
   "id": "b4c495d8",
   "metadata": {
    "papermill": {
     "duration": 0.026362,
     "end_time": "2024-02-25T04:12:20.234499",
     "exception": false,
     "start_time": "2024-02-25T04:12:20.208137",
     "status": "completed"
    },
    "tags": []
   },
   "source": [
    "## Linear"
   ]
  },
  {
   "cell_type": "markdown",
   "id": "4ef3dea1",
   "metadata": {
    "papermill": {
     "duration": 0.025953,
     "end_time": "2024-02-25T04:12:20.287166",
     "exception": false,
     "start_time": "2024-02-25T04:12:20.261213",
     "status": "completed"
    },
    "tags": []
   },
   "source": [
    "- vlf: (X_xgb2, target), test_xgb2"
   ]
  },
  {
   "cell_type": "code",
   "execution_count": 29,
   "id": "b0f49c46",
   "metadata": {
    "execution": {
     "iopub.execute_input": "2024-02-25T04:12:20.347787Z",
     "iopub.status.busy": "2024-02-25T04:12:20.347071Z",
     "iopub.status.idle": "2024-02-25T04:12:20.353369Z",
     "shell.execute_reply": "2024-02-25T04:12:20.352528Z"
    },
    "papermill": {
     "duration": 0.040106,
     "end_time": "2024-02-25T04:12:20.355697",
     "exception": false,
     "start_time": "2024-02-25T04:12:20.315591",
     "status": "completed"
    },
    "tags": []
   },
   "outputs": [],
   "source": [
    "if 'linear' in modelused:\n",
    "    vlf = linear_model.RidgeClassifier()\n",
    "    if mtraining:        \n",
    "        vlf.fit(trainX_xgb, trainy)\n",
    "        train_res = vlf.predict(trainX_xgb)\n",
    "        test_scr = vlf.predict(testX_xgb)\n",
    "    else:\n",
    "        #scaler = StandardScaler()\n",
    "        #X_li = scaler.fit_transform(X_li)\n",
    "        vlf.fit(X_xgb, target)\n",
    "        #test_li = scaler.transform(test_li)\n",
    "        train_res = vlf.predict(X_xgb)\n",
    "    test_res = vlf.predict(test_xgb)\n",
    "\n",
    "#     residual = target.sub(train_res)\n",
    "#     residual = residual.mean()\n",
    "#     test_res2 = test_res + residual\n",
    "    #submission_ser = {\"patient_id\": submission['patient_id'], \"DiagPeriodL90D\": test_res2}\n",
    "    #df_linear = pd.DataFrame(data=submission_ser)"
   ]
  },
  {
   "cell_type": "markdown",
   "id": "7d9d1567",
   "metadata": {
    "papermill": {
     "duration": 0.026651,
     "end_time": "2024-02-25T04:12:20.410200",
     "exception": false,
     "start_time": "2024-02-25T04:12:20.383549",
     "status": "completed"
    },
    "tags": []
   },
   "source": [
    "## LGB"
   ]
  },
  {
   "cell_type": "code",
   "execution_count": 30,
   "id": "75d4ee8d",
   "metadata": {
    "execution": {
     "iopub.execute_input": "2024-02-25T04:12:20.465578Z",
     "iopub.status.busy": "2024-02-25T04:12:20.465159Z",
     "iopub.status.idle": "2024-02-25T04:12:20.474933Z",
     "shell.execute_reply": "2024-02-25T04:12:20.473726Z"
    },
    "papermill": {
     "duration": 0.040842,
     "end_time": "2024-02-25T04:12:20.477725",
     "exception": false,
     "start_time": "2024-02-25T04:12:20.436883",
     "status": "completed"
    },
    "tags": []
   },
   "outputs": [],
   "source": [
    "if 'lgb' in modelused:\n",
    "    weight_lgb = 0\n",
    "    lgb_classifier = lgb(n_estimators=61, learning_rate=0.08, boosting_type='gbdt', objective='binary') #is_unbalance=True\n",
    "    if mtraining:\n",
    "        lgb_classifier.fit(trainX_lgb, trainy, eval_set=[(testX_lgb, testy)], eval_metric='auc', callbacks=[log_evaluation(), early_stopping(100)])\n",
    "        tn, fp, fn, tp = confusion_matrix(testy, lgb_classifier.predict(testX_lgb)).ravel()\n",
    "        print(tn, fp, fn, tp)\n",
    "    else:\n",
    "        lgb_classifier.fit(X_lgb, target, eval_metric='auc')\n",
    "    prediction_lgb = lgb_classifier.predict_proba(test_lgb)[:,1]\n",
    "    predictions.append(prediction_lgb * weight_lgb)\n",
    "    \n",
    "# if 'lgb' in modelused:\n",
    "#     weight_lgb = 0.1\n",
    "\n",
    "#     lgb_classifier = lgb(n_estimators=1000, learning_rate=0.08, boosting_type='gbdt', objective='binary')\n",
    "#     lgb_classifier.fit(balanced_df, balanced_y, eval_set=[(balanced_df2, balanced_y2)], eval_metric='auc', callbacks=[log_evaluation(), early_stopping(100)])\n",
    "\n",
    "# #     lgb_classifier2 = lgb(n_estimators=1000, learning_rate=0.08, boosting_type='gbdt', objective='binary')\n",
    "# #     lgb_classifier2.fit(balanced_df2, balanced_y2, eval_set=[(balanced_df, balanced_y)], eval_metric='auc', callbacks=[log_evaluation(), early_stopping(100)])\n",
    "\n",
    "#     prediction_lgb = lgb_classifier.predict_proba(test_lgb)[:,1]\n",
    "\n",
    "\n",
    "#     predictions.append(prediction_lgb * weight_lgb)"
   ]
  },
  {
   "cell_type": "markdown",
   "id": "17f982c8",
   "metadata": {
    "papermill": {
     "duration": 0.02636,
     "end_time": "2024-02-25T04:12:20.530930",
     "exception": false,
     "start_time": "2024-02-25T04:12:20.504570",
     "status": "completed"
    },
    "tags": []
   },
   "source": [
    "n_estimators=61 (false_negative = 51, false_positve = 422)"
   ]
  },
  {
   "cell_type": "markdown",
   "id": "995b1dbd",
   "metadata": {
    "papermill": {
     "duration": 0.026259,
     "end_time": "2024-02-25T04:12:20.584211",
     "exception": false,
     "start_time": "2024-02-25T04:12:20.557952",
     "status": "completed"
    },
    "tags": []
   },
   "source": [
    "Early stopping, best iteration is:\n",
    "[60]\tvalid_0's auc: 0.807346\tvalid_0's binary_logloss: 0.459549\n",
    "with new features and dropping patient_id"
   ]
  },
  {
   "cell_type": "markdown",
   "id": "fe3241cd",
   "metadata": {
    "papermill": {
     "duration": 0.025871,
     "end_time": "2024-02-25T04:12:20.636695",
     "exception": false,
     "start_time": "2024-02-25T04:12:20.610824",
     "status": "completed"
    },
    "tags": []
   },
   "source": [
    "## 3. Ensemble"
   ]
  },
  {
   "cell_type": "code",
   "execution_count": 31,
   "id": "85670743",
   "metadata": {
    "execution": {
     "iopub.execute_input": "2024-02-25T04:12:20.691642Z",
     "iopub.status.busy": "2024-02-25T04:12:20.691231Z",
     "iopub.status.idle": "2024-02-25T04:12:20.729200Z",
     "shell.execute_reply": "2024-02-25T04:12:20.727788Z"
    },
    "papermill": {
     "duration": 0.069365,
     "end_time": "2024-02-25T04:12:20.732731",
     "exception": false,
     "start_time": "2024-02-25T04:12:20.663366",
     "status": "completed"
    },
    "tags": []
   },
   "outputs": [],
   "source": [
    "prediction_final = sum(predictions) #+ catboost_df['DiagPeriodL90D'] * 0.3 #* 0.25 + submission_best['DiagPeriodL90D'] * 0.75\n",
    "\n",
    "#prediction_xgbv3 = prediction2 * 0.1 + prediction * 0.2 + prediction_lgb * 0.7\n",
    "submission_se = {\"patient_id\": submission['patient_id'], \"DiagPeriodL90D\": prediction_final}\n",
    "df_final = pd.DataFrame(data=submission_se)\n",
    "\n",
    "#indices = [74, 179, 301, 421, 440, 457, 521, 570, 572, 573, 670, 1007, 1023, 1045, 1326, 1338, 1364, 1531, 1586, 1683, 1756, 1843, 1909, 1969, 2042, 2045, 2133, 2266, 2324, 2525, 2612, 2733, 2861, 2921, 2973, 2984, 3011, 3012, 3115, 3134, 3260, 3587, 3795, 3855, 4064, 4235, 4511, 4753, 5171, 5177, 5215, 5422, 5458, 5459, 5559, 5561, 5582, 5758]\n",
    "# df_trim = df_final.copy()\n",
    "#df_final.loc[indices, 'DiagPeriodL90D'] = prediction_final[indices]\n",
    "# df_trim.to_csv('submission.csv', index=None)\n",
    "\n",
    "df_final.to_csv('submission.csv', index=None)"
   ]
  },
  {
   "cell_type": "markdown",
   "id": "a5fbb614",
   "metadata": {
    "papermill": {
     "duration": 0.026527,
     "end_time": "2024-02-25T04:12:20.786587",
     "exception": false,
     "start_time": "2024-02-25T04:12:20.760060",
     "status": "completed"
    },
    "tags": []
   },
   "source": [
    "**prediction [xgb with features]**"
   ]
  },
  {
   "cell_type": "code",
   "execution_count": null,
   "id": "c7e5098b",
   "metadata": {
    "papermill": {
     "duration": 0.02625,
     "end_time": "2024-02-25T04:12:20.839537",
     "exception": false,
     "start_time": "2024-02-25T04:12:20.813287",
     "status": "completed"
    },
    "tags": []
   },
   "outputs": [],
   "source": []
  },
  {
   "cell_type": "markdown",
   "id": "12509b26",
   "metadata": {
    "papermill": {
     "duration": 0.026498,
     "end_time": "2024-02-25T04:12:20.892770",
     "exception": false,
     "start_time": "2024-02-25T04:12:20.866272",
     "status": "completed"
    },
    "tags": []
   },
   "source": [
    "## 4. Evaluation"
   ]
  },
  {
   "cell_type": "markdown",
   "id": "e110dc5a",
   "metadata": {
    "papermill": {
     "duration": 0.026707,
     "end_time": "2024-02-25T04:12:20.946119",
     "exception": false,
     "start_time": "2024-02-25T04:12:20.919412",
     "status": "completed"
    },
    "tags": []
   },
   "source": [
    "Mean of Predictions"
   ]
  },
  {
   "cell_type": "code",
   "execution_count": 32,
   "id": "2dc260fe",
   "metadata": {
    "execution": {
     "iopub.execute_input": "2024-02-25T04:12:21.001825Z",
     "iopub.status.busy": "2024-02-25T04:12:21.001303Z",
     "iopub.status.idle": "2024-02-25T04:12:21.008036Z",
     "shell.execute_reply": "2024-02-25T04:12:21.006561Z"
    },
    "papermill": {
     "duration": 0.037813,
     "end_time": "2024-02-25T04:12:21.010329",
     "exception": false,
     "start_time": "2024-02-25T04:12:20.972516",
     "status": "completed"
    },
    "tags": []
   },
   "outputs": [],
   "source": [
    "# print(prediction_proba.mean(), prediction2.mean(), prediction_rf.mean(), test_res.mean(), prediction_lgb.mean())"
   ]
  },
  {
   "cell_type": "markdown",
   "id": "e91d09c9",
   "metadata": {
    "papermill": {
     "duration": 0.026204,
     "end_time": "2024-02-25T04:12:21.063342",
     "exception": false,
     "start_time": "2024-02-25T04:12:21.037138",
     "status": "completed"
    },
    "tags": []
   },
   "source": [
    "Feature Importances"
   ]
  },
  {
   "cell_type": "code",
   "execution_count": 33,
   "id": "fbaaac3b",
   "metadata": {
    "execution": {
     "iopub.execute_input": "2024-02-25T04:12:21.118542Z",
     "iopub.status.busy": "2024-02-25T04:12:21.118095Z",
     "iopub.status.idle": "2024-02-25T04:12:21.123817Z",
     "shell.execute_reply": "2024-02-25T04:12:21.122325Z"
    },
    "papermill": {
     "duration": 0.036611,
     "end_time": "2024-02-25T04:12:21.126517",
     "exception": false,
     "start_time": "2024-02-25T04:12:21.089906",
     "status": "completed"
    },
    "tags": []
   },
   "outputs": [],
   "source": [
    "# cat_features = list(zip(catboost_classifier.feature_names_, catboost_classifier.feature_importances_))\n",
    "# cat_features.sort(key=lambda x: x[1], reverse=True)\n",
    "# print(cat_features)\n",
    "# lgb_features = list(zip(lgb_classifier.feature_name_, lgb_classifier.feature_importances_))\n",
    "# lgb_features.sort(key=lambda x: x[1], reverse=True)\n",
    "# lgb_features"
   ]
  },
  {
   "cell_type": "markdown",
   "id": "2c268557",
   "metadata": {
    "papermill": {
     "duration": 0.026381,
     "end_time": "2024-02-25T04:12:21.180070",
     "exception": false,
     "start_time": "2024-02-25T04:12:21.153689",
     "status": "completed"
    },
    "tags": []
   },
   "source": [
    "[('BC_code_MC_code_Age', 90),\n",
    " ('breast_cancer_diagnosis_code', 79),\n",
    " ('payer_type', 70),\n",
    " ('metastatic_cancer_diagnosis_code', 58),\n",
    " ('patient_age', 55),\n",
    " ('metastatic_first_novel_treatment', 52),\n",
    " ('patient_gender', 51),\n",
    " ('BCcode_Age', 44),\n",
    " ('patient_race', 42),\n",
    " ('Region', 41),\n",
    " ('patient_state', 39),\n",
    " ('BC_code_MC_code_MC_code', 38),\n",
    " ('BCcode_Disabled_Rent', 37),\n",
    " ('BCcode_BCcode_Disabled', 36),\n",
    " ('BCcode_MCcode', 34),\n",
    " ('income_household_75_to_100', 33),\n",
    " ('BCcode_Disabled_PatientAge', 33),\n",
    " ('health_uninsured', 32),\n",
    " ('age30_BC_code', 31),\n",
    " ('Division', 30),\n",
    " ('BCcode_Poverty', 30),\n",
    " ('education_highschool', 24),"
   ]
  },
  {
   "cell_type": "markdown",
   "id": "24a3113c",
   "metadata": {
    "papermill": {
     "duration": 0.026423,
     "end_time": "2024-02-25T04:12:21.233563",
     "exception": false,
     "start_time": "2024-02-25T04:12:21.207140",
     "status": "completed"
    },
    "tags": []
   },
   "source": [
    "Tracking Submissions"
   ]
  },
  {
   "cell_type": "code",
   "execution_count": 34,
   "id": "9520aab4",
   "metadata": {
    "execution": {
     "iopub.execute_input": "2024-02-25T04:12:21.288891Z",
     "iopub.status.busy": "2024-02-25T04:12:21.288427Z",
     "iopub.status.idle": "2024-02-25T04:12:21.340932Z",
     "shell.execute_reply": "2024-02-25T04:12:21.339549Z"
    },
    "papermill": {
     "duration": 0.083851,
     "end_time": "2024-02-25T04:12:21.344152",
     "exception": false,
     "start_time": "2024-02-25T04:12:21.260301",
     "status": "completed"
    },
    "tags": []
   },
   "outputs": [],
   "source": [
    "submission_best['V73_newxgb'] = df_final[\"DiagPeriodL90D\"]\n",
    "submission_best.to_csv('submission_best.csv')\n",
    "# prediction_best['compare'] = df_final[\"DiagPeriodL90D\"] - prediction_best[\"DiagPeriodL90D\"]\n",
    "\n",
    "# prediction_best[cat_col.columns][prediction_best['compare']>0].describe()"
   ]
  },
  {
   "cell_type": "code",
   "execution_count": 35,
   "id": "6eaf4c36",
   "metadata": {
    "execution": {
     "iopub.execute_input": "2024-02-25T04:12:21.401033Z",
     "iopub.status.busy": "2024-02-25T04:12:21.400609Z",
     "iopub.status.idle": "2024-02-25T04:12:21.417309Z",
     "shell.execute_reply": "2024-02-25T04:12:21.416071Z"
    },
    "papermill": {
     "duration": 0.048475,
     "end_time": "2024-02-25T04:12:21.420042",
     "exception": false,
     "start_time": "2024-02-25T04:12:21.371567",
     "status": "completed"
    },
    "tags": []
   },
   "outputs": [
    {
     "data": {
      "text/html": [
       "<div>\n",
       "<style scoped>\n",
       "    .dataframe tbody tr th:only-of-type {\n",
       "        vertical-align: middle;\n",
       "    }\n",
       "\n",
       "    .dataframe tbody tr th {\n",
       "        vertical-align: top;\n",
       "    }\n",
       "\n",
       "    .dataframe thead th {\n",
       "        text-align: right;\n",
       "    }\n",
       "</style>\n",
       "<table border=\"1\" class=\"dataframe\">\n",
       "  <thead>\n",
       "    <tr style=\"text-align: right;\">\n",
       "      <th></th>\n",
       "      <th>patient_id</th>\n",
       "      <th>DiagPeriodL90D</th>\n",
       "      <th>V73_newxgb</th>\n",
       "    </tr>\n",
       "  </thead>\n",
       "  <tbody>\n",
       "    <tr>\n",
       "      <th>0</th>\n",
       "      <td>573710</td>\n",
       "      <td>0.808359</td>\n",
       "      <td>0.769741</td>\n",
       "    </tr>\n",
       "    <tr>\n",
       "      <th>1</th>\n",
       "      <td>593679</td>\n",
       "      <td>0.737129</td>\n",
       "      <td>0.803307</td>\n",
       "    </tr>\n",
       "    <tr>\n",
       "      <th>2</th>\n",
       "      <td>184532</td>\n",
       "      <td>0.761459</td>\n",
       "      <td>0.761241</td>\n",
       "    </tr>\n",
       "    <tr>\n",
       "      <th>3</th>\n",
       "      <td>447383</td>\n",
       "      <td>0.773402</td>\n",
       "      <td>0.792890</td>\n",
       "    </tr>\n",
       "    <tr>\n",
       "      <th>4</th>\n",
       "      <td>687972</td>\n",
       "      <td>0.801770</td>\n",
       "      <td>0.788245</td>\n",
       "    </tr>\n",
       "  </tbody>\n",
       "</table>\n",
       "</div>"
      ],
      "text/plain": [
       "   patient_id  DiagPeriodL90D  V73_newxgb\n",
       "0      573710        0.808359    0.769741\n",
       "1      593679        0.737129    0.803307\n",
       "2      184532        0.761459    0.761241\n",
       "3      447383        0.773402    0.792890\n",
       "4      687972        0.801770    0.788245"
      ]
     },
     "execution_count": 35,
     "metadata": {},
     "output_type": "execute_result"
    }
   ],
   "source": [
    "submission_best.head()"
   ]
  },
  {
   "cell_type": "code",
   "execution_count": 36,
   "id": "801b9307",
   "metadata": {
    "execution": {
     "iopub.execute_input": "2024-02-25T04:12:21.476571Z",
     "iopub.status.busy": "2024-02-25T04:12:21.476152Z",
     "iopub.status.idle": "2024-02-25T04:12:21.481491Z",
     "shell.execute_reply": "2024-02-25T04:12:21.480093Z"
    },
    "papermill": {
     "duration": 0.036795,
     "end_time": "2024-02-25T04:12:21.484101",
     "exception": false,
     "start_time": "2024-02-25T04:12:21.447306",
     "status": "completed"
    },
    "tags": []
   },
   "outputs": [],
   "source": [
    "# prediction_best[(prediction_best['compare']<0)&(prediction_best['Division']=='Pacific')].describe()"
   ]
  },
  {
   "cell_type": "code",
   "execution_count": 37,
   "id": "75c598c3",
   "metadata": {
    "execution": {
     "iopub.execute_input": "2024-02-25T04:12:21.540799Z",
     "iopub.status.busy": "2024-02-25T04:12:21.540020Z",
     "iopub.status.idle": "2024-02-25T04:12:21.544911Z",
     "shell.execute_reply": "2024-02-25T04:12:21.543740Z"
    },
    "papermill": {
     "duration": 0.035933,
     "end_time": "2024-02-25T04:12:21.547231",
     "exception": false,
     "start_time": "2024-02-25T04:12:21.511298",
     "status": "completed"
    },
    "tags": []
   },
   "outputs": [],
   "source": [
    "# prediction_best[prediction_best['Division']=='Pacific'].describe()"
   ]
  },
  {
   "cell_type": "markdown",
   "id": "4341f808",
   "metadata": {
    "papermill": {
     "duration": 0.026477,
     "end_time": "2024-02-25T04:12:21.600497",
     "exception": false,
     "start_time": "2024-02-25T04:12:21.574020",
     "status": "completed"
    },
    "tags": []
   },
   "source": [
    "target lowers for Division=Pacific (lower individual income)"
   ]
  },
  {
   "cell_type": "code",
   "execution_count": 38,
   "id": "c1514896",
   "metadata": {
    "execution": {
     "iopub.execute_input": "2024-02-25T04:12:21.656297Z",
     "iopub.status.busy": "2024-02-25T04:12:21.655564Z",
     "iopub.status.idle": "2024-02-25T04:12:21.660289Z",
     "shell.execute_reply": "2024-02-25T04:12:21.659364Z"
    },
    "papermill": {
     "duration": 0.035443,
     "end_time": "2024-02-25T04:12:21.662545",
     "exception": false,
     "start_time": "2024-02-25T04:12:21.627102",
     "status": "completed"
    },
    "tags": []
   },
   "outputs": [],
   "source": [
    "# df_final.loc[prediction_best['compare']<-0.02,'DiagPeriodL90D'] = df_final['DiagPeriodL90D'].min()\n"
   ]
  },
  {
   "cell_type": "markdown",
   "id": "f1897cd7",
   "metadata": {
    "papermill": {
     "duration": 0.026511,
     "end_time": "2024-02-25T04:12:21.716104",
     "exception": false,
     "start_time": "2024-02-25T04:12:21.689593",
     "status": "completed"
    },
    "tags": []
   },
   "source": [
    "Region & Division"
   ]
  },
  {
   "cell_type": "code",
   "execution_count": 39,
   "id": "0239bb8f",
   "metadata": {
    "execution": {
     "iopub.execute_input": "2024-02-25T04:12:21.773790Z",
     "iopub.status.busy": "2024-02-25T04:12:21.772435Z",
     "iopub.status.idle": "2024-02-25T04:12:21.777724Z",
     "shell.execute_reply": "2024-02-25T04:12:21.776724Z"
    },
    "papermill": {
     "duration": 0.036038,
     "end_time": "2024-02-25T04:12:21.779925",
     "exception": false,
     "start_time": "2024-02-25T04:12:21.743887",
     "status": "completed"
    },
    "tags": []
   },
   "outputs": [],
   "source": [
    "#df_final.quantile(0.25)"
   ]
  },
  {
   "cell_type": "code",
   "execution_count": 40,
   "id": "c38ff58b",
   "metadata": {
    "execution": {
     "iopub.execute_input": "2024-02-25T04:12:21.835536Z",
     "iopub.status.busy": "2024-02-25T04:12:21.835076Z",
     "iopub.status.idle": "2024-02-25T04:12:21.839822Z",
     "shell.execute_reply": "2024-02-25T04:12:21.838703Z"
    },
    "papermill": {
     "duration": 0.035675,
     "end_time": "2024-02-25T04:12:21.842385",
     "exception": false,
     "start_time": "2024-02-25T04:12:21.806710",
     "status": "completed"
    },
    "tags": []
   },
   "outputs": [],
   "source": [
    "# test_outliers.index"
   ]
  },
  {
   "cell_type": "markdown",
   "id": "1a02994b",
   "metadata": {
    "papermill": {
     "duration": 0.026451,
     "end_time": "2024-02-25T04:12:21.896414",
     "exception": false,
     "start_time": "2024-02-25T04:12:21.869963",
     "status": "completed"
    },
    "tags": []
   },
   "source": [
    "Index([  74,  179,  301,  421,  440,  457,  521,  570,  572,  573,  670, 1007,\n",
    "       1023, 1045, 1326, 1338, 1364, 1531, 1586, 1683, 1756, 1843, 1909, 1969,\n",
    "       2042, 2045, 2133, 2266, 2324, 2525, 2612, 2733, 2861, 2921, 2973, 2984,\n",
    "       3011, 3012, 3115, 3134, 3260, 3587, 3795, 3855, 4064, 4235, 4511, 4753,\n",
    "       5171, 5177, 5215, 5422, 5458, 5459, 5559, 5561, 5582, 5758],\n",
    "      dtype='int64')"
   ]
  },
  {
   "cell_type": "code",
   "execution_count": 41,
   "id": "0b19482f",
   "metadata": {
    "execution": {
     "iopub.execute_input": "2024-02-25T04:12:21.953503Z",
     "iopub.status.busy": "2024-02-25T04:12:21.951933Z",
     "iopub.status.idle": "2024-02-25T04:12:21.957233Z",
     "shell.execute_reply": "2024-02-25T04:12:21.956317Z"
    },
    "papermill": {
     "duration": 0.036183,
     "end_time": "2024-02-25T04:12:21.959608",
     "exception": false,
     "start_time": "2024-02-25T04:12:21.923425",
     "status": "completed"
    },
    "tags": []
   },
   "outputs": [],
   "source": [
    "# df_final.loc[test_outliers.index].describe()"
   ]
  },
  {
   "cell_type": "code",
   "execution_count": 42,
   "id": "4c34371b",
   "metadata": {
    "execution": {
     "iopub.execute_input": "2024-02-25T04:12:22.017134Z",
     "iopub.status.busy": "2024-02-25T04:12:22.016697Z",
     "iopub.status.idle": "2024-02-25T04:12:22.020959Z",
     "shell.execute_reply": "2024-02-25T04:12:22.020139Z"
    },
    "papermill": {
     "duration": 0.035808,
     "end_time": "2024-02-25T04:12:22.023414",
     "exception": false,
     "start_time": "2024-02-25T04:12:21.987606",
     "status": "completed"
    },
    "tags": []
   },
   "outputs": [],
   "source": [
    "# outliers[cat_col.columns].describe()"
   ]
  },
  {
   "cell_type": "markdown",
   "id": "546d32ac",
   "metadata": {
    "papermill": {
     "duration": 0.026895,
     "end_time": "2024-02-25T04:12:22.077778",
     "exception": false,
     "start_time": "2024-02-25T04:12:22.050883",
     "status": "completed"
    },
    "tags": []
   },
   "source": [
    "Mode for outliers: Pacific, Region (unchanged): South"
   ]
  },
  {
   "cell_type": "code",
   "execution_count": 43,
   "id": "4a18892c",
   "metadata": {
    "execution": {
     "iopub.execute_input": "2024-02-25T04:12:22.134011Z",
     "iopub.status.busy": "2024-02-25T04:12:22.133240Z",
     "iopub.status.idle": "2024-02-25T04:12:22.137339Z",
     "shell.execute_reply": "2024-02-25T04:12:22.136503Z"
    },
    "papermill": {
     "duration": 0.035504,
     "end_time": "2024-02-25T04:12:22.140242",
     "exception": false,
     "start_time": "2024-02-25T04:12:22.104738",
     "status": "completed"
    },
    "tags": []
   },
   "outputs": [],
   "source": [
    "# outliers.describe()"
   ]
  },
  {
   "cell_type": "markdown",
   "id": "b0a2d3e9",
   "metadata": {
    "papermill": {
     "duration": 0.027139,
     "end_time": "2024-02-25T04:12:22.194429",
     "exception": false,
     "start_time": "2024-02-25T04:12:22.167290",
     "status": "completed"
    },
    "tags": []
   },
   "source": [
    "ensemble weight tuning"
   ]
  },
  {
   "cell_type": "code",
   "execution_count": 44,
   "id": "2c0082a4",
   "metadata": {
    "execution": {
     "iopub.execute_input": "2024-02-25T04:12:22.249889Z",
     "iopub.status.busy": "2024-02-25T04:12:22.249417Z",
     "iopub.status.idle": "2024-02-25T04:12:22.253961Z",
     "shell.execute_reply": "2024-02-25T04:12:22.253044Z"
    },
    "papermill": {
     "duration": 0.035291,
     "end_time": "2024-02-25T04:12:22.256136",
     "exception": false,
     "start_time": "2024-02-25T04:12:22.220845",
     "status": "completed"
    },
    "tags": []
   },
   "outputs": [],
   "source": [
    "# pipeline_cb = make_pipeline(preprocess_cb, catboost(iterations=185, verbose=100, eval_metric='AUC', random_state=40, learning_rate=0.056, cat_features=cat_idx))\n",
    "# pipeline_xgb = make_pipeline(preprocessor, xgb(n_estimators=241, eval_metric='auc', random_state=40, learning_rate=0.01))\n",
    "#pipeline_linear\n"
   ]
  },
  {
   "cell_type": "code",
   "execution_count": 45,
   "id": "18ab0506",
   "metadata": {
    "execution": {
     "iopub.execute_input": "2024-02-25T04:12:22.316356Z",
     "iopub.status.busy": "2024-02-25T04:12:22.315521Z",
     "iopub.status.idle": "2024-02-25T04:12:22.322182Z",
     "shell.execute_reply": "2024-02-25T04:12:22.320938Z"
    },
    "papermill": {
     "duration": 0.04145,
     "end_time": "2024-02-25T04:12:22.324818",
     "exception": false,
     "start_time": "2024-02-25T04:12:22.283368",
     "status": "completed"
    },
    "tags": []
   },
   "outputs": [],
   "source": [
    "# # # Define the parameter search space\n",
    "# def objective(trial):\n",
    "#     STEP_SIZE = 0.10\n",
    "#     weights = []\n",
    "#     all_models_predictions = []\n",
    "#     upper_limit = 1\n",
    "#     weight_cb = trial.suggest_float('weight_cb', 0, upper_limit, step=STEP_SIZE)\n",
    "#     weights.append(weight_cb)\n",
    "#     upper_limit -= weight_cb\n",
    "#     weight_xgb = 100 - sum(weights) # Adjust the range based on your expectations\n",
    "#     weights.append(weight_xgb)\n",
    "# #     weight_rf = 100 - sum(weights)\n",
    "# #     weights.append(weight_rf)\n",
    "\n",
    "#     ensemble_model = VotingClassifier(\n",
    "#         estimators=[\n",
    "#             ('cb', pipeline_cb),\n",
    "#             ('xgb', pipeline_xgb)\n",
    "# #            ('rf', rf_classifier)\n",
    "#         ], voting='soft', weights=weights)\n",
    "\n",
    "#     # Assuming 'trainX' and 'trainy' are your training data\n",
    "#     cv = cross_val_score(ensemble_model, X, target, cv=skf, scoring='roc_auc').mean()\n",
    "\n",
    "#     return cv\n",
    "\n",
    "# # Assuming 'skf' is your StratifiedKFold object\n",
    "# #skf = StratifiedKFold(n_splits=3, shuffle=True, random_state=40)\n",
    "\n",
    "# # Use the 'sampler' parameter for parallelization\n",
    "# study = optuna.create_study(direction='maximize', sampler=optuna.samplers.TPESampler(seed=2024))\n",
    "# study.optimize(objective, n_trials=15)\n",
    "\n",
    "# best_weights = study.best_params\n",
    "# print(\"Best Weights for Ensemble:\", best_weights)"
   ]
  }
 ],
 "metadata": {
  "kaggle": {
   "accelerator": "none",
   "dataSources": [
    {
     "databundleVersionId": 7469115,
     "sourceId": 65862,
     "sourceType": "competition"
    },
    {
     "datasetId": 4424632,
     "sourceId": 7600833,
     "sourceType": "datasetVersion"
    },
    {
     "datasetId": 4457190,
     "sourceId": 7646614,
     "sourceType": "datasetVersion"
    },
    {
     "datasetId": 4457255,
     "sourceId": 7646728,
     "sourceType": "datasetVersion"
    }
   ],
   "dockerImageVersionId": 30626,
   "isGpuEnabled": false,
   "isInternetEnabled": false,
   "language": "python",
   "sourceType": "notebook"
  },
  "kernelspec": {
   "display_name": "Python 3",
   "language": "python",
   "name": "python3"
  },
  "language_info": {
   "codemirror_mode": {
    "name": "ipython",
    "version": 3
   },
   "file_extension": ".py",
   "mimetype": "text/x-python",
   "name": "python",
   "nbconvert_exporter": "python",
   "pygments_lexer": "ipython3",
   "version": "3.10.12"
  },
  "papermill": {
   "default_parameters": {},
   "duration": 33.485774,
   "end_time": "2024-02-25T04:12:23.679848",
   "environment_variables": {},
   "exception": null,
   "input_path": "__notebook__.ipynb",
   "output_path": "__notebook__.ipynb",
   "parameters": {},
   "start_time": "2024-02-25T04:11:50.194074",
   "version": "2.4.0"
  }
 },
 "nbformat": 4,
 "nbformat_minor": 5
}
